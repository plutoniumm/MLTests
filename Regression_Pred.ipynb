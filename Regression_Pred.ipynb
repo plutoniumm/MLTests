{
 "cells": [
  {
   "cell_type": "markdown",
   "metadata": {},
   "source": [
    "### Initialise"
   ]
  },
  {
   "cell_type": "code",
   "execution_count": 103,
   "metadata": {},
   "outputs": [],
   "source": [
    "## Import necessary packages\n",
    "import matplotlib.pyplot as plt; \n",
    "import pandas as pd; \n",
    "import numpy as np; \n",
    "from datetime import datetime; \n",
    "\n",
    "from sklearn.model_selection import train_test_split;\n",
    "from sklearn.tree import DecisionTreeRegressor\n",
    "from sklearn.metrics import r2_score, mean_absolute_error, mean_squared_error\n",
    "\n",
    "import python.data as datameta"
   ]
  },
  {
   "cell_type": "code",
   "execution_count": 104,
   "metadata": {},
   "outputs": [],
   "source": [
    "def rd(a): return round(a,4)\n",
    "def mse(a,b): return rd(mean_squared_error(a,b)); \n",
    "def rmse(a,b): return rd(mse(a,b)**0.5); \n",
    "def mae(a,b): return rd(mean_absolute_error(a,b)); \n",
    "def r2(a,b): return rd(r2_score(a,b)**0.5); \n",
    "def isClose(base, known, tol=0.001): return np.abs((base - known) / base) <= tol\n",
    "\n",
    "def row(name,ytest, yhat, accuracy):\n",
    "    accuracies = list(map(\n",
    "        lambda x: str(round(x*100, 2))+\"%\"\n",
    "        ,accuracy)) \n",
    "    return [\n",
    "        name, \n",
    "        r2(ytest, yhat),mae(ytest, yhat),mse(ytest, yhat), \n",
    "        accuracies[0], accuracies[1], accuracies[2]\n",
    "    ]"
   ]
  },
  {
   "cell_type": "markdown",
   "metadata": {},
   "source": [
    "### Preprocess Data"
   ]
  },
  {
   "cell_type": "code",
   "execution_count": 105,
   "metadata": {},
   "outputs": [
    {
     "name": "stdout",
     "output_type": "stream",
     "text": [
      "Index(['Time (h)', 'Aeration rate(Fg:L/h)', 'Sugar feed rate(Fs:L/h)',\n",
      "       'Acid flow rate(Fa:L/h)', 'Base flow rate(Fb:L/h)',\n",
      "       'Air head pressure(pressure:bar)', 'Substrate concentration(S:g/L)',\n",
      "       'Penicillin concentration(P:g/L)', 'Vessel Volume(V:L)', 'pH(pH:pH)',\n",
      "       'Temperature(T:K)', 'PAA flow(Fpaa:PAA flow (L/h))',\n",
      "       'Oil flow(Foil:L/hr)', 'Ammonia shots(NH3_shots:kgs)', 'Water Flow'],\n",
      "      dtype='object') \n",
      "\n",
      " (113935, 15)\n"
     ]
    },
    {
     "data": {
      "text/html": [
       "<div>\n",
       "<style scoped>\n",
       "    .dataframe tbody tr th:only-of-type {\n",
       "        vertical-align: middle;\n",
       "    }\n",
       "\n",
       "    .dataframe tbody tr th {\n",
       "        vertical-align: top;\n",
       "    }\n",
       "\n",
       "    .dataframe thead th {\n",
       "        text-align: right;\n",
       "    }\n",
       "</style>\n",
       "<table border=\"1\" class=\"dataframe\">\n",
       "  <thead>\n",
       "    <tr style=\"text-align: right;\">\n",
       "      <th></th>\n",
       "      <th>Time (h)</th>\n",
       "      <th>Aeration rate(Fg:L/h)</th>\n",
       "      <th>Sugar feed rate(Fs:L/h)</th>\n",
       "      <th>Acid flow rate(Fa:L/h)</th>\n",
       "      <th>Base flow rate(Fb:L/h)</th>\n",
       "      <th>Air head pressure(pressure:bar)</th>\n",
       "      <th>Substrate concentration(S:g/L)</th>\n",
       "      <th>Penicillin concentration(P:g/L)</th>\n",
       "      <th>Vessel Volume(V:L)</th>\n",
       "      <th>pH(pH:pH)</th>\n",
       "      <th>Temperature(T:K)</th>\n",
       "      <th>PAA flow(Fpaa:PAA flow (L/h))</th>\n",
       "      <th>Oil flow(Foil:L/hr)</th>\n",
       "      <th>Ammonia shots(NH3_shots:kgs)</th>\n",
       "      <th>Water Flow</th>\n",
       "    </tr>\n",
       "  </thead>\n",
       "  <tbody>\n",
       "    <tr>\n",
       "      <th>0</th>\n",
       "      <td>0.000000</td>\n",
       "      <td>0.181818</td>\n",
       "      <td>0.040541</td>\n",
       "      <td>0.000000</td>\n",
       "      <td>0.133858</td>\n",
       "      <td>0.0</td>\n",
       "      <td>0.008306</td>\n",
       "      <td>1.791808e-27</td>\n",
       "      <td>0.049276</td>\n",
       "      <td>0.767126</td>\n",
       "      <td>0.258427</td>\n",
       "      <td>0.333333</td>\n",
       "      <td>0.0</td>\n",
       "      <td>0.0</td>\n",
       "      <td>0.004470</td>\n",
       "    </tr>\n",
       "    <tr>\n",
       "      <th>1</th>\n",
       "      <td>0.000690</td>\n",
       "      <td>0.181818</td>\n",
       "      <td>0.040541</td>\n",
       "      <td>0.000000</td>\n",
       "      <td>0.227649</td>\n",
       "      <td>0.0</td>\n",
       "      <td>0.008715</td>\n",
       "      <td>2.763729e-05</td>\n",
       "      <td>0.049480</td>\n",
       "      <td>0.800686</td>\n",
       "      <td>0.249064</td>\n",
       "      <td>0.333333</td>\n",
       "      <td>0.0</td>\n",
       "      <td>0.0</td>\n",
       "      <td>0.008252</td>\n",
       "    </tr>\n",
       "    <tr>\n",
       "      <th>2</th>\n",
       "      <td>0.001380</td>\n",
       "      <td>0.181818</td>\n",
       "      <td>0.040541</td>\n",
       "      <td>0.000000</td>\n",
       "      <td>0.241342</td>\n",
       "      <td>0.0</td>\n",
       "      <td>0.009107</td>\n",
       "      <td>2.761905e-05</td>\n",
       "      <td>0.049685</td>\n",
       "      <td>0.836653</td>\n",
       "      <td>0.243446</td>\n",
       "      <td>0.333333</td>\n",
       "      <td>0.0</td>\n",
       "      <td>0.0</td>\n",
       "      <td>0.004363</td>\n",
       "    </tr>\n",
       "    <tr>\n",
       "      <th>3</th>\n",
       "      <td>0.002070</td>\n",
       "      <td>0.181818</td>\n",
       "      <td>0.040541</td>\n",
       "      <td>0.000000</td>\n",
       "      <td>0.168071</td>\n",
       "      <td>0.0</td>\n",
       "      <td>0.009492</td>\n",
       "      <td>2.760247e-05</td>\n",
       "      <td>0.049787</td>\n",
       "      <td>0.860582</td>\n",
       "      <td>0.237828</td>\n",
       "      <td>0.333333</td>\n",
       "      <td>0.0</td>\n",
       "      <td>0.0</td>\n",
       "      <td>0.001972</td>\n",
       "    </tr>\n",
       "    <tr>\n",
       "      <th>4</th>\n",
       "      <td>0.002761</td>\n",
       "      <td>0.181818</td>\n",
       "      <td>0.040541</td>\n",
       "      <td>0.039866</td>\n",
       "      <td>0.084036</td>\n",
       "      <td>0.0</td>\n",
       "      <td>0.009864</td>\n",
       "      <td>2.758782e-05</td>\n",
       "      <td>0.049838</td>\n",
       "      <td>0.865835</td>\n",
       "      <td>0.234082</td>\n",
       "      <td>0.333333</td>\n",
       "      <td>0.0</td>\n",
       "      <td>0.0</td>\n",
       "      <td>0.000502</td>\n",
       "    </tr>\n",
       "  </tbody>\n",
       "</table>\n",
       "</div>"
      ],
      "text/plain": [
       "   Time (h)  Aeration rate(Fg:L/h)  Sugar feed rate(Fs:L/h)  \\\n",
       "0  0.000000               0.181818                 0.040541   \n",
       "1  0.000690               0.181818                 0.040541   \n",
       "2  0.001380               0.181818                 0.040541   \n",
       "3  0.002070               0.181818                 0.040541   \n",
       "4  0.002761               0.181818                 0.040541   \n",
       "\n",
       "   Acid flow rate(Fa:L/h)  Base flow rate(Fb:L/h)  \\\n",
       "0                0.000000                0.133858   \n",
       "1                0.000000                0.227649   \n",
       "2                0.000000                0.241342   \n",
       "3                0.000000                0.168071   \n",
       "4                0.039866                0.084036   \n",
       "\n",
       "   Air head pressure(pressure:bar)  Substrate concentration(S:g/L)  \\\n",
       "0                              0.0                        0.008306   \n",
       "1                              0.0                        0.008715   \n",
       "2                              0.0                        0.009107   \n",
       "3                              0.0                        0.009492   \n",
       "4                              0.0                        0.009864   \n",
       "\n",
       "   Penicillin concentration(P:g/L)  Vessel Volume(V:L)  pH(pH:pH)  \\\n",
       "0                     1.791808e-27            0.049276   0.767126   \n",
       "1                     2.763729e-05            0.049480   0.800686   \n",
       "2                     2.761905e-05            0.049685   0.836653   \n",
       "3                     2.760247e-05            0.049787   0.860582   \n",
       "4                     2.758782e-05            0.049838   0.865835   \n",
       "\n",
       "   Temperature(T:K)  PAA flow(Fpaa:PAA flow (L/h))  Oil flow(Foil:L/hr)  \\\n",
       "0          0.258427                       0.333333                  0.0   \n",
       "1          0.249064                       0.333333                  0.0   \n",
       "2          0.243446                       0.333333                  0.0   \n",
       "3          0.237828                       0.333333                  0.0   \n",
       "4          0.234082                       0.333333                  0.0   \n",
       "\n",
       "   Ammonia shots(NH3_shots:kgs)  Water Flow  \n",
       "0                           0.0    0.004470  \n",
       "1                           0.0    0.008252  \n",
       "2                           0.0    0.004363  \n",
       "3                           0.0    0.001972  \n",
       "4                           0.0    0.000502  "
      ]
     },
     "execution_count": 105,
     "metadata": {},
     "output_type": "execute_result"
    }
   ],
   "source": [
    "data = datameta.processData('data/clean_data.csv'); \n",
    "data.head()"
   ]
  },
  {
   "cell_type": "code",
   "execution_count": 106,
   "metadata": {},
   "outputs": [
    {
     "name": "stdout",
     "output_type": "stream",
     "text": [
      "x:  14  keys in  14 cols\n",
      "y:  1  keys in  1 cols\n"
     ]
    }
   ],
   "source": [
    "# Split into x and y\n",
    "xkeys = [\n",
    "    \"Time (h)\", \"Aeration rate(Fg:L/h)\", \"Sugar feed rate(Fs:L/h)\",\"Acid flow rate(Fa:L/h)\",\n",
    "    \"Base flow rate(Fb:L/h)\",\"Water Flow\",\"Substrate concentration(S:g/L)\",\"PAA flow(Fpaa:PAA flow (L/h))\",\n",
    "    \"Oil flow(Foil:L/hr)\", \"Ammonia shots(NH3_shots:kgs)\",\n",
    "    # Converted variables\n",
    "    \"Air head pressure(pressure:bar)\", \"Temperature(T:K)\", \"pH(pH:pH)\", \"Vessel Volume(V:L)\"\n",
    "]\n",
    "(x,y) = datameta.xy_split(data,xkeys)\n",
    "xtrain, xtest, ytrain, ytest=train_test_split(x, y, test_size=0.11)\n",
    "ytest = ytest.to_numpy().flatten(); "
   ]
  },
  {
   "cell_type": "code",
   "execution_count": 107,
   "metadata": {},
   "outputs": [
    {
     "name": "stdout",
     "output_type": "stream",
     "text": [
      "Train: 100.0%\n",
      " Test: 99.42%\n"
     ]
    }
   ],
   "source": [
    "model = DecisionTreeRegressor()\n",
    "model.fit(xtrain,ytrain)\n",
    "\n",
    "def pct(val): return round(val*100,2); \n",
    "def pcts(val): return str(round(val*100,2))+\"%\"; \n",
    "\n",
    "print(\n",
    "    f\"Train: {pcts(model.score(xtrain,ytrain))}\\n\",\n",
    "    f\"Test: {pcts(model.score(xtest,ytest))}\"\n",
    ")"
   ]
  },
  {
   "cell_type": "code",
   "execution_count": 108,
   "metadata": {},
   "outputs": [
    {
     "data": {
      "text/plain": [
       "<matplotlib.collections.PathCollection at 0x17d050880>"
      ]
     },
     "execution_count": 108,
     "metadata": {},
     "output_type": "execute_result"
    },
    {
     "data": {
      "image/png": "[encoded data removed]",
      "text/plain": [
       "<Figure size 640x480 with 1 Axes>"
      ]
     },
     "metadata": {},
     "output_type": "display_data"
    }
   ],
   "source": [
    "prediction=model.predict(xtest)\n",
    "plt.scatter(ytest,prediction)"
   ]
  },
  {
   "cell_type": "code",
   "execution_count": 109,
   "metadata": {},
   "outputs": [],
   "source": [
    "parameters={\n",
    "    \"splitter\":[\"best\",\"random\"],\n",
    "    \"max_depth\" : [1,3,5,7,9,11,12],\n",
    "    \"min_samples_leaf\":[1,2,3,4,5,6,7,8,9,10],\n",
    "    \"min_weight_fraction_leaf\":[0.1,0.2,0.3,0.4,0.5,0.6,0.7,0.8,0.9],\n",
    "    \"max_features\":[1.0,\"log2\",\"sqrt\",None],\n",
    "    \"max_leaf_nodes\":[None,10,20,30,40,50,60,70,80,90] \n",
    "}"
   ]
  },
  {
   "cell_type": "code",
   "execution_count": 110,
   "metadata": {},
   "outputs": [],
   "source": [
    "from sklearn.model_selection import GridSearchCV; \n",
    "\n",
    "tuning_model=GridSearchCV(model,param_grid=parameters,scoring='neg_mean_squared_error',cv=3)\n",
    "\n",
    "tuning_model.fit(x, y)"
   ]
  },
  {
   "cell_type": "code",
   "execution_count": 115,
   "metadata": {},
   "outputs": [
    {
     "name": "stdout",
     "output_type": "stream",
     "text": [
      "BEST:  {'max_depth': 5, 'max_features': 1.0, 'max_leaf_nodes': None, 'min_samples_leaf': 1, 'min_weight_fraction_leaf': 0.1, 'splitter': 'best'} -0.007800699735532828\n",
      "[{\"max_depth\": 9, \"max_features\": 1.0, \"max_leaf_nodes\": null, \"min_samples_leaf\": 2, \"min_weight_fraction_leaf\": 0.1, \"splitter\": \"best\"}, {\"max_depth\": 11, \"max_features\": null, \"max_leaf_nodes\": 30, \"min_samples_leaf\": 6, \"min_weight_fraction_leaf\": 0.1, \"splitter\": \"best\"}, {\"max_depth\": 11, \"max_features\": 1.0, \"max_leaf_nodes\": 90, \"min_samples_leaf\": 9, \"min_weight_fraction_leaf\": 0.1, \"splitter\": \"best\"}, {\"max_depth\": 7, \"max_features\": null, \"max_leaf_nodes\": 80, \"min_samples_leaf\": 1, \"min_weight_fraction_leaf\": 0.1, \"splitter\": \"best\"}, {\"max_depth\": 12, \"max_features\": null, \"max_leaf_nodes\": 60, \"min_samples_leaf\": 4, \"min_weight_fraction_leaf\": 0.1, \"splitter\": \"best\"}]\n"
     ]
    }
   ],
   "source": [
    "import json\n",
    "\n",
    "print(\"BEST: \",tuning_model.best_params_, tuning_model.best_score_)\n",
    "results = pd.DataFrame(tuning_model.cv_results_)\n",
    "results.sort_values(by='rank_test_score', inplace=True)\n",
    "configs = results[:5][\"params\"].to_numpy().tolist()\n",
    "configs = json.dumps(configs)\n",
    "print(configs)\n",
    "\n",
    "file = open(\"data/dtr_cfgs.json\", \"w+\")\n",
    "content = str(configs)\n",
    "file.write(content)\n",
    "file.close()"
   ]
  },
  {
   "cell_type": "code",
   "execution_count": 118,
   "metadata": {},
   "outputs": [],
   "source": [
    "file = open(\"data/dtr_cfgs.json\", \"r\")\n",
    "content = file.read()\n",
    "file.close()\n",
    "configs = json.loads(content)"
   ]
  },
  {
   "cell_type": "code",
   "execution_count": 128,
   "metadata": {},
   "outputs": [
    {
     "name": "stdout",
     "output_type": "stream",
     "text": [
      "Running: {'max_depth': 9, 'max_features': 1.0, 'max_leaf_nodes': None, 'min_samples_leaf': 2, 'min_weight_fraction_leaf': 0.1, 'splitter': 'best'}\n",
      "Accuracies: [0.0047873613659937765, 0.044442671347642224, 0.3876166919332961]\n",
      "Running: {'max_depth': 11, 'max_features': None, 'max_leaf_nodes': 30, 'min_samples_leaf': 6, 'min_weight_fraction_leaf': 0.1, 'splitter': 'best'}\n",
      "Accuracies: [0.0047873613659937765, 0.044442671347642224, 0.3876166919332961]\n",
      "Running: {'max_depth': 11, 'max_features': 1.0, 'max_leaf_nodes': 90, 'min_samples_leaf': 9, 'min_weight_fraction_leaf': 0.1, 'splitter': 'best'}\n",
      "Accuracies: [0.0047873613659937765, 0.044442671347642224, 0.3876166919332961]\n",
      "Running: {'max_depth': 7, 'max_features': None, 'max_leaf_nodes': 80, 'min_samples_leaf': 1, 'min_weight_fraction_leaf': 0.1, 'splitter': 'best'}\n",
      "Accuracies: [0.0047873613659937765, 0.044442671347642224, 0.3876166919332961]\n",
      "Running: {'max_depth': 12, 'max_features': None, 'max_leaf_nodes': 60, 'min_samples_leaf': 4, 'min_weight_fraction_leaf': 0.1, 'splitter': 'best'}\n",
      "Accuracies: [0.0047873613659937765, 0.044442671347642224, 0.3876166919332961]\n",
      "Running: NULL\n",
      "Accuracies: [0.1926912949812495, 0.7012686507619883, 0.9229234820075002]\n"
     ]
    },
    {
     "data": {
      "text/html": [
       "<div>\n",
       "<style scoped>\n",
       "    .dataframe tbody tr th:only-of-type {\n",
       "        vertical-align: middle;\n",
       "    }\n",
       "\n",
       "    .dataframe tbody tr th {\n",
       "        vertical-align: top;\n",
       "    }\n",
       "\n",
       "    .dataframe thead th {\n",
       "        text-align: right;\n",
       "    }\n",
       "</style>\n",
       "<table border=\"1\" class=\"dataframe\">\n",
       "  <thead>\n",
       "    <tr style=\"text-align: right;\">\n",
       "      <th></th>\n",
       "      <th></th>\n",
       "      <th>R2</th>\n",
       "      <th>MAE</th>\n",
       "      <th>MSE</th>\n",
       "      <th>Acc@0.1%</th>\n",
       "      <th>Acc@1%</th>\n",
       "      <th>Acc@10%</th>\n",
       "    </tr>\n",
       "  </thead>\n",
       "  <tbody>\n",
       "    <tr>\n",
       "      <th>0</th>\n",
       "      <td>{\"max_depth\": 9, \"max_features\": 1.0, \"max_lea...</td>\n",
       "      <td>0.9971</td>\n",
       "      <td>0.0077</td>\n",
       "      <td>0.0004</td>\n",
       "      <td>0.48%</td>\n",
       "      <td>4.44%</td>\n",
       "      <td>38.76%</td>\n",
       "    </tr>\n",
       "    <tr>\n",
       "      <th>1</th>\n",
       "      <td>{\"max_depth\": 11, \"max_features\": null, \"max_l...</td>\n",
       "      <td>0.9971</td>\n",
       "      <td>0.0077</td>\n",
       "      <td>0.0004</td>\n",
       "      <td>0.48%</td>\n",
       "      <td>4.44%</td>\n",
       "      <td>38.76%</td>\n",
       "    </tr>\n",
       "    <tr>\n",
       "      <th>2</th>\n",
       "      <td>{\"max_depth\": 11, \"max_features\": 1.0, \"max_le...</td>\n",
       "      <td>0.9971</td>\n",
       "      <td>0.0077</td>\n",
       "      <td>0.0004</td>\n",
       "      <td>0.48%</td>\n",
       "      <td>4.44%</td>\n",
       "      <td>38.76%</td>\n",
       "    </tr>\n",
       "    <tr>\n",
       "      <th>3</th>\n",
       "      <td>{\"max_depth\": 7, \"max_features\": null, \"max_le...</td>\n",
       "      <td>0.9971</td>\n",
       "      <td>0.0077</td>\n",
       "      <td>0.0004</td>\n",
       "      <td>0.48%</td>\n",
       "      <td>4.44%</td>\n",
       "      <td>38.76%</td>\n",
       "    </tr>\n",
       "    <tr>\n",
       "      <th>4</th>\n",
       "      <td>{\"max_depth\": 12, \"max_features\": null, \"max_l...</td>\n",
       "      <td>0.9971</td>\n",
       "      <td>0.0077</td>\n",
       "      <td>0.0004</td>\n",
       "      <td>0.48%</td>\n",
       "      <td>4.44%</td>\n",
       "      <td>38.76%</td>\n",
       "    </tr>\n",
       "    <tr>\n",
       "      <th>5</th>\n",
       "      <td>None</td>\n",
       "      <td>0.9971</td>\n",
       "      <td>0.0077</td>\n",
       "      <td>0.0004</td>\n",
       "      <td>19.27%</td>\n",
       "      <td>70.13%</td>\n",
       "      <td>92.29%</td>\n",
       "    </tr>\n",
       "  </tbody>\n",
       "</table>\n",
       "</div>"
      ],
      "text/plain": [
       "                                                          R2     MAE     MSE  \\\n",
       "0  {\"max_depth\": 9, \"max_features\": 1.0, \"max_lea...  0.9971  0.0077  0.0004   \n",
       "1  {\"max_depth\": 11, \"max_features\": null, \"max_l...  0.9971  0.0077  0.0004   \n",
       "2  {\"max_depth\": 11, \"max_features\": 1.0, \"max_le...  0.9971  0.0077  0.0004   \n",
       "3  {\"max_depth\": 7, \"max_features\": null, \"max_le...  0.9971  0.0077  0.0004   \n",
       "4  {\"max_depth\": 12, \"max_features\": null, \"max_l...  0.9971  0.0077  0.0004   \n",
       "5                                               None  0.9971  0.0077  0.0004   \n",
       "\n",
       "  Acc@0.1%  Acc@1% Acc@10%  \n",
       "0    0.48%   4.44%  38.76%  \n",
       "1    0.48%   4.44%  38.76%  \n",
       "2    0.48%   4.44%  38.76%  \n",
       "3    0.48%   4.44%  38.76%  \n",
       "4    0.48%   4.44%  38.76%  \n",
       "5   19.27%  70.13%  92.29%  "
      ]
     },
     "execution_count": 128,
     "metadata": {},
     "output_type": "execute_result"
    }
   ],
   "source": [
    "import json\n",
    "table = [0,0,0,0,0, 0]\n",
    "\n",
    "for index,config in enumerate(configs):\n",
    "    print(f\"Running: {config}\")\n",
    "    tmodel = DecisionTreeRegressor(**config); \n",
    "    tmodel.fit(xtrain,ytrain); \n",
    "\n",
    "    yhat = tmodel.predict(xtest)\n",
    "\n",
    "    accuracies = list(map(\n",
    "        lambda x: np.sum(isClose(yhat, ytest, x))/len(ytest)\n",
    "    ,[0.001, 0.01, 0.1])) \n",
    "    print(f\"Accuracies: {accuracies}\")\n",
    "    table[index] = row(json.dumps(config), ytest, model.predict(xtest), accuracies)\n",
    "\n",
    "print(f\"Running: NULL\")\n",
    "tmodel = DecisionTreeRegressor(); \n",
    "tmodel.fit(xtrain,ytrain); \n",
    "yhat = tmodel.predict(xtest)\n",
    "accuracies = list(map(\n",
    "        lambda x: np.sum(isClose(yhat, ytest, x))/len(ytest)\n",
    "    ,[0.001, 0.01, 0.1])) \n",
    "print(f\"Accuracies: {accuracies}\")\n",
    "table[len(table)-1] = row(\"None\", ytest, model.predict(xtest), accuracies)\n",
    "\n",
    "table = pd.DataFrame(table, columns=[\"\",\"R2\",\"MAE\", \"MSE\",\"Acc@0.1%\", \"Acc@1%\", \"Acc@10%\"]); \n",
    "table"
   ]
  },
  {
   "cell_type": "code",
   "execution_count": null,
   "metadata": {},
   "outputs": [],
   "source": []
  }
 ],
 "metadata": {
  "hide_input": true,
  "kernelspec": {
   "display_name": "Python 3.10.7 64-bit",
   "language": "python",
   "name": "python3"
  },
  "language_info": {
   "codemirror_mode": {
    "name": "ipython",
    "version": 3
   },
   "file_extension": ".py",
   "mimetype": "text/x-python",
   "name": "python",
   "nbconvert_exporter": "python",
   "pygments_lexer": "ipython3",
   "version": "3.10.8"
  },
  "toc": {
   "base_numbering": 1,
   "nav_menu": {},
   "number_sections": true,
   "sideBar": true,
   "skip_h1_title": false,
   "title_cell": "Table of Contents",
   "title_sidebar": "Contents",
   "toc_cell": false,
   "toc_position": {},
   "toc_section_display": true,
   "toc_window_display": true
  },
  "vscode": {
   "interpreter": {
    "hash": "b0fa6594d8f4cbf19f97940f81e996739fb7646882a419484c72d19e05852a7e"
   }
  }
 },
 "nbformat": 4,
 "nbformat_minor": 2
}
