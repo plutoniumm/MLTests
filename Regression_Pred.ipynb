{
 "cells": [
  {
   "cell_type": "markdown",
   "metadata": {},
   "source": [
    "### Initialise"
   ]
  },
  {
   "cell_type": "code",
   "execution_count": 178,
   "metadata": {},
   "outputs": [],
   "source": [
    "## Import necessary packages\n",
    "import matplotlib.pyplot as plt; \n",
    "import numpy as np; \n",
    "from sklearn.linear_model import SGDRegressor;\n",
    "from sklearn.metrics import mean_squared_error;\n",
    "from sklearn.model_selection import train_test_split,cross_val_score;\n",
    "import torch;\n",
    "\n",
    "import python.data as datameta"
   ]
  },
  {
   "cell_type": "code",
   "execution_count": 179,
   "metadata": {},
   "outputs": [
    {
     "name": "stdout",
     "output_type": "stream",
     "text": [
      "Using cpu device\n"
     ]
    }
   ],
   "source": [
    "# Basic Initialisations\n",
    "device = 'cuda' if torch.cuda.is_available() else 'cpu'\n",
    "print('Using {} device'.format(device))"
   ]
  },
  {
   "cell_type": "markdown",
   "metadata": {},
   "source": [
    "### Preprocess Data"
   ]
  },
  {
   "cell_type": "code",
   "execution_count": 180,
   "metadata": {},
   "outputs": [
    {
     "name": "stdout",
     "output_type": "stream",
     "text": [
      "Index(['Time (h)', 'Aeration rate(Fg:L/h)', 'Sugar feed rate(Fs:L/h)',\n",
      "       'Acid flow rate(Fa:L/h)', 'Base flow rate(Fb:L/h)',\n",
      "       'Heating/cooling water flow rate(Fc:L/h)',\n",
      "       'Heating water flow rate(Fh:L/h)',\n",
      "       'Water for injection/dilution(Fw:L/h)',\n",
      "       'Air head pressure(pressure:bar)', 'Substrate concentration(S:g/L)',\n",
      "       'Penicillin concentration(P:g/L)', 'Vessel Volume(V:L)', 'pH(pH:pH)',\n",
      "       'Temperature(T:K)', 'PAA flow(Fpaa:PAA flow (L/h))',\n",
      "       'Oil flow(Foil:L/hr)', 'Oxygen Uptake Rate(OUR:(g min^{-1}))',\n",
      "       'Ammonia shots(NH3_shots:kgs)',\n",
      "       '0 - Recipe driven 1 - Operator controlled(Control_ref:Control ref)'],\n",
      "      dtype='object') \n",
      "\n",
      " (113935, 19)\n"
     ]
    },
    {
     "data": {
      "text/html": [
       "<div>\n",
       "<style scoped>\n",
       "    .dataframe tbody tr th:only-of-type {\n",
       "        vertical-align: middle;\n",
       "    }\n",
       "\n",
       "    .dataframe tbody tr th {\n",
       "        vertical-align: top;\n",
       "    }\n",
       "\n",
       "    .dataframe thead th {\n",
       "        text-align: right;\n",
       "    }\n",
       "</style>\n",
       "<table border=\"1\" class=\"dataframe\">\n",
       "  <thead>\n",
       "    <tr style=\"text-align: right;\">\n",
       "      <th></th>\n",
       "      <th>Time (h)</th>\n",
       "      <th>Aeration rate(Fg:L/h)</th>\n",
       "      <th>Sugar feed rate(Fs:L/h)</th>\n",
       "      <th>Acid flow rate(Fa:L/h)</th>\n",
       "      <th>Base flow rate(Fb:L/h)</th>\n",
       "      <th>Heating/cooling water flow rate(Fc:L/h)</th>\n",
       "      <th>Heating water flow rate(Fh:L/h)</th>\n",
       "      <th>Water for injection/dilution(Fw:L/h)</th>\n",
       "      <th>Air head pressure(pressure:bar)</th>\n",
       "      <th>Substrate concentration(S:g/L)</th>\n",
       "      <th>Penicillin concentration(P:g/L)</th>\n",
       "      <th>Vessel Volume(V:L)</th>\n",
       "      <th>pH(pH:pH)</th>\n",
       "      <th>Temperature(T:K)</th>\n",
       "      <th>PAA flow(Fpaa:PAA flow (L/h))</th>\n",
       "      <th>Oil flow(Foil:L/hr)</th>\n",
       "      <th>Oxygen Uptake Rate(OUR:(g min^{-1}))</th>\n",
       "      <th>Ammonia shots(NH3_shots:kgs)</th>\n",
       "      <th>0 - Recipe driven 1 - Operator controlled(Control_ref:Control ref)</th>\n",
       "    </tr>\n",
       "  </thead>\n",
       "  <tbody>\n",
       "    <tr>\n",
       "      <th>0</th>\n",
       "      <td>0.000000</td>\n",
       "      <td>0.181818</td>\n",
       "      <td>0.040541</td>\n",
       "      <td>0.000000</td>\n",
       "      <td>0.133858</td>\n",
       "      <td>0.006556</td>\n",
       "      <td>0.0</td>\n",
       "      <td>0.0</td>\n",
       "      <td>0.0</td>\n",
       "      <td>0.008306</td>\n",
       "      <td>1.791808e-27</td>\n",
       "      <td>0.049276</td>\n",
       "      <td>0.767126</td>\n",
       "      <td>0.258427</td>\n",
       "      <td>0.333333</td>\n",
       "      <td>0.0</td>\n",
       "      <td>0.215230</td>\n",
       "      <td>0.0</td>\n",
       "      <td>0.0</td>\n",
       "    </tr>\n",
       "    <tr>\n",
       "      <th>1</th>\n",
       "      <td>0.000690</td>\n",
       "      <td>0.181818</td>\n",
       "      <td>0.040541</td>\n",
       "      <td>0.000000</td>\n",
       "      <td>0.227649</td>\n",
       "      <td>0.012103</td>\n",
       "      <td>0.0</td>\n",
       "      <td>0.0</td>\n",
       "      <td>0.0</td>\n",
       "      <td>0.008715</td>\n",
       "      <td>2.763729e-05</td>\n",
       "      <td>0.049480</td>\n",
       "      <td>0.800686</td>\n",
       "      <td>0.249064</td>\n",
       "      <td>0.333333</td>\n",
       "      <td>0.0</td>\n",
       "      <td>0.162455</td>\n",
       "      <td>0.0</td>\n",
       "      <td>0.0</td>\n",
       "    </tr>\n",
       "    <tr>\n",
       "      <th>2</th>\n",
       "      <td>0.001380</td>\n",
       "      <td>0.181818</td>\n",
       "      <td>0.040541</td>\n",
       "      <td>0.000000</td>\n",
       "      <td>0.241342</td>\n",
       "      <td>0.006399</td>\n",
       "      <td>0.0</td>\n",
       "      <td>0.0</td>\n",
       "      <td>0.0</td>\n",
       "      <td>0.009107</td>\n",
       "      <td>2.761905e-05</td>\n",
       "      <td>0.049685</td>\n",
       "      <td>0.836653</td>\n",
       "      <td>0.243446</td>\n",
       "      <td>0.333333</td>\n",
       "      <td>0.0</td>\n",
       "      <td>0.150004</td>\n",
       "      <td>0.0</td>\n",
       "      <td>0.0</td>\n",
       "    </tr>\n",
       "    <tr>\n",
       "      <th>3</th>\n",
       "      <td>0.002070</td>\n",
       "      <td>0.181818</td>\n",
       "      <td>0.040541</td>\n",
       "      <td>0.000000</td>\n",
       "      <td>0.168071</td>\n",
       "      <td>0.002893</td>\n",
       "      <td>0.0</td>\n",
       "      <td>0.0</td>\n",
       "      <td>0.0</td>\n",
       "      <td>0.009492</td>\n",
       "      <td>2.760247e-05</td>\n",
       "      <td>0.049787</td>\n",
       "      <td>0.860582</td>\n",
       "      <td>0.237828</td>\n",
       "      <td>0.333333</td>\n",
       "      <td>0.0</td>\n",
       "      <td>0.148100</td>\n",
       "      <td>0.0</td>\n",
       "      <td>0.0</td>\n",
       "    </tr>\n",
       "    <tr>\n",
       "      <th>4</th>\n",
       "      <td>0.002761</td>\n",
       "      <td>0.181818</td>\n",
       "      <td>0.040541</td>\n",
       "      <td>0.039866</td>\n",
       "      <td>0.084036</td>\n",
       "      <td>0.000736</td>\n",
       "      <td>0.0</td>\n",
       "      <td>0.0</td>\n",
       "      <td>0.0</td>\n",
       "      <td>0.009864</td>\n",
       "      <td>2.758782e-05</td>\n",
       "      <td>0.049838</td>\n",
       "      <td>0.865835</td>\n",
       "      <td>0.234082</td>\n",
       "      <td>0.333333</td>\n",
       "      <td>0.0</td>\n",
       "      <td>0.148945</td>\n",
       "      <td>0.0</td>\n",
       "      <td>0.0</td>\n",
       "    </tr>\n",
       "  </tbody>\n",
       "</table>\n",
       "</div>"
      ],
      "text/plain": [
       "   Time (h)  Aeration rate(Fg:L/h)  Sugar feed rate(Fs:L/h)  \\\n",
       "0  0.000000               0.181818                 0.040541   \n",
       "1  0.000690               0.181818                 0.040541   \n",
       "2  0.001380               0.181818                 0.040541   \n",
       "3  0.002070               0.181818                 0.040541   \n",
       "4  0.002761               0.181818                 0.040541   \n",
       "\n",
       "   Acid flow rate(Fa:L/h)  Base flow rate(Fb:L/h)  \\\n",
       "0                0.000000                0.133858   \n",
       "1                0.000000                0.227649   \n",
       "2                0.000000                0.241342   \n",
       "3                0.000000                0.168071   \n",
       "4                0.039866                0.084036   \n",
       "\n",
       "   Heating/cooling water flow rate(Fc:L/h)  Heating water flow rate(Fh:L/h)  \\\n",
       "0                                 0.006556                              0.0   \n",
       "1                                 0.012103                              0.0   \n",
       "2                                 0.006399                              0.0   \n",
       "3                                 0.002893                              0.0   \n",
       "4                                 0.000736                              0.0   \n",
       "\n",
       "   Water for injection/dilution(Fw:L/h)  Air head pressure(pressure:bar)  \\\n",
       "0                                   0.0                              0.0   \n",
       "1                                   0.0                              0.0   \n",
       "2                                   0.0                              0.0   \n",
       "3                                   0.0                              0.0   \n",
       "4                                   0.0                              0.0   \n",
       "\n",
       "   Substrate concentration(S:g/L)  Penicillin concentration(P:g/L)  \\\n",
       "0                        0.008306                     1.791808e-27   \n",
       "1                        0.008715                     2.763729e-05   \n",
       "2                        0.009107                     2.761905e-05   \n",
       "3                        0.009492                     2.760247e-05   \n",
       "4                        0.009864                     2.758782e-05   \n",
       "\n",
       "   Vessel Volume(V:L)  pH(pH:pH)  Temperature(T:K)  \\\n",
       "0            0.049276   0.767126          0.258427   \n",
       "1            0.049480   0.800686          0.249064   \n",
       "2            0.049685   0.836653          0.243446   \n",
       "3            0.049787   0.860582          0.237828   \n",
       "4            0.049838   0.865835          0.234082   \n",
       "\n",
       "   PAA flow(Fpaa:PAA flow (L/h))  Oil flow(Foil:L/hr)  \\\n",
       "0                       0.333333                  0.0   \n",
       "1                       0.333333                  0.0   \n",
       "2                       0.333333                  0.0   \n",
       "3                       0.333333                  0.0   \n",
       "4                       0.333333                  0.0   \n",
       "\n",
       "   Oxygen Uptake Rate(OUR:(g min^{-1}))  Ammonia shots(NH3_shots:kgs)  \\\n",
       "0                              0.215230                           0.0   \n",
       "1                              0.162455                           0.0   \n",
       "2                              0.150004                           0.0   \n",
       "3                              0.148100                           0.0   \n",
       "4                              0.148945                           0.0   \n",
       "\n",
       "   0 - Recipe driven 1 - Operator controlled(Control_ref:Control ref)  \n",
       "0                                                0.0                   \n",
       "1                                                0.0                   \n",
       "2                                                0.0                   \n",
       "3                                                0.0                   \n",
       "4                                                0.0                   "
      ]
     },
     "execution_count": 180,
     "metadata": {},
     "output_type": "execute_result"
    }
   ],
   "source": [
    "data = datameta.processData('data/clean_data.csv'); \n",
    "data.head()"
   ]
  },
  {
   "cell_type": "code",
   "execution_count": 181,
   "metadata": {},
   "outputs": [
    {
     "name": "stdout",
     "output_type": "stream",
     "text": [
      "x:  18  keys in  18 cols\n",
      "y:  1  keys in  1 cols\n"
     ]
    }
   ],
   "source": [
    "# Split into x and y\n",
    "x_keys = [\n",
    "    \"Time (h)\", \"Aeration rate(Fg:L/h)\", \"Sugar feed rate(Fs:L/h)\",\"Acid flow rate(Fa:L/h)\",\n",
    "    \"Base flow rate(Fb:L/h)\",\"Heating/cooling water flow rate(Fc:L/h)\",\"Heating water flow rate(Fh:L/h)\",\n",
    "    \"Water for injection/dilution(Fw:L/h)\",\"Substrate concentration(S:g/L)\",\"PAA flow(Fpaa:PAA flow (L/h))\",\n",
    "    \"Oil flow(Foil:L/hr)\", \"Oxygen Uptake Rate(OUR:(g min^{-1}))\", \"Ammonia shots(NH3_shots:kgs)\",\n",
    "    # Converted variables\n",
    "    \"0 - Recipe driven 1 - Operator controlled(Control_ref:Control ref)\",\n",
    "    \"Air head pressure(pressure:bar)\", \"Temperature(T:K)\", \"pH(pH:pH)\", \"Vessel Volume(V:L)\"\n",
    "]\n",
    "(x,y) = datameta.xy_split(data,x_keys)"
   ]
  },
  {
   "cell_type": "code",
   "execution_count": 182,
   "metadata": {},
   "outputs": [
    {
     "name": "stdout",
     "output_type": "stream",
     "text": [
      "R-squared: 0.9717380346977327\n"
     ]
    }
   ],
   "source": [
    "xtrain, xtest, ytrain, ytest=train_test_split(x, y, test_size=0.1)\n",
    "sgdr = SGDRegressor(loss='squared_error')\n",
    "sgdr.fit(xtrain, ytrain.values.ravel())\n",
    "\n",
    "score = sgdr.score(xtrain, ytrain)\n",
    "print(\"R-squared:\", score)\n",
    "# cv_score = cross_val_score(sgdr, x, y.values.ravel(), cv=13)\n",
    "# print(\"CV mean score: \", cv_score.mean())"
   ]
  },
  {
   "cell_type": "code",
   "execution_count": 184,
   "metadata": {},
   "outputs": [
    {
     "name": "stdout",
     "output_type": "stream",
     "text": [
      "[8.359e-01 1.372e-01 3.970e-01 ... 1.600e-01 1.338e-01 6.199e-04] [0.741   0.162   0.4087  ... 0.2238  0.1493  0.04852]\n",
      "RMSE:  0.04644578886950826\n",
      "10.0 %\n"
     ]
    }
   ],
   "source": [
    "ypred = sgdr.predict(xtest)\n",
    "\n",
    "ypred = ypred.astype(np.float16)\n",
    "ytest = ytest.to_numpy().flatten().astype(np.float16)\n",
    "\n",
    "print(ytest, ypred)\n",
    "\n",
    "mse = mean_squared_error(ytest, ypred)\n",
    "print(\"RMSE: \", mse**0.5)\n",
    "\n",
    "def isClose(base, known):\n",
    "    return np.abs((base - known) / base) <= 0.01\n",
    "\n",
    "accuracy = round(np.sum(isClose(ypred, ytest))/len(ytest), 1)\n",
    "print(accuracy*100, \"%\")"
   ]
  },
  {
   "cell_type": "code",
   "execution_count": 185,
   "metadata": {},
   "outputs": [
    {
     "data": {
      "image/png": "[encoded data removed]",
      "text/plain": [
       "<Figure size 640x480 with 1 Axes>"
      ]
     },
     "metadata": {},
     "output_type": "display_data"
    }
   ],
   "source": [
    "\n",
    "x_ax = range(len(ytest))\n",
    "plt.plot(x_ax, ytest, linewidth=1, label=\"original\")\n",
    "plt.plot(x_ax, ypred, linewidth=1, label=\"predicted\")\n",
    "plt.legend(loc='best',fancybox=True)\n",
    "plt.show() \n"
   ]
  },
  {
   "cell_type": "code",
   "execution_count": null,
   "metadata": {},
   "outputs": [],
   "source": []
  }
 ],
 "metadata": {
  "hide_input": true,
  "kernelspec": {
   "display_name": "Python 3.10.7 64-bit",
   "language": "python",
   "name": "python3"
  },
  "language_info": {
   "codemirror_mode": {
    "name": "ipython",
    "version": 3
   },
   "file_extension": ".py",
   "mimetype": "text/x-python",
   "name": "python",
   "nbconvert_exporter": "python",
   "pygments_lexer": "ipython3",
   "version": "3.10.7"
  },
  "toc": {
   "base_numbering": 1,
   "nav_menu": {},
   "number_sections": true,
   "sideBar": true,
   "skip_h1_title": false,
   "title_cell": "Table of Contents",
   "title_sidebar": "Contents",
   "toc_cell": false,
   "toc_position": {},
   "toc_section_display": true,
   "toc_window_display": true
  },
  "vscode": {
   "interpreter": {
    "hash": "b0fa6594d8f4cbf19f97940f81e996739fb7646882a419484c72d19e05852a7e"
   }
  }
 },
 "nbformat": 4,
 "nbformat_minor": 2
}
