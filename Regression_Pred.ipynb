{
 "cells": [
  {
   "cell_type": "markdown",
   "metadata": {},
   "source": [
    "### Initialise"
   ]
  },
  {
   "cell_type": "code",
   "execution_count": 111,
   "metadata": {},
   "outputs": [],
   "source": [
    "## Import necessary packages\n",
    "import matplotlib.pyplot as plt; \n",
    "import pandas as pd; \n",
    "import numpy as np; \n",
    "\n",
    "from sklearn.model_selection import train_test_split,cross_val_score;\n",
    "from sklearn.linear_model import LinearRegression, SGDRegressor\n",
    "from sklearn.tree import DecisionTreeRegressor\n",
    "from sklearn.metrics import r2_score, mean_absolute_error, mean_squared_error\n",
    "\n",
    "from sklearn.preprocessing import QuantileTransformer\n",
    "from sklearn.ensemble import GradientBoostingRegressor, RandomForestRegressor\n",
    "from sklearn.compose import TransformedTargetRegressor\n",
    "import xgboost as xg\n",
    "\n",
    "import python.data as datameta\n",
    "\n",
    "def rd(a):\n",
    "    return round(a,4)\n",
    "def mse(a,b):\n",
    "    err = rd(mean_squared_error(a,b)); \n",
    "    return err; \n",
    "def mae(a,b):\n",
    "    err = rd(mean_absolute_error(a,b)); \n",
    "    return err; \n",
    "def r2(a,b):\n",
    "    err = rd(r2_score(a,b)); \n",
    "    return err; "
   ]
  },
  {
   "cell_type": "markdown",
   "metadata": {},
   "source": [
    "### Preprocess Data"
   ]
  },
  {
   "cell_type": "code",
   "execution_count": 112,
   "metadata": {},
   "outputs": [
    {
     "name": "stdout",
     "output_type": "stream",
     "text": [
      "Index(['Time (h)', 'Aeration rate(Fg:L/h)', 'Sugar feed rate(Fs:L/h)',\n",
      "       'Acid flow rate(Fa:L/h)', 'Base flow rate(Fb:L/h)',\n",
      "       'Air head pressure(pressure:bar)', 'Substrate concentration(S:g/L)',\n",
      "       'Penicillin concentration(P:g/L)', 'Vessel Volume(V:L)', 'pH(pH:pH)',\n",
      "       'Temperature(T:K)', 'PAA flow(Fpaa:PAA flow (L/h))',\n",
      "       'Oil flow(Foil:L/hr)', 'Ammonia shots(NH3_shots:kgs)', 'Water Flow'],\n",
      "      dtype='object') \n",
      "\n",
      " (113935, 15)\n"
     ]
    },
    {
     "data": {
      "text/html": [
       "<div>\n",
       "<style scoped>\n",
       "    .dataframe tbody tr th:only-of-type {\n",
       "        vertical-align: middle;\n",
       "    }\n",
       "\n",
       "    .dataframe tbody tr th {\n",
       "        vertical-align: top;\n",
       "    }\n",
       "\n",
       "    .dataframe thead th {\n",
       "        text-align: right;\n",
       "    }\n",
       "</style>\n",
       "<table border=\"1\" class=\"dataframe\">\n",
       "  <thead>\n",
       "    <tr style=\"text-align: right;\">\n",
       "      <th></th>\n",
       "      <th>Time (h)</th>\n",
       "      <th>Aeration rate(Fg:L/h)</th>\n",
       "      <th>Sugar feed rate(Fs:L/h)</th>\n",
       "      <th>Acid flow rate(Fa:L/h)</th>\n",
       "      <th>Base flow rate(Fb:L/h)</th>\n",
       "      <th>Air head pressure(pressure:bar)</th>\n",
       "      <th>Substrate concentration(S:g/L)</th>\n",
       "      <th>Penicillin concentration(P:g/L)</th>\n",
       "      <th>Vessel Volume(V:L)</th>\n",
       "      <th>pH(pH:pH)</th>\n",
       "      <th>Temperature(T:K)</th>\n",
       "      <th>PAA flow(Fpaa:PAA flow (L/h))</th>\n",
       "      <th>Oil flow(Foil:L/hr)</th>\n",
       "      <th>Ammonia shots(NH3_shots:kgs)</th>\n",
       "      <th>Water Flow</th>\n",
       "    </tr>\n",
       "  </thead>\n",
       "  <tbody>\n",
       "    <tr>\n",
       "      <th>0</th>\n",
       "      <td>0.000000</td>\n",
       "      <td>0.181818</td>\n",
       "      <td>0.040541</td>\n",
       "      <td>0.000000</td>\n",
       "      <td>0.133858</td>\n",
       "      <td>0.0</td>\n",
       "      <td>0.008306</td>\n",
       "      <td>1.791808e-27</td>\n",
       "      <td>0.049276</td>\n",
       "      <td>0.767126</td>\n",
       "      <td>0.258427</td>\n",
       "      <td>0.333333</td>\n",
       "      <td>0.0</td>\n",
       "      <td>0.0</td>\n",
       "      <td>0.004470</td>\n",
       "    </tr>\n",
       "    <tr>\n",
       "      <th>1</th>\n",
       "      <td>0.000690</td>\n",
       "      <td>0.181818</td>\n",
       "      <td>0.040541</td>\n",
       "      <td>0.000000</td>\n",
       "      <td>0.227649</td>\n",
       "      <td>0.0</td>\n",
       "      <td>0.008715</td>\n",
       "      <td>2.763729e-05</td>\n",
       "      <td>0.049480</td>\n",
       "      <td>0.800686</td>\n",
       "      <td>0.249064</td>\n",
       "      <td>0.333333</td>\n",
       "      <td>0.0</td>\n",
       "      <td>0.0</td>\n",
       "      <td>0.008252</td>\n",
       "    </tr>\n",
       "    <tr>\n",
       "      <th>2</th>\n",
       "      <td>0.001380</td>\n",
       "      <td>0.181818</td>\n",
       "      <td>0.040541</td>\n",
       "      <td>0.000000</td>\n",
       "      <td>0.241342</td>\n",
       "      <td>0.0</td>\n",
       "      <td>0.009107</td>\n",
       "      <td>2.761905e-05</td>\n",
       "      <td>0.049685</td>\n",
       "      <td>0.836653</td>\n",
       "      <td>0.243446</td>\n",
       "      <td>0.333333</td>\n",
       "      <td>0.0</td>\n",
       "      <td>0.0</td>\n",
       "      <td>0.004363</td>\n",
       "    </tr>\n",
       "    <tr>\n",
       "      <th>3</th>\n",
       "      <td>0.002070</td>\n",
       "      <td>0.181818</td>\n",
       "      <td>0.040541</td>\n",
       "      <td>0.000000</td>\n",
       "      <td>0.168071</td>\n",
       "      <td>0.0</td>\n",
       "      <td>0.009492</td>\n",
       "      <td>2.760247e-05</td>\n",
       "      <td>0.049787</td>\n",
       "      <td>0.860582</td>\n",
       "      <td>0.237828</td>\n",
       "      <td>0.333333</td>\n",
       "      <td>0.0</td>\n",
       "      <td>0.0</td>\n",
       "      <td>0.001972</td>\n",
       "    </tr>\n",
       "    <tr>\n",
       "      <th>4</th>\n",
       "      <td>0.002761</td>\n",
       "      <td>0.181818</td>\n",
       "      <td>0.040541</td>\n",
       "      <td>0.039866</td>\n",
       "      <td>0.084036</td>\n",
       "      <td>0.0</td>\n",
       "      <td>0.009864</td>\n",
       "      <td>2.758782e-05</td>\n",
       "      <td>0.049838</td>\n",
       "      <td>0.865835</td>\n",
       "      <td>0.234082</td>\n",
       "      <td>0.333333</td>\n",
       "      <td>0.0</td>\n",
       "      <td>0.0</td>\n",
       "      <td>0.000502</td>\n",
       "    </tr>\n",
       "  </tbody>\n",
       "</table>\n",
       "</div>"
      ],
      "text/plain": [
       "   Time (h)  Aeration rate(Fg:L/h)  Sugar feed rate(Fs:L/h)  \\\n",
       "0  0.000000               0.181818                 0.040541   \n",
       "1  0.000690               0.181818                 0.040541   \n",
       "2  0.001380               0.181818                 0.040541   \n",
       "3  0.002070               0.181818                 0.040541   \n",
       "4  0.002761               0.181818                 0.040541   \n",
       "\n",
       "   Acid flow rate(Fa:L/h)  Base flow rate(Fb:L/h)  \\\n",
       "0                0.000000                0.133858   \n",
       "1                0.000000                0.227649   \n",
       "2                0.000000                0.241342   \n",
       "3                0.000000                0.168071   \n",
       "4                0.039866                0.084036   \n",
       "\n",
       "   Air head pressure(pressure:bar)  Substrate concentration(S:g/L)  \\\n",
       "0                              0.0                        0.008306   \n",
       "1                              0.0                        0.008715   \n",
       "2                              0.0                        0.009107   \n",
       "3                              0.0                        0.009492   \n",
       "4                              0.0                        0.009864   \n",
       "\n",
       "   Penicillin concentration(P:g/L)  Vessel Volume(V:L)  pH(pH:pH)  \\\n",
       "0                     1.791808e-27            0.049276   0.767126   \n",
       "1                     2.763729e-05            0.049480   0.800686   \n",
       "2                     2.761905e-05            0.049685   0.836653   \n",
       "3                     2.760247e-05            0.049787   0.860582   \n",
       "4                     2.758782e-05            0.049838   0.865835   \n",
       "\n",
       "   Temperature(T:K)  PAA flow(Fpaa:PAA flow (L/h))  Oil flow(Foil:L/hr)  \\\n",
       "0          0.258427                       0.333333                  0.0   \n",
       "1          0.249064                       0.333333                  0.0   \n",
       "2          0.243446                       0.333333                  0.0   \n",
       "3          0.237828                       0.333333                  0.0   \n",
       "4          0.234082                       0.333333                  0.0   \n",
       "\n",
       "   Ammonia shots(NH3_shots:kgs)  Water Flow  \n",
       "0                           0.0    0.004470  \n",
       "1                           0.0    0.008252  \n",
       "2                           0.0    0.004363  \n",
       "3                           0.0    0.001972  \n",
       "4                           0.0    0.000502  "
      ]
     },
     "execution_count": 112,
     "metadata": {},
     "output_type": "execute_result"
    }
   ],
   "source": [
    "data = datameta.processData('data/clean_data.csv'); \n",
    "data.head()"
   ]
  },
  {
   "cell_type": "code",
   "execution_count": 113,
   "metadata": {},
   "outputs": [
    {
     "name": "stdout",
     "output_type": "stream",
     "text": [
      "x:  14  keys in  14 cols\n",
      "y:  1  keys in  1 cols\n"
     ]
    }
   ],
   "source": [
    "# Split into x and y\n",
    "xkeys = [\n",
    "    \"Time (h)\", \"Aeration rate(Fg:L/h)\", \"Sugar feed rate(Fs:L/h)\",\"Acid flow rate(Fa:L/h)\",\n",
    "    \"Base flow rate(Fb:L/h)\",\"Water Flow\",\"Substrate concentration(S:g/L)\",\"PAA flow(Fpaa:PAA flow (L/h))\",\n",
    "    \"Oil flow(Foil:L/hr)\", \"Ammonia shots(NH3_shots:kgs)\",\n",
    "    # Converted variables\n",
    "    \"Air head pressure(pressure:bar)\", \"Temperature(T:K)\", \"pH(pH:pH)\", \"Vessel Volume(V:L)\"\n",
    "]\n",
    "(x,y) = datameta.xy_split(data,xkeys)\n",
    "xtrain, xtest, ytrain, ytest=train_test_split(x, y, test_size=0.1)\n",
    "ytest = ytest.to_numpy().flatten(); "
   ]
  },
  {
   "cell_type": "code",
   "execution_count": 114,
   "metadata": {},
   "outputs": [
    {
     "data": {
      "text/html": [
       "<div>\n",
       "<style scoped>\n",
       "    .dataframe tbody tr th:only-of-type {\n",
       "        vertical-align: middle;\n",
       "    }\n",
       "\n",
       "    .dataframe tbody tr th {\n",
       "        vertical-align: top;\n",
       "    }\n",
       "\n",
       "    .dataframe thead th {\n",
       "        text-align: right;\n",
       "    }\n",
       "</style>\n",
       "<table border=\"1\" class=\"dataframe\">\n",
       "  <thead>\n",
       "    <tr style=\"text-align: right;\">\n",
       "      <th></th>\n",
       "      <th></th>\n",
       "      <th>R2 Sq</th>\n",
       "      <th>MAE</th>\n",
       "      <th>MSE</th>\n",
       "    </tr>\n",
       "  </thead>\n",
       "  <tbody>\n",
       "    <tr>\n",
       "      <th>0</th>\n",
       "      <td>LinearRegression</td>\n",
       "      <td>0.9726</td>\n",
       "      <td>0.0331</td>\n",
       "      <td>0.0021</td>\n",
       "    </tr>\n",
       "    <tr>\n",
       "      <th>1</th>\n",
       "      <td>DecisionTreeRegressor</td>\n",
       "      <td>0.9946</td>\n",
       "      <td>0.0074</td>\n",
       "      <td>0.0004</td>\n",
       "    </tr>\n",
       "    <tr>\n",
       "      <th>2</th>\n",
       "      <td>SGDRegressor</td>\n",
       "      <td>0.9698</td>\n",
       "      <td>0.0352</td>\n",
       "      <td>0.0023</td>\n",
       "    </tr>\n",
       "  </tbody>\n",
       "</table>\n",
       "</div>"
      ],
      "text/plain": [
       "                           R2 Sq     MAE     MSE\n",
       "0       LinearRegression  0.9726  0.0331  0.0021\n",
       "1  DecisionTreeRegressor  0.9946  0.0074  0.0004\n",
       "2           SGDRegressor  0.9698  0.0352  0.0023"
      ]
     },
     "execution_count": 114,
     "metadata": {},
     "output_type": "execute_result"
    }
   ],
   "source": [
    "# TESTING OUT ALL TYPES\n",
    "def row(name,ytest, yhat):\n",
    "    return [name, r2(ytest, yhat),mae(ytest, yhat),mse(ytest, yhat)]\n",
    "\n",
    "# BASIC MODELS\n",
    "# models = [\n",
    "#     LinearRegression(), \n",
    "#     DecisionTreeRegressor(), \n",
    "#     SGDRegressor(loss='squared_error')\n",
    "# ]\n",
    "\n",
    "# for index,model in enumerate(models):\n",
    "#     model.fit(xtrain, ytrain.values.ravel()); \n",
    "#     models[index] = row(model.__class__.__name__, ytest, model.predict(xtest))\n",
    "\n",
    "# models = pd.DataFrame(models, columns=[\"\",\"R2 Sq\",\"MAE\", \"MSE\"]); \n",
    "# models.style.highlight_max(color='#4f4').highlight_min(color='#f44'); \n",
    "# models"
   ]
  },
  {
   "cell_type": "code",
   "execution_count": 115,
   "metadata": {},
   "outputs": [
    {
     "data": {
      "text/html": [
       "<div>\n",
       "<style scoped>\n",
       "    .dataframe tbody tr th:only-of-type {\n",
       "        vertical-align: middle;\n",
       "    }\n",
       "\n",
       "    .dataframe tbody tr th {\n",
       "        vertical-align: top;\n",
       "    }\n",
       "\n",
       "    .dataframe thead th {\n",
       "        text-align: right;\n",
       "    }\n",
       "</style>\n",
       "<table border=\"1\" class=\"dataframe\">\n",
       "  <thead>\n",
       "    <tr style=\"text-align: right;\">\n",
       "      <th></th>\n",
       "      <th></th>\n",
       "      <th>R2 Sq</th>\n",
       "      <th>MAE</th>\n",
       "      <th>MSE</th>\n",
       "    </tr>\n",
       "  </thead>\n",
       "  <tbody>\n",
       "    <tr>\n",
       "      <th>0</th>\n",
       "      <td>GradientBoostingRegressor</td>\n",
       "      <td>0.9853</td>\n",
       "      <td>0.0233</td>\n",
       "      <td>0.0011</td>\n",
       "    </tr>\n",
       "    <tr>\n",
       "      <th>1</th>\n",
       "      <td>XGBRFRegressor</td>\n",
       "      <td>0.9793</td>\n",
       "      <td>0.0270</td>\n",
       "      <td>0.0016</td>\n",
       "    </tr>\n",
       "    <tr>\n",
       "      <th>2</th>\n",
       "      <td>RandomForestRegressor</td>\n",
       "      <td>0.9973</td>\n",
       "      <td>0.0076</td>\n",
       "      <td>0.0002</td>\n",
       "    </tr>\n",
       "  </tbody>\n",
       "</table>\n",
       "</div>"
      ],
      "text/plain": [
       "                               R2 Sq     MAE     MSE\n",
       "0  GradientBoostingRegressor  0.9853  0.0233  0.0011\n",
       "1             XGBRFRegressor  0.9793  0.0270  0.0016\n",
       "2      RandomForestRegressor  0.9973  0.0076  0.0002"
      ]
     },
     "execution_count": 115,
     "metadata": {},
     "output_type": "execute_result"
    }
   ],
   "source": [
    "models=[\n",
    "    GradientBoostingRegressor(), \n",
    "    xg.XGBRFRegressor(),\n",
    "    RandomForestRegressor()\n",
    "]\n",
    "\n",
    "for index,model in enumerate(models):\n",
    "    mod = TransformedTargetRegressor(regressor=model, transformer=QuantileTransformer(output_distribution='normal'))\n",
    "    mod.fit(xtrain, ytrain.values.ravel()); \n",
    "    yhat = mod.predict(xtest)\n",
    "\n",
    "    models[index] = row(model.__class__.__name__, ytest, mod.predict(xtest))\n",
    "\n",
    "models = pd.DataFrame(models, columns=[\"\",\"R2 Sq\",\"MAE\", \"MSE\"]); \n",
    "models.style.highlight_max(color='#4f4').highlight_min(color='#f44'); \n",
    "models"
   ]
  },
  {
   "cell_type": "code",
   "execution_count": null,
   "metadata": {},
   "outputs": [],
   "source": []
  },
  {
   "cell_type": "code",
   "execution_count": null,
   "metadata": {},
   "outputs": [],
   "source": []
  },
  {
   "cell_type": "code",
   "execution_count": null,
   "metadata": {},
   "outputs": [],
   "source": []
  },
  {
   "cell_type": "code",
   "execution_count": null,
   "metadata": {},
   "outputs": [],
   "source": []
  },
  {
   "cell_type": "code",
   "execution_count": null,
   "metadata": {},
   "outputs": [],
   "source": []
  },
  {
   "cell_type": "code",
   "execution_count": null,
   "metadata": {},
   "outputs": [],
   "source": []
  },
  {
   "cell_type": "code",
   "execution_count": null,
   "metadata": {},
   "outputs": [],
   "source": []
  },
  {
   "cell_type": "code",
   "execution_count": 116,
   "metadata": {},
   "outputs": [
    {
     "name": "stdout",
     "output_type": "stream",
     "text": [
      "TEST:\n",
      " [0.0094456  0.52626926 0.7540005  ... 0.61061823 0.6689606  0.83144015] \n",
      "PRED:\n",
      " [0.01195479 0.52513611 0.75704062 ... 0.60998261 0.64737582 0.8342039 ]\n"
     ]
    }
   ],
   "source": [
    "# dt = DecisionTreeRegressor(); \n",
    "# dt.fit(xtrain, ytrain); \n",
    "\n",
    "# ypred = dt.predict(xtest); \n",
    "# print(\"TEST:\\n\",ytest,\"\\nPRED:\\n\", ypred)"
   ]
  },
  {
   "cell_type": "code",
   "execution_count": 117,
   "metadata": {},
   "outputs": [
    {
     "name": "stdout",
     "output_type": "stream",
     "text": [
      "19.6156 %\n"
     ]
    }
   ],
   "source": [
    "# def isClose(base, known):\n",
    "#     return np.abs((base - known) / base) <= 0.001\n",
    "\n",
    "# accuracy = np.sum(isClose(ypred, ytest))/len(ytest)\n",
    "# print(rd(accuracy*100), \"%\")"
   ]
  },
  {
   "cell_type": "code",
   "execution_count": 118,
   "metadata": {},
   "outputs": [
    {
     "data": {
      "image/png": "[encoded data removed]",
      "text/plain": [
       "<Figure size 640x480 with 1 Axes>"
      ]
     },
     "metadata": {},
     "output_type": "display_data"
    }
   ],
   "source": [
    "\n",
    "# xax = range(len(ytest))\n",
    "# plt.plot(xax, ytest, linewidth=1, label=\"original\")\n",
    "# plt.plot(xax, ypred, linewidth=1, label=\"predicted\")\n",
    "# plt.legend(loc='best')\n",
    "# plt.show() \n"
   ]
  },
  {
   "cell_type": "code",
   "execution_count": null,
   "metadata": {},
   "outputs": [],
   "source": []
  }
 ],
 "metadata": {
  "hide_input": true,
  "kernelspec": {
   "display_name": "Python 3.10.7 64-bit",
   "language": "python",
   "name": "python3"
  },
  "language_info": {
   "codemirror_mode": {
    "name": "ipython",
    "version": 3
   },
   "file_extension": ".py",
   "mimetype": "text/x-python",
   "name": "python",
   "nbconvert_exporter": "python",
   "pygments_lexer": "ipython3",
   "version": "3.10.8"
  },
  "toc": {
   "base_numbering": 1,
   "nav_menu": {},
   "number_sections": true,
   "sideBar": true,
   "skip_h1_title": false,
   "title_cell": "Table of Contents",
   "title_sidebar": "Contents",
   "toc_cell": false,
   "toc_position": {},
   "toc_section_display": true,
   "toc_window_display": true
  },
  "vscode": {
   "interpreter": {
    "hash": "b0fa6594d8f4cbf19f97940f81e996739fb7646882a419484c72d19e05852a7e"
   }
  }
 },
 "nbformat": 4,
 "nbformat_minor": 2
}
