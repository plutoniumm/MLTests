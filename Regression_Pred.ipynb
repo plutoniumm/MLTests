{
 "cells": [
  {
   "cell_type": "markdown",
   "metadata": {},
   "source": [
    "### Initialise"
   ]
  },
  {
   "cell_type": "code",
   "execution_count": 1,
   "metadata": {},
   "outputs": [
    {
     "name": "stderr",
     "output_type": "stream",
     "text": [
      "c:\\Users\\rpatr\\miniconda3\\envs\\penn\\lib\\site-packages\\tqdm\\auto.py:22: TqdmWarning: IProgress not found. Please update jupyter and ipywidgets. See https://ipywidgets.readthedocs.io/en/stable/user_install.html\n",
      "  from .autonotebook import tqdm as notebook_tqdm\n"
     ]
    }
   ],
   "source": [
    "## Import necessary packages\n",
    "import matplotlib.pyplot as plt; \n",
    "import pandas as pd; \n",
    "import numpy as np; \n",
    "import json; \n",
    "from datetime import datetime; \n",
    "from tqdm.auto import tqdm\n",
    "\n",
    "from sklearn.model_selection import train_test_split;\n",
    "from sklearn.tree import DecisionTreeRegressor\n",
    "from sklearn.ensemble import RandomForestRegressor\n",
    "from sklearn.metrics import r2_score, mean_absolute_error, mean_squared_error\n",
    "\n",
    "import python.data as datameta"
   ]
  },
  {
   "cell_type": "code",
   "execution_count": 2,
   "metadata": {},
   "outputs": [],
   "source": [
    "def rd(a): return round(a,4)\n",
    "def mse(a,b): return (mean_squared_error(a,b)); \n",
    "def rmse(a,b): return (mse(a,b)**0.5); \n",
    "def mae(a,b): return (mean_absolute_error(a,b)); \n",
    "def r2(a,b): return (r2_score(a,b)**0.5); \n",
    "def isClose(base, known, tol=0.001): return np.abs((base - known) / base) <= tol\n",
    "\n",
    "def row(name,ytest, yhat, accuracy):\n",
    "    accuracies = list(map(lambda x: str(x)+\"%\",accuracy)) \n",
    "    return [\n",
    "        name, \n",
    "        r2(ytest, yhat),mae(ytest, yhat),mse(ytest, yhat), \n",
    "        accuracies[0], accuracies[1], accuracies[2]\n",
    "    ]"
   ]
  },
  {
   "cell_type": "markdown",
   "metadata": {},
   "source": [
    "### Preprocess Data"
   ]
  },
  {
   "cell_type": "code",
   "execution_count": 3,
   "metadata": {},
   "outputs": [
    {
     "name": "stdout",
     "output_type": "stream",
     "text": [
      "Index(['Time (h)_mean', 'Aeration rate(Fg:L/h)_mean',\n",
      "       'Sugar feed rate(Fs:L/h)_mean', 'Acid flow rate(Fa:L/h)_mean',\n",
      "       'Base flow rate(Fb:L/h)_mean', 'Air head pressure(pressure:bar)_mean',\n",
      "       'Substrate concentration(S:g/L)_mean', 'Vessel Volume(V:L)_mean',\n",
      "       'pH(pH:pH)_mean', 'Temperature(T:K)_mean',\n",
      "       'PAA flow(Fpaa:PAA flow (L/h))_mean', 'Oil flow(Foil:L/hr)_mean',\n",
      "       'Ammonia shots(NH3_shots:kgs)_mean', 'Water Flow_mean',\n",
      "       'Time (h)_mean_std', 'Aeration rate(Fg:L/h)_mean_std',\n",
      "       'Sugar feed rate(Fs:L/h)_mean_std', 'Acid flow rate(Fa:L/h)_mean_std',\n",
      "       'Base flow rate(Fb:L/h)_mean_std',\n",
      "       'Air head pressure(pressure:bar)_mean_std',\n",
      "       'Substrate concentration(S:g/L)_mean_std',\n",
      "       'Vessel Volume(V:L)_mean_std', 'pH(pH:pH)_mean_std',\n",
      "       'Temperature(T:K)_mean_std', 'PAA flow(Fpaa:PAA flow (L/h))_mean_std',\n",
      "       'Oil flow(Foil:L/hr)_mean_std', 'Ammonia shots(NH3_shots:kgs)_mean_std',\n",
      "       'Water Flow_mean_std', 'Time (h)_mean_max',\n",
      "       'Aeration rate(Fg:L/h)_mean_max', 'Sugar feed rate(Fs:L/h)_mean_max',\n",
      "       'Acid flow rate(Fa:L/h)_mean_max', 'Base flow rate(Fb:L/h)_mean_max',\n",
      "       'Air head pressure(pressure:bar)_mean_max',\n",
      "       'Substrate concentration(S:g/L)_mean_max',\n",
      "       'Vessel Volume(V:L)_mean_max', 'pH(pH:pH)_mean_max',\n",
      "       'Temperature(T:K)_mean_max', 'PAA flow(Fpaa:PAA flow (L/h))_mean_max',\n",
      "       'Oil flow(Foil:L/hr)_mean_max', 'Ammonia shots(NH3_shots:kgs)_mean_max',\n",
      "       'Water Flow_mean_max', 'Time (h)_mean_min',\n",
      "       'Aeration rate(Fg:L/h)_mean_min', 'Sugar feed rate(Fs:L/h)_mean_min',\n",
      "       'Acid flow rate(Fa:L/h)_mean_min', 'Base flow rate(Fb:L/h)_mean_min',\n",
      "       'Air head pressure(pressure:bar)_mean_min',\n",
      "       'Substrate concentration(S:g/L)_mean_min',\n",
      "       'Vessel Volume(V:L)_mean_min', 'pH(pH:pH)_mean_min',\n",
      "       'Temperature(T:K)_mean_min', 'PAA flow(Fpaa:PAA flow (L/h))_mean_min',\n",
      "       'Oil flow(Foil:L/hr)_mean_min', 'Ammonia shots(NH3_shots:kgs)_mean_min',\n",
      "       'Water Flow_mean_min', 'Penicillin concentration(P:g/L)'],\n",
      "      dtype='object') \n",
      "\n",
      " (113935, 57)\n",
      "Shape of the data is: (113931, 57)\n"
     ]
    },
    {
     "data": {
      "text/html": [
       "<div>\n",
       "<style scoped>\n",
       "    .dataframe tbody tr th:only-of-type {\n",
       "        vertical-align: middle;\n",
       "    }\n",
       "\n",
       "    .dataframe tbody tr th {\n",
       "        vertical-align: top;\n",
       "    }\n",
       "\n",
       "    .dataframe thead th {\n",
       "        text-align: right;\n",
       "    }\n",
       "</style>\n",
       "<table border=\"1\" class=\"dataframe\">\n",
       "  <thead>\n",
       "    <tr style=\"text-align: right;\">\n",
       "      <th></th>\n",
       "      <th>Time (h)_mean</th>\n",
       "      <th>Aeration rate(Fg:L/h)_mean</th>\n",
       "      <th>Sugar feed rate(Fs:L/h)_mean</th>\n",
       "      <th>Acid flow rate(Fa:L/h)_mean</th>\n",
       "      <th>Base flow rate(Fb:L/h)_mean</th>\n",
       "      <th>Air head pressure(pressure:bar)_mean</th>\n",
       "      <th>Substrate concentration(S:g/L)_mean</th>\n",
       "      <th>Vessel Volume(V:L)_mean</th>\n",
       "      <th>pH(pH:pH)_mean</th>\n",
       "      <th>Temperature(T:K)_mean</th>\n",
       "      <th>...</th>\n",
       "      <th>Air head pressure(pressure:bar)_mean_min</th>\n",
       "      <th>Substrate concentration(S:g/L)_mean_min</th>\n",
       "      <th>Vessel Volume(V:L)_mean_min</th>\n",
       "      <th>pH(pH:pH)_mean_min</th>\n",
       "      <th>Temperature(T:K)_mean_min</th>\n",
       "      <th>PAA flow(Fpaa:PAA flow (L/h))_mean_min</th>\n",
       "      <th>Oil flow(Foil:L/hr)_mean_min</th>\n",
       "      <th>Ammonia shots(NH3_shots:kgs)_mean_min</th>\n",
       "      <th>Water Flow_mean_min</th>\n",
       "      <th>Penicillin concentration(P:g/L)</th>\n",
       "    </tr>\n",
       "  </thead>\n",
       "  <tbody>\n",
       "    <tr>\n",
       "      <th>4</th>\n",
       "      <td>-1.710971</td>\n",
       "      <td>-3.031943</td>\n",
       "      <td>-2.717925</td>\n",
       "      <td>0.061162</td>\n",
       "      <td>-0.520790</td>\n",
       "      <td>-2.578841</td>\n",
       "      <td>-0.228304</td>\n",
       "      <td>-1.726942</td>\n",
       "      <td>0.489511</td>\n",
       "      <td>0.719222</td>\n",
       "      <td>...</td>\n",
       "      <td>-2.578841</td>\n",
       "      <td>-0.228304</td>\n",
       "      <td>-1.726942</td>\n",
       "      <td>0.489511</td>\n",
       "      <td>0.719222</td>\n",
       "      <td>-0.745098</td>\n",
       "      <td>-0.880164</td>\n",
       "      <td>0.0</td>\n",
       "      <td>-1.439820</td>\n",
       "      <td>-1.443048</td>\n",
       "    </tr>\n",
       "    <tr>\n",
       "      <th>5</th>\n",
       "      <td>-1.707973</td>\n",
       "      <td>-3.031943</td>\n",
       "      <td>-2.717925</td>\n",
       "      <td>0.479008</td>\n",
       "      <td>-0.614931</td>\n",
       "      <td>-2.578841</td>\n",
       "      <td>-0.224978</td>\n",
       "      <td>-1.726452</td>\n",
       "      <td>0.875541</td>\n",
       "      <td>0.550719</td>\n",
       "      <td>...</td>\n",
       "      <td>-2.578841</td>\n",
       "      <td>-0.224978</td>\n",
       "      <td>-1.726452</td>\n",
       "      <td>0.875541</td>\n",
       "      <td>0.550719</td>\n",
       "      <td>-0.745098</td>\n",
       "      <td>-0.880164</td>\n",
       "      <td>0.0</td>\n",
       "      <td>-1.451554</td>\n",
       "      <td>-1.443048</td>\n",
       "    </tr>\n",
       "    <tr>\n",
       "      <th>6</th>\n",
       "      <td>-1.704975</td>\n",
       "      <td>-3.031943</td>\n",
       "      <td>-2.717925</td>\n",
       "      <td>1.106722</td>\n",
       "      <td>-0.826748</td>\n",
       "      <td>-2.578841</td>\n",
       "      <td>-0.221774</td>\n",
       "      <td>-1.726196</td>\n",
       "      <td>1.058169</td>\n",
       "      <td>0.430360</td>\n",
       "      <td>...</td>\n",
       "      <td>-2.578841</td>\n",
       "      <td>-0.221774</td>\n",
       "      <td>-1.726196</td>\n",
       "      <td>1.058169</td>\n",
       "      <td>0.430360</td>\n",
       "      <td>-0.745098</td>\n",
       "      <td>-0.880164</td>\n",
       "      <td>0.0</td>\n",
       "      <td>-1.473218</td>\n",
       "      <td>-1.443048</td>\n",
       "    </tr>\n",
       "    <tr>\n",
       "      <th>7</th>\n",
       "      <td>-1.701977</td>\n",
       "      <td>-3.031943</td>\n",
       "      <td>-2.717925</td>\n",
       "      <td>1.944384</td>\n",
       "      <td>-1.063370</td>\n",
       "      <td>-2.578841</td>\n",
       "      <td>-0.218691</td>\n",
       "      <td>-1.726149</td>\n",
       "      <td>1.015380</td>\n",
       "      <td>0.334072</td>\n",
       "      <td>...</td>\n",
       "      <td>-2.578841</td>\n",
       "      <td>-0.218691</td>\n",
       "      <td>-1.726149</td>\n",
       "      <td>1.015380</td>\n",
       "      <td>0.334072</td>\n",
       "      <td>-0.745098</td>\n",
       "      <td>-0.880164</td>\n",
       "      <td>0.0</td>\n",
       "      <td>-1.484672</td>\n",
       "      <td>-1.443048</td>\n",
       "    </tr>\n",
       "    <tr>\n",
       "      <th>8</th>\n",
       "      <td>-1.698980</td>\n",
       "      <td>-3.031943</td>\n",
       "      <td>-2.717925</td>\n",
       "      <td>1.944384</td>\n",
       "      <td>-1.235653</td>\n",
       "      <td>-2.578841</td>\n",
       "      <td>-0.215754</td>\n",
       "      <td>-1.726266</td>\n",
       "      <td>0.800816</td>\n",
       "      <td>0.273893</td>\n",
       "      <td>...</td>\n",
       "      <td>-2.578841</td>\n",
       "      <td>-0.215754</td>\n",
       "      <td>-1.726266</td>\n",
       "      <td>0.800816</td>\n",
       "      <td>0.273893</td>\n",
       "      <td>-0.745098</td>\n",
       "      <td>-0.880164</td>\n",
       "      <td>0.0</td>\n",
       "      <td>-1.489850</td>\n",
       "      <td>-1.443049</td>\n",
       "    </tr>\n",
       "  </tbody>\n",
       "</table>\n",
       "<p>5 rows × 57 columns</p>\n",
       "</div>"
      ],
      "text/plain": [
       "   Time (h)_mean  Aeration rate(Fg:L/h)_mean  Sugar feed rate(Fs:L/h)_mean  \\\n",
       "4      -1.710971                   -3.031943                     -2.717925   \n",
       "5      -1.707973                   -3.031943                     -2.717925   \n",
       "6      -1.704975                   -3.031943                     -2.717925   \n",
       "7      -1.701977                   -3.031943                     -2.717925   \n",
       "8      -1.698980                   -3.031943                     -2.717925   \n",
       "\n",
       "   Acid flow rate(Fa:L/h)_mean  Base flow rate(Fb:L/h)_mean  \\\n",
       "4                     0.061162                    -0.520790   \n",
       "5                     0.479008                    -0.614931   \n",
       "6                     1.106722                    -0.826748   \n",
       "7                     1.944384                    -1.063370   \n",
       "8                     1.944384                    -1.235653   \n",
       "\n",
       "   Air head pressure(pressure:bar)_mean  Substrate concentration(S:g/L)_mean  \\\n",
       "4                             -2.578841                            -0.228304   \n",
       "5                             -2.578841                            -0.224978   \n",
       "6                             -2.578841                            -0.221774   \n",
       "7                             -2.578841                            -0.218691   \n",
       "8                             -2.578841                            -0.215754   \n",
       "\n",
       "   Vessel Volume(V:L)_mean  pH(pH:pH)_mean  Temperature(T:K)_mean  ...  \\\n",
       "4                -1.726942        0.489511               0.719222  ...   \n",
       "5                -1.726452        0.875541               0.550719  ...   \n",
       "6                -1.726196        1.058169               0.430360  ...   \n",
       "7                -1.726149        1.015380               0.334072  ...   \n",
       "8                -1.726266        0.800816               0.273893  ...   \n",
       "\n",
       "   Air head pressure(pressure:bar)_mean_min  \\\n",
       "4                                 -2.578841   \n",
       "5                                 -2.578841   \n",
       "6                                 -2.578841   \n",
       "7                                 -2.578841   \n",
       "8                                 -2.578841   \n",
       "\n",
       "   Substrate concentration(S:g/L)_mean_min  Vessel Volume(V:L)_mean_min  \\\n",
       "4                                -0.228304                    -1.726942   \n",
       "5                                -0.224978                    -1.726452   \n",
       "6                                -0.221774                    -1.726196   \n",
       "7                                -0.218691                    -1.726149   \n",
       "8                                -0.215754                    -1.726266   \n",
       "\n",
       "   pH(pH:pH)_mean_min  Temperature(T:K)_mean_min  \\\n",
       "4            0.489511                   0.719222   \n",
       "5            0.875541                   0.550719   \n",
       "6            1.058169                   0.430360   \n",
       "7            1.015380                   0.334072   \n",
       "8            0.800816                   0.273893   \n",
       "\n",
       "   PAA flow(Fpaa:PAA flow (L/h))_mean_min  Oil flow(Foil:L/hr)_mean_min  \\\n",
       "4                               -0.745098                     -0.880164   \n",
       "5                               -0.745098                     -0.880164   \n",
       "6                               -0.745098                     -0.880164   \n",
       "7                               -0.745098                     -0.880164   \n",
       "8                               -0.745098                     -0.880164   \n",
       "\n",
       "   Ammonia shots(NH3_shots:kgs)_mean_min  Water Flow_mean_min  \\\n",
       "4                                    0.0            -1.439820   \n",
       "5                                    0.0            -1.451554   \n",
       "6                                    0.0            -1.473218   \n",
       "7                                    0.0            -1.484672   \n",
       "8                                    0.0            -1.489850   \n",
       "\n",
       "   Penicillin concentration(P:g/L)  \n",
       "4                        -1.443048  \n",
       "5                        -1.443048  \n",
       "6                        -1.443048  \n",
       "7                        -1.443048  \n",
       "8                        -1.443049  \n",
       "\n",
       "[5 rows x 57 columns]"
      ]
     },
     "execution_count": 3,
     "metadata": {},
     "output_type": "execute_result"
    }
   ],
   "source": [
    "# data = datameta.processData('data/clean_data.csv'); \n",
    "data = datameta.processData('data/ashwin_data.csv')\n",
    "data.dropna(inplace=True)\n",
    "\n",
    "print(f\"Shape of the data is: {data.shape}\")\n",
    "data.head()"
   ]
  },
  {
   "cell_type": "code",
<<<<<<< HEAD
   "execution_count": 5,
=======
   "execution_count": 4,
>>>>>>> 584a9e52a25369c1ee5725709fce68eb55899d1a
   "metadata": {},
   "outputs": [
    {
     "name": "stdout",
     "output_type": "stream",
     "text": [
      "x:  56  keys in  56 cols\n",
      "y:  1  keys in  1 cols\n"
     ]
    }
   ],
   "source": [
    "# Split into x and y\n",
    "ykeys = [\"Penicillin concentration(P:g/L)\"]\n",
    "(x,y) = datameta.xy_split_y(data,ykeys)\n",
    "xtrain, xtest, ytrain, ytest=train_test_split(x, y, test_size=0.11)\n",
    "ytest = ytest.to_numpy().flatten(); "
   ]
  },
  {
   "cell_type": "code",
   "execution_count": null,
   "metadata": {},
   "outputs": [],
   "source": [
    "# Split into x and y\n",
    "xkeys = [\n",
    "    \"Time (h)\", \"Aeration rate(Fg:L/h)\", \"Sugar feed rate(Fs:L/h)\",\"Acid flow rate(Fa:L/h)\",\n",
    "    \"Base flow rate(Fb:L/h)\",\"Water Flow\",\"Substrate concentration(S:g/L)\",\"PAA flow(Fpaa:PAA flow (L/h))\",\n",
    "    \"Oil flow(Foil:L/hr)\", \"Ammonia shots(NH3_shots:kgs)\",\n",
    "    # Converted variables\n",
    "    \"Air head pressure(pressure:bar)\", \"Temperature(T:K)\", \"pH(pH:pH)\", \"Vessel Volume(V:L)\"\n",
    "]\n",
    "(x,y) = datameta.xy_split(data,xkeys)\n",
    "xtrain, xtest, ytrain, ytest=train_test_split(x, y, test_size=0.11)\n",
    "ytest = ytest.to_numpy().flatten(); \n",
    "\n",
    "\n",
    "# xtrain_mean = np.mean(xtrain); \n",
    "# xtrain_std = np.std(xtrain) +1e-29; \n",
    "\n",
    "# ytrain_mean = np.mean(ytrain); \n",
    "# ytrain_std = np.std(ytrain) +1e-29; \n",
    "\n",
    "# print(\n",
    "#     xtrain.shape,\n",
    "#     xtrain_mean.shape,\n",
    "#     xtrain_std.shape\n",
    "# )\n",
    "\n",
    "# print(\n",
    "#     ytrain.shape,\n",
    "#     ytrain_mean.shape,\n",
    "#     ytrain_std.shape\n",
    "# )\n",
    "\n",
    "# ytrain_mean = ytrain_mean.values.reshape(1,-1); \n",
    "# xtrain_mean = xtrain_mean.values.reshape(1,-1); \n",
    "# ytrain_std = ytrain_std.values.reshape(1,-1); \n",
    "# xtrain_std = xtrain_std.values.reshape(1,-1); \n",
    "\n",
    "# xtrain, xtest = (xtrain - xtrain_mean)/xtrain_std, (xtest - xtrain_mean)/xtrain_std; \n",
    "# ytrain, ytest = (ytrain - ytrain_mean)/ytrain_std, (ytest - ytrain_mean)/ytrain_std; \n",
    "\n",
    "# SETUP ENDS HERE"
   ]
  },
  {
   "cell_type": "code",
   "execution_count": 6,
   "metadata": {},
   "outputs": [
    {
<<<<<<< HEAD
     "name": "stdout",
     "output_type": "stream",
     "text": [
      "Train: 99.99999999999997%\n",
      " Test: 99.60298256799184%\n"
     ]
=======
     "data": {
      "text/html": [
       "<style>#sk-container-id-1 {color: black;background-color: white;}#sk-container-id-1 pre{padding: 0;}#sk-container-id-1 div.sk-toggleable {background-color: white;}#sk-container-id-1 label.sk-toggleable__label {cursor: pointer;display: block;width: 100%;margin-bottom: 0;padding: 0.3em;box-sizing: border-box;text-align: center;}#sk-container-id-1 label.sk-toggleable__label-arrow:before {content: \"▸\";float: left;margin-right: 0.25em;color: #696969;}#sk-container-id-1 label.sk-toggleable__label-arrow:hover:before {color: black;}#sk-container-id-1 div.sk-estimator:hover label.sk-toggleable__label-arrow:before {color: black;}#sk-container-id-1 div.sk-toggleable__content {max-height: 0;max-width: 0;overflow: hidden;text-align: left;background-color: #f0f8ff;}#sk-container-id-1 div.sk-toggleable__content pre {margin: 0.2em;color: black;border-radius: 0.25em;background-color: #f0f8ff;}#sk-container-id-1 input.sk-toggleable__control:checked~div.sk-toggleable__content {max-height: 200px;max-width: 100%;overflow: auto;}#sk-container-id-1 input.sk-toggleable__control:checked~label.sk-toggleable__label-arrow:before {content: \"▾\";}#sk-container-id-1 div.sk-estimator input.sk-toggleable__control:checked~label.sk-toggleable__label {background-color: #d4ebff;}#sk-container-id-1 div.sk-label input.sk-toggleable__control:checked~label.sk-toggleable__label {background-color: #d4ebff;}#sk-container-id-1 input.sk-hidden--visually {border: 0;clip: rect(1px 1px 1px 1px);clip: rect(1px, 1px, 1px, 1px);height: 1px;margin: -1px;overflow: hidden;padding: 0;position: absolute;width: 1px;}#sk-container-id-1 div.sk-estimator {font-family: monospace;background-color: #f0f8ff;border: 1px dotted black;border-radius: 0.25em;box-sizing: border-box;margin-bottom: 0.5em;}#sk-container-id-1 div.sk-estimator:hover {background-color: #d4ebff;}#sk-container-id-1 div.sk-parallel-item::after {content: \"\";width: 100%;border-bottom: 1px solid gray;flex-grow: 1;}#sk-container-id-1 div.sk-label:hover label.sk-toggleable__label {background-color: #d4ebff;}#sk-container-id-1 div.sk-serial::before {content: \"\";position: absolute;border-left: 1px solid gray;box-sizing: border-box;top: 0;bottom: 0;left: 50%;z-index: 0;}#sk-container-id-1 div.sk-serial {display: flex;flex-direction: column;align-items: center;background-color: white;padding-right: 0.2em;padding-left: 0.2em;position: relative;}#sk-container-id-1 div.sk-item {position: relative;z-index: 1;}#sk-container-id-1 div.sk-parallel {display: flex;align-items: stretch;justify-content: center;background-color: white;position: relative;}#sk-container-id-1 div.sk-item::before, #sk-container-id-1 div.sk-parallel-item::before {content: \"\";position: absolute;border-left: 1px solid gray;box-sizing: border-box;top: 0;bottom: 0;left: 50%;z-index: -1;}#sk-container-id-1 div.sk-parallel-item {display: flex;flex-direction: column;z-index: 1;position: relative;background-color: white;}#sk-container-id-1 div.sk-parallel-item:first-child::after {align-self: flex-end;width: 50%;}#sk-container-id-1 div.sk-parallel-item:last-child::after {align-self: flex-start;width: 50%;}#sk-container-id-1 div.sk-parallel-item:only-child::after {width: 0;}#sk-container-id-1 div.sk-dashed-wrapped {border: 1px dashed gray;margin: 0 0.4em 0.5em 0.4em;box-sizing: border-box;padding-bottom: 0.4em;background-color: white;}#sk-container-id-1 div.sk-label label {font-family: monospace;font-weight: bold;display: inline-block;line-height: 1.2em;}#sk-container-id-1 div.sk-label-container {text-align: center;}#sk-container-id-1 div.sk-container {/* jupyter's `normalize.less` sets `[hidden] { display: none; }` but bootstrap.min.css set `[hidden] { display: none !important; }` so we also need the `!important` here to be able to override the default hidden behavior on the sphinx rendered scikit-learn.org. See: https://github.com/scikit-learn/scikit-learn/issues/21755 */display: inline-block !important;position: relative;}#sk-container-id-1 div.sk-text-repr-fallback {display: none;}</style><div id=\"sk-container-id-1\" class=\"sk-top-container\"><div class=\"sk-text-repr-fallback\"><pre>DecisionTreeRegressor()</pre><b>In a Jupyter environment, please rerun this cell to show the HTML representation or trust the notebook. <br />On GitHub, the HTML representation is unable to render, please try loading this page with nbviewer.org.</b></div><div class=\"sk-container\" hidden><div class=\"sk-item\"><div class=\"sk-estimator sk-toggleable\"><input class=\"sk-toggleable__control sk-hidden--visually\" id=\"sk-estimator-id-1\" type=\"checkbox\" checked><label for=\"sk-estimator-id-1\" class=\"sk-toggleable__label sk-toggleable__label-arrow\">DecisionTreeRegressor</label><div class=\"sk-toggleable__content\"><pre>DecisionTreeRegressor()</pre></div></div></div></div></div>"
      ],
      "text/plain": [
       "DecisionTreeRegressor()"
      ]
     },
     "execution_count": 6,
     "metadata": {},
     "output_type": "execute_result"
>>>>>>> 584a9e52a25369c1ee5725709fce68eb55899d1a
    }
   ],
   "source": [
    "model = DecisionTreeRegressor()\n",
    "# model = RandomForestRegressor()\n",
    "model.fit(xtrain,ytrain)\n",
    "\n",
<<<<<<< HEAD
    "def pct(val): return val*100; \n",
    "def pcts(val): return str(val*100)+\"%\"; \n",
=======
    "# def pct(val): return round(val*100,2); \n",
    "# def pcts(val): return str(round(val*100,2))+\"%\"; \n",
>>>>>>> 584a9e52a25369c1ee5725709fce68eb55899d1a
    "\n",
    "# print(\n",
    "#     f\"Train: {pcts(model.score(xtrain,ytrain))}\\n\",\n",
    "#     f\"Test: {pcts(model.score(xtest,ytest))}\"\n",
    "# )"
   ]
  },
  {
   "cell_type": "code",
   "execution_count": 7,
   "metadata": {},
   "outputs": [
    {
     "data": {
      "text/plain": [
<<<<<<< HEAD
       "(array([1504.,  172.,  155.,  128.,  137.,  113.,  120.,  101.,  114.,\n",
       "         115.,   98.,   93.,  120.,  101.,  117.,  108.,  134.,  118.,\n",
       "         133.,  122.,  131.,  130.,  123.,  126.,  132.,  130.,  133.,\n",
       "         109.,  124.,  122.,  151.,  118.,  139.,  137.,  132.,  129.,\n",
       "         132.,  125.,  107.,  126.,  137.,  112.,  132.,  106.,  131.,\n",
       "         135.,  137.,  134.,  138.,  137.,  131.,  124.,  135.,  136.,\n",
       "         145.,  139.,  140.,  133.,  136.,  146.,  160.,  160.,  164.,\n",
       "         115.,  123.,  130.,  162.,  130.,  136.,  124.,  114.,  125.,\n",
       "         122.,  151.,  129.,  129.,  115.,  129.,  110.,   93.,   85.,\n",
       "          94.,   81.,   90.,   60.,   54.,   68.,   57.,   63.,   47.,\n",
       "          35.,   24.,   26.,   43.,   28.,   12.,    9.,    2.,    2.,\n",
       "           9.]),\n",
       " array([-1.4431489 , -1.4067267 , -1.3703045 , -1.3338823 , -1.2974601 ,\n",
       "        -1.261038  , -1.2246158 , -1.1881936 , -1.1517714 , -1.1153493 ,\n",
       "        -1.078927  , -1.0425049 , -1.0060827 , -0.9696605 , -0.9332383 ,\n",
       "        -0.8968162 , -0.860394  , -0.8239718 , -0.7875496 , -0.7511275 ,\n",
       "        -0.7147053 , -0.6782831 , -0.6418609 , -0.60543877, -0.5690166 ,\n",
       "        -0.5325944 , -0.4961722 , -0.45975003, -0.42332783, -0.38690567,\n",
       "        -0.35048348, -0.3140613 , -0.27763912, -0.24121696, -0.20479478,\n",
       "        -0.1683726 , -0.13195042, -0.09552824, -0.05910606, -0.02268388,\n",
       "         0.0137383 ,  0.05016048,  0.08658265,  0.12300483,  0.15942702,\n",
       "         0.1958492 ,  0.23227137,  0.26869354,  0.30511573,  0.3415379 ,\n",
       "         0.3779601 ,  0.41438228,  0.45080444,  0.48722664,  0.5236488 ,\n",
       "         0.560071  ,  0.5964932 ,  0.6329153 ,  0.6693375 ,  0.7057597 ,\n",
       "         0.7421819 ,  0.77860403,  0.8150262 ,  0.8514484 ,  0.8878706 ,\n",
       "         0.92429274,  0.96071494,  0.9971371 ,  1.0335593 ,  1.0699815 ,\n",
       "         1.1064037 ,  1.1428258 ,  1.179248  ,  1.2156702 ,  1.2520924 ,\n",
       "         1.2885146 ,  1.3249367 ,  1.3613589 ,  1.3977811 ,  1.4342033 ,\n",
       "         1.4706254 ,  1.5070477 ,  1.5434698 ,  1.579892  ,  1.6163142 ,\n",
       "         1.6527363 ,  1.6891586 ,  1.7255807 ,  1.7620028 ,  1.7984251 ,\n",
       "         1.8348472 ,  1.8712695 ,  1.9076916 ,  1.9441137 ,  1.980536  ,\n",
       "         2.0169582 ,  2.0533803 ,  2.0898025 ,  2.1262248 ,  2.1626468 ,\n",
       "         2.199069  ], dtype=float32),\n",
       " <BarContainer object of 100 artists>)"
=======
       "<matplotlib.collections.PathCollection at 0x289c6b4c0>"
>>>>>>> 584a9e52a25369c1ee5725709fce68eb55899d1a
      ]
     },
     "execution_count": 7,
     "metadata": {},
     "output_type": "execute_result"
    },
    {
     "data": {
<<<<<<< HEAD
      "image/png": "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",
=======
      "image/png": "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",
>>>>>>> 584a9e52a25369c1ee5725709fce68eb55899d1a
      "text/plain": [
       "<Figure size 640x480 with 1 Axes>"
      ]
     },
     "metadata": {},
     "output_type": "display_data"
    }
   ],
   "source": [
    "prediction=model.predict(xtest)\n",
    "plt.hist(prediction, bins=100)\n",
    "plt.hist(ytest, bins=100)"
   ]
  },
  {
   "cell_type": "code",
<<<<<<< HEAD
   "execution_count": 19,
=======
   "execution_count": 10,
>>>>>>> 584a9e52a25369c1ee5725709fce68eb55899d1a
   "metadata": {},
   "outputs": [
    {
     "name": "stdout",
     "output_type": "stream",
     "text": [
      "Total number of fits = 5400\n"
     ]
    }
   ],
   "source": [
    "parameters={\n",
    "    \"splitter\":[\"best\",\"random\"],\n",
    "    \"max_depth\" : [i for i in range(10, 40, 2)],\n",
    "    \"min_samples_leaf\":[i for i in range(1, 21)],\n",
    "    # \"min_weight_fraction_leaf\":[float(i)/10 for i in range(4),\n",
    "    \"max_leaf_nodes\":[10*i for i in range(1, 10)]\n",
    "}\n",
    "\n",
    "sum = 1\n",
    "for k, v in parameters.items():\n",
    "    sum *= len(v)\n",
    "\n",
    "print(f\"Total number of fits = {sum}\")"
   ]
  },
  {
   "cell_type": "code",
   "execution_count": 11,
   "metadata": {},
<<<<<<< HEAD
   "outputs": [],
   "source": []
  },
  {
   "cell_type": "code",
   "execution_count": 20,
   "metadata": {},
=======
>>>>>>> 584a9e52a25369c1ee5725709fce68eb55899d1a
   "outputs": [
    {
     "name": "stdout",
     "output_type": "stream",
     "text": [
<<<<<<< HEAD
      "Fitting 3 folds for each of 5400 candidates, totalling 16200 fits\n"
=======
      "Fitting 3 folds for each of 2 candidates, totalling 6 fits\n",
      "[CV] END ....................................splitter=random; total time=   0.1s\n",
      "[CV] END ....................................splitter=random; total time=   0.2s\n",
      "[CV] END ....................................splitter=random; total time=   0.2s\n",
      "[CV] END ......................................splitter=best; total time=   0.6s\n",
      "[CV] END ......................................splitter=best; total time=   0.6s\n",
      "[CV] END ......................................splitter=best; total time=   0.5s\n"
>>>>>>> 584a9e52a25369c1ee5725709fce68eb55899d1a
     ]
    },
    {
     "data": {
<<<<<<< HEAD
      "text/plain": [
       "GridSearchCV(cv=3, estimator=DecisionTreeRegressor(), n_jobs=-1,\n",
       "             param_grid={'max_depth': [10, 12, 14, 16, 18, 20, 22, 24, 26, 28,\n",
       "                                       30, 32, 34, 36, 38],\n",
       "                         'max_leaf_nodes': [10, 20, 30, 40, 50, 60, 70, 80, 90],\n",
       "                         'min_samples_leaf': [1, 2, 3, 4, 5, 6, 7, 8, 9, 10, 11,\n",
       "                                              12, 13, 14, 15, 16, 17, 18, 19,\n",
       "                                              20],\n",
       "                         'splitter': ['best', 'random']},\n",
       "             scoring='neg_root_mean_squared_error', verbose=3)"
      ]
     },
     "execution_count": 20,
=======
      "text/html": [
       "<style>#sk-container-id-3 {color: black;background-color: white;}#sk-container-id-3 pre{padding: 0;}#sk-container-id-3 div.sk-toggleable {background-color: white;}#sk-container-id-3 label.sk-toggleable__label {cursor: pointer;display: block;width: 100%;margin-bottom: 0;padding: 0.3em;box-sizing: border-box;text-align: center;}#sk-container-id-3 label.sk-toggleable__label-arrow:before {content: \"▸\";float: left;margin-right: 0.25em;color: #696969;}#sk-container-id-3 label.sk-toggleable__label-arrow:hover:before {color: black;}#sk-container-id-3 div.sk-estimator:hover label.sk-toggleable__label-arrow:before {color: black;}#sk-container-id-3 div.sk-toggleable__content {max-height: 0;max-width: 0;overflow: hidden;text-align: left;background-color: #f0f8ff;}#sk-container-id-3 div.sk-toggleable__content pre {margin: 0.2em;color: black;border-radius: 0.25em;background-color: #f0f8ff;}#sk-container-id-3 input.sk-toggleable__control:checked~div.sk-toggleable__content {max-height: 200px;max-width: 100%;overflow: auto;}#sk-container-id-3 input.sk-toggleable__control:checked~label.sk-toggleable__label-arrow:before {content: \"▾\";}#sk-container-id-3 div.sk-estimator input.sk-toggleable__control:checked~label.sk-toggleable__label {background-color: #d4ebff;}#sk-container-id-3 div.sk-label input.sk-toggleable__control:checked~label.sk-toggleable__label {background-color: #d4ebff;}#sk-container-id-3 input.sk-hidden--visually {border: 0;clip: rect(1px 1px 1px 1px);clip: rect(1px, 1px, 1px, 1px);height: 1px;margin: -1px;overflow: hidden;padding: 0;position: absolute;width: 1px;}#sk-container-id-3 div.sk-estimator {font-family: monospace;background-color: #f0f8ff;border: 1px dotted black;border-radius: 0.25em;box-sizing: border-box;margin-bottom: 0.5em;}#sk-container-id-3 div.sk-estimator:hover {background-color: #d4ebff;}#sk-container-id-3 div.sk-parallel-item::after {content: \"\";width: 100%;border-bottom: 1px solid gray;flex-grow: 1;}#sk-container-id-3 div.sk-label:hover label.sk-toggleable__label {background-color: #d4ebff;}#sk-container-id-3 div.sk-serial::before {content: \"\";position: absolute;border-left: 1px solid gray;box-sizing: border-box;top: 0;bottom: 0;left: 50%;z-index: 0;}#sk-container-id-3 div.sk-serial {display: flex;flex-direction: column;align-items: center;background-color: white;padding-right: 0.2em;padding-left: 0.2em;position: relative;}#sk-container-id-3 div.sk-item {position: relative;z-index: 1;}#sk-container-id-3 div.sk-parallel {display: flex;align-items: stretch;justify-content: center;background-color: white;position: relative;}#sk-container-id-3 div.sk-item::before, #sk-container-id-3 div.sk-parallel-item::before {content: \"\";position: absolute;border-left: 1px solid gray;box-sizing: border-box;top: 0;bottom: 0;left: 50%;z-index: -1;}#sk-container-id-3 div.sk-parallel-item {display: flex;flex-direction: column;z-index: 1;position: relative;background-color: white;}#sk-container-id-3 div.sk-parallel-item:first-child::after {align-self: flex-end;width: 50%;}#sk-container-id-3 div.sk-parallel-item:last-child::after {align-self: flex-start;width: 50%;}#sk-container-id-3 div.sk-parallel-item:only-child::after {width: 0;}#sk-container-id-3 div.sk-dashed-wrapped {border: 1px dashed gray;margin: 0 0.4em 0.5em 0.4em;box-sizing: border-box;padding-bottom: 0.4em;background-color: white;}#sk-container-id-3 div.sk-label label {font-family: monospace;font-weight: bold;display: inline-block;line-height: 1.2em;}#sk-container-id-3 div.sk-label-container {text-align: center;}#sk-container-id-3 div.sk-container {/* jupyter's `normalize.less` sets `[hidden] { display: none; }` but bootstrap.min.css set `[hidden] { display: none !important; }` so we also need the `!important` here to be able to override the default hidden behavior on the sphinx rendered scikit-learn.org. See: https://github.com/scikit-learn/scikit-learn/issues/21755 */display: inline-block !important;position: relative;}#sk-container-id-3 div.sk-text-repr-fallback {display: none;}</style><div id=\"sk-container-id-3\" class=\"sk-top-container\"><div class=\"sk-text-repr-fallback\"><pre>GridSearchCV(cv=3, estimator=DecisionTreeRegressor(), n_jobs=-1,\n",
       "             param_grid={&#x27;splitter&#x27;: [&#x27;best&#x27;, &#x27;random&#x27;]},\n",
       "             scoring=&#x27;neg_root_mean_squared_error&#x27;, verbose=2)</pre><b>In a Jupyter environment, please rerun this cell to show the HTML representation or trust the notebook. <br />On GitHub, the HTML representation is unable to render, please try loading this page with nbviewer.org.</b></div><div class=\"sk-container\" hidden><div class=\"sk-item sk-dashed-wrapped\"><div class=\"sk-label-container\"><div class=\"sk-label sk-toggleable\"><input class=\"sk-toggleable__control sk-hidden--visually\" id=\"sk-estimator-id-5\" type=\"checkbox\" ><label for=\"sk-estimator-id-5\" class=\"sk-toggleable__label sk-toggleable__label-arrow\">GridSearchCV</label><div class=\"sk-toggleable__content\"><pre>GridSearchCV(cv=3, estimator=DecisionTreeRegressor(), n_jobs=-1,\n",
       "             param_grid={&#x27;splitter&#x27;: [&#x27;best&#x27;, &#x27;random&#x27;]},\n",
       "             scoring=&#x27;neg_root_mean_squared_error&#x27;, verbose=2)</pre></div></div></div><div class=\"sk-parallel\"><div class=\"sk-parallel-item\"><div class=\"sk-item\"><div class=\"sk-label-container\"><div class=\"sk-label sk-toggleable\"><input class=\"sk-toggleable__control sk-hidden--visually\" id=\"sk-estimator-id-6\" type=\"checkbox\" ><label for=\"sk-estimator-id-6\" class=\"sk-toggleable__label sk-toggleable__label-arrow\">estimator: DecisionTreeRegressor</label><div class=\"sk-toggleable__content\"><pre>DecisionTreeRegressor()</pre></div></div></div><div class=\"sk-serial\"><div class=\"sk-item\"><div class=\"sk-estimator sk-toggleable\"><input class=\"sk-toggleable__control sk-hidden--visually\" id=\"sk-estimator-id-7\" type=\"checkbox\" ><label for=\"sk-estimator-id-7\" class=\"sk-toggleable__label sk-toggleable__label-arrow\">DecisionTreeRegressor</label><div class=\"sk-toggleable__content\"><pre>DecisionTreeRegressor()</pre></div></div></div></div></div></div></div></div></div></div>"
      ],
      "text/plain": [
       "GridSearchCV(cv=3, estimator=DecisionTreeRegressor(), n_jobs=-1,\n",
       "             param_grid={'splitter': ['best', 'random']},\n",
       "             scoring='neg_root_mean_squared_error', verbose=2)"
      ]
     },
     "execution_count": 11,
>>>>>>> 584a9e52a25369c1ee5725709fce68eb55899d1a
     "metadata": {},
     "output_type": "execute_result"
    }
   ],
   "source": [
    "from sklearn.model_selection import GridSearchCV; \n",
    "\n",
<<<<<<< HEAD
    "tuning_model=GridSearchCV(model,param_grid=parameters,scoring='neg_root_mean_squared_error',cv=3, n_jobs=-1, verbose=3)\n",
=======
    "tuning_model=GridSearchCV(model,param_grid=parameters,scoring='neg_root_mean_squared_error',cv=3, n_jobs=-1,verbose=2)\n",
>>>>>>> 584a9e52a25369c1ee5725709fce68eb55899d1a
    "\n",
    "tuning_model.fit(x, y)"
   ]
  },
  {
   "cell_type": "code",
   "execution_count": 15,
   "metadata": {},
   "outputs": [
    {
     "name": "stdout",
     "output_type": "stream",
     "text": [
      "GridSearchCV(cv=3, estimator=DecisionTreeRegressor(), n_jobs=-1,\n",
      "             param_grid={'max_depth': [1, 2, 3, 4, 5, 6, 7, 8, 9, 10, 11, 12,\n",
      "                                       13, 14],\n",
      "                         'max_leaf_nodes': [10, 20, 30, 40],\n",
      "                         'min_samples_leaf': [1, 2, 3, 4, 5, 6, 7, 8, 9],\n",
      "                         'splitter': ['best', 'random']},\n",
      "             scoring='neg_root_mean_squared_error', verbose=3)\n",
      "BEST:  {'max_depth': 11, 'max_leaf_nodes': 40, 'min_samples_leaf': 3, 'splitter': 'random'} -0.18617583879615932\n",
      "[{\"max_depth\": 11, \"max_leaf_nodes\": 40, \"min_samples_leaf\": 3, \"splitter\": \"random\"}, {\"max_depth\": 9, \"max_leaf_nodes\": 40, \"min_samples_leaf\": 7, \"splitter\": \"random\"}, {\"max_depth\": 9, \"max_leaf_nodes\": 40, \"min_samples_leaf\": 4, \"splitter\": \"random\"}, {\"max_depth\": 11, \"max_leaf_nodes\": 40, \"min_samples_leaf\": 8, \"splitter\": \"random\"}, {\"max_depth\": 10, \"max_leaf_nodes\": 40, \"min_samples_leaf\": 6, \"splitter\": \"random\"}, {\"max_depth\": 8, \"max_leaf_nodes\": 40, \"min_samples_leaf\": 7, \"splitter\": \"random\"}, {\"max_depth\": 8, \"max_leaf_nodes\": 40, \"min_samples_leaf\": 5, \"splitter\": \"random\"}, {\"max_depth\": 9, \"max_leaf_nodes\": 40, \"min_samples_leaf\": 1, \"splitter\": \"random\"}, {\"max_depth\": 9, \"max_leaf_nodes\": 40, \"min_samples_leaf\": 3, \"splitter\": \"random\"}, {\"max_depth\": 8, \"max_leaf_nodes\": 40, \"min_samples_leaf\": 3, \"splitter\": \"random\"}, {\"max_depth\": 14, \"max_leaf_nodes\": 40, \"min_samples_leaf\": 9, \"splitter\": \"random\"}, {\"max_depth\": 13, \"max_leaf_nodes\": 40, \"min_samples_leaf\": 9, \"splitter\": \"random\"}, {\"max_depth\": 8, \"max_leaf_nodes\": 40, \"min_samples_leaf\": 9, \"splitter\": \"random\"}, {\"max_depth\": 7, \"max_leaf_nodes\": 40, \"min_samples_leaf\": 7, \"splitter\": \"random\"}, {\"max_depth\": 9, \"max_leaf_nodes\": 40, \"min_samples_leaf\": 2, \"splitter\": \"random\"}]\n"
     ]
    }
   ],
   "source": [
    "print(tuning_model)\n",
    "print(\"BEST: \",tuning_model.best_params_, tuning_model.best_score_)\n",
    "results = pd.DataFrame(tuning_model.cv_results_)\n",
    "results.sort_values(by='rank_test_score', inplace=True)\n",
    "configs = results[:15][\"params\"].to_numpy().tolist()\n",
    "configs = json.dumps(configs)\n",
    "print(configs)\n",
    "\n",
    "file = open(\"data/dtr_cfgs_blah.json\", \"w+\")\n",
    "content = str(configs)\n",
    "file.write(content)\n",
    "file.close()"
   ]
  },
  {
   "cell_type": "code",
   "execution_count": 16,
   "metadata": {},
   "outputs": [],
   "source": [
    "# RUN FROM HERE\n",
    "file = open(\"data/dtr_cfgs_blah.json\", \"r\")\n",
    "content = file.read()\n",
    "file.close()\n",
    "configs = json.loads(content); \n",
    "\n",
    "for dict in configs:\n",
    "    for key,value in enumerate(dict):\n",
    "        if value==\"null\": \n",
    "            dict[key] = None; "
   ]
  },
  {
   "cell_type": "code",
   "execution_count": 17,
   "metadata": {},
   "outputs": [
    {
     "name": "stderr",
     "output_type": "stream",
     "text": [
      "100%|██████████| 15/15 [00:05<00:00,  2.93it/s]\n"
     ]
    },
    {
     "data": {
      "text/html": [
       "<div>\n",
       "<style scoped>\n",
       "    .dataframe tbody tr th:only-of-type {\n",
       "        vertical-align: middle;\n",
       "    }\n",
       "\n",
       "    .dataframe tbody tr th {\n",
       "        vertical-align: top;\n",
       "    }\n",
       "\n",
       "    .dataframe thead th {\n",
       "        text-align: right;\n",
       "    }\n",
       "</style>\n",
       "<table border=\"1\" class=\"dataframe\">\n",
       "  <thead>\n",
       "    <tr style=\"text-align: right;\">\n",
       "      <th></th>\n",
       "      <th></th>\n",
       "      <th>R2</th>\n",
       "      <th>MAE</th>\n",
       "      <th>MSE</th>\n",
       "      <th>Acc@0.1%</th>\n",
       "      <th>Acc@1%</th>\n",
       "      <th>Acc@10%</th>\n",
       "    </tr>\n",
       "  </thead>\n",
       "  <tbody>\n",
       "    <tr>\n",
       "      <th>0</th>\n",
       "      <td>{\"max_depth\": 11, \"max_leaf_nodes\": 40, \"min_s...</td>\n",
       "      <td>0.988646</td>\n",
       "      <td>0.107085</td>\n",
       "      <td>0.022743</td>\n",
       "      <td>2.59%</td>\n",
       "      <td>8.28%</td>\n",
       "      <td>60.37%</td>\n",
       "    </tr>\n",
       "    <tr>\n",
       "      <th>1</th>\n",
       "      <td>{\"max_depth\": 9, \"max_leaf_nodes\": 40, \"min_sa...</td>\n",
       "      <td>0.986518</td>\n",
       "      <td>0.111116</td>\n",
       "      <td>0.026977</td>\n",
       "      <td>0.83%</td>\n",
       "      <td>16.51%</td>\n",
       "      <td>59.43%</td>\n",
       "    </tr>\n",
       "    <tr>\n",
       "      <th>2</th>\n",
       "      <td>{\"max_depth\": 9, \"max_leaf_nodes\": 40, \"min_sa...</td>\n",
       "      <td>0.988291</td>\n",
       "      <td>0.108381</td>\n",
       "      <td>0.023451</td>\n",
       "      <td>0.85%</td>\n",
       "      <td>16.32%</td>\n",
       "      <td>59.95%</td>\n",
       "    </tr>\n",
       "    <tr>\n",
       "      <th>3</th>\n",
       "      <td>{\"max_depth\": 11, \"max_leaf_nodes\": 40, \"min_s...</td>\n",
       "      <td>0.987914</td>\n",
       "      <td>0.107307</td>\n",
       "      <td>0.024201</td>\n",
       "      <td>0.86%</td>\n",
       "      <td>16.96%</td>\n",
       "      <td>61.05%</td>\n",
       "    </tr>\n",
       "    <tr>\n",
       "      <th>4</th>\n",
       "      <td>{\"max_depth\": 10, \"max_leaf_nodes\": 40, \"min_s...</td>\n",
       "      <td>0.987918</td>\n",
       "      <td>0.109244</td>\n",
       "      <td>0.024193</td>\n",
       "      <td>2.49%</td>\n",
       "      <td>7.54%</td>\n",
       "      <td>59.37%</td>\n",
       "    </tr>\n",
       "    <tr>\n",
       "      <th>5</th>\n",
       "      <td>{\"max_depth\": 8, \"max_leaf_nodes\": 40, \"min_sa...</td>\n",
       "      <td>0.985960</td>\n",
       "      <td>0.115599</td>\n",
       "      <td>0.028087</td>\n",
       "      <td>0.72%</td>\n",
       "      <td>5.82%</td>\n",
       "      <td>58.49%</td>\n",
       "    </tr>\n",
       "    <tr>\n",
       "      <th>6</th>\n",
       "      <td>{\"max_depth\": 8, \"max_leaf_nodes\": 40, \"min_sa...</td>\n",
       "      <td>0.986413</td>\n",
       "      <td>0.114971</td>\n",
       "      <td>0.027187</td>\n",
       "      <td>0.87%</td>\n",
       "      <td>16.01%</td>\n",
       "      <td>57.42%</td>\n",
       "    </tr>\n",
       "    <tr>\n",
       "      <th>7</th>\n",
       "      <td>{\"max_depth\": 9, \"max_leaf_nodes\": 40, \"min_sa...</td>\n",
       "      <td>0.988276</td>\n",
       "      <td>0.108953</td>\n",
       "      <td>0.023480</td>\n",
       "      <td>0.85%</td>\n",
       "      <td>16.27%</td>\n",
       "      <td>58.54%</td>\n",
       "    </tr>\n",
       "    <tr>\n",
       "      <th>8</th>\n",
       "      <td>{\"max_depth\": 9, \"max_leaf_nodes\": 40, \"min_sa...</td>\n",
       "      <td>0.987879</td>\n",
       "      <td>0.108231</td>\n",
       "      <td>0.024271</td>\n",
       "      <td>2.72%</td>\n",
       "      <td>17.11%</td>\n",
       "      <td>60.26%</td>\n",
       "    </tr>\n",
       "    <tr>\n",
       "      <th>9</th>\n",
       "      <td>{\"max_depth\": 8, \"max_leaf_nodes\": 40, \"min_sa...</td>\n",
       "      <td>0.987637</td>\n",
       "      <td>0.109338</td>\n",
       "      <td>0.024753</td>\n",
       "      <td>2.31%</td>\n",
       "      <td>7.71%</td>\n",
       "      <td>59.88%</td>\n",
       "    </tr>\n",
       "    <tr>\n",
       "      <th>10</th>\n",
       "      <td>{\"max_depth\": 14, \"max_leaf_nodes\": 40, \"min_s...</td>\n",
       "      <td>0.987897</td>\n",
       "      <td>0.109195</td>\n",
       "      <td>0.024235</td>\n",
       "      <td>11.21%</td>\n",
       "      <td>16.14%</td>\n",
       "      <td>58.79%</td>\n",
       "    </tr>\n",
       "    <tr>\n",
       "      <th>11</th>\n",
       "      <td>{\"max_depth\": 13, \"max_leaf_nodes\": 40, \"min_s...</td>\n",
       "      <td>0.987748</td>\n",
       "      <td>0.109286</td>\n",
       "      <td>0.024532</td>\n",
       "      <td>0.89%</td>\n",
       "      <td>16.95%</td>\n",
       "      <td>59.75%</td>\n",
       "    </tr>\n",
       "    <tr>\n",
       "      <th>12</th>\n",
       "      <td>{\"max_depth\": 8, \"max_leaf_nodes\": 40, \"min_sa...</td>\n",
       "      <td>0.985902</td>\n",
       "      <td>0.114208</td>\n",
       "      <td>0.028202</td>\n",
       "      <td>2.29%</td>\n",
       "      <td>7.51%</td>\n",
       "      <td>59.37%</td>\n",
       "    </tr>\n",
       "    <tr>\n",
       "      <th>13</th>\n",
       "      <td>{\"max_depth\": 7, \"max_leaf_nodes\": 40, \"min_sa...</td>\n",
       "      <td>0.987459</td>\n",
       "      <td>0.109319</td>\n",
       "      <td>0.025106</td>\n",
       "      <td>0.69%</td>\n",
       "      <td>16.62%</td>\n",
       "      <td>59.69%</td>\n",
       "    </tr>\n",
       "    <tr>\n",
       "      <th>14</th>\n",
       "      <td>{\"max_depth\": 9, \"max_leaf_nodes\": 40, \"min_sa...</td>\n",
       "      <td>0.986431</td>\n",
       "      <td>0.111258</td>\n",
       "      <td>0.027149</td>\n",
       "      <td>0.65%</td>\n",
       "      <td>16.6%</td>\n",
       "      <td>59.55%</td>\n",
       "    </tr>\n",
       "  </tbody>\n",
       "</table>\n",
       "</div>"
      ],
      "text/plain": [
       "                                                             R2       MAE  \\\n",
       "0   {\"max_depth\": 11, \"max_leaf_nodes\": 40, \"min_s...  0.988646  0.107085   \n",
       "1   {\"max_depth\": 9, \"max_leaf_nodes\": 40, \"min_sa...  0.986518  0.111116   \n",
       "2   {\"max_depth\": 9, \"max_leaf_nodes\": 40, \"min_sa...  0.988291  0.108381   \n",
       "3   {\"max_depth\": 11, \"max_leaf_nodes\": 40, \"min_s...  0.987914  0.107307   \n",
       "4   {\"max_depth\": 10, \"max_leaf_nodes\": 40, \"min_s...  0.987918  0.109244   \n",
       "5   {\"max_depth\": 8, \"max_leaf_nodes\": 40, \"min_sa...  0.985960  0.115599   \n",
       "6   {\"max_depth\": 8, \"max_leaf_nodes\": 40, \"min_sa...  0.986413  0.114971   \n",
       "7   {\"max_depth\": 9, \"max_leaf_nodes\": 40, \"min_sa...  0.988276  0.108953   \n",
       "8   {\"max_depth\": 9, \"max_leaf_nodes\": 40, \"min_sa...  0.987879  0.108231   \n",
       "9   {\"max_depth\": 8, \"max_leaf_nodes\": 40, \"min_sa...  0.987637  0.109338   \n",
       "10  {\"max_depth\": 14, \"max_leaf_nodes\": 40, \"min_s...  0.987897  0.109195   \n",
       "11  {\"max_depth\": 13, \"max_leaf_nodes\": 40, \"min_s...  0.987748  0.109286   \n",
       "12  {\"max_depth\": 8, \"max_leaf_nodes\": 40, \"min_sa...  0.985902  0.114208   \n",
       "13  {\"max_depth\": 7, \"max_leaf_nodes\": 40, \"min_sa...  0.987459  0.109319   \n",
       "14  {\"max_depth\": 9, \"max_leaf_nodes\": 40, \"min_sa...  0.986431  0.111258   \n",
       "\n",
       "         MSE Acc@0.1%  Acc@1% Acc@10%  \n",
       "0   0.022743    2.59%   8.28%  60.37%  \n",
       "1   0.026977    0.83%  16.51%  59.43%  \n",
       "2   0.023451    0.85%  16.32%  59.95%  \n",
       "3   0.024201    0.86%  16.96%  61.05%  \n",
       "4   0.024193    2.49%   7.54%  59.37%  \n",
       "5   0.028087    0.72%   5.82%  58.49%  \n",
       "6   0.027187    0.87%  16.01%  57.42%  \n",
       "7   0.023480    0.85%  16.27%  58.54%  \n",
       "8   0.024271    2.72%  17.11%  60.26%  \n",
       "9   0.024753    2.31%   7.71%  59.88%  \n",
       "10  0.024235   11.21%  16.14%  58.79%  \n",
       "11  0.024532    0.89%  16.95%  59.75%  \n",
       "12  0.028202    2.29%   7.51%  59.37%  \n",
       "13  0.025106    0.69%  16.62%  59.69%  \n",
       "14  0.027149    0.65%   16.6%  59.55%  "
      ]
     },
     "execution_count": 17,
     "metadata": {},
     "output_type": "execute_result"
    }
   ],
   "source": [
    "table = [0 for _ in range(len(configs))]\n",
    "\n",
    "def accuracy(test,pred,tol): \n",
    "    return round(((np.abs(pred - test) < tol ).mean())*100, 2)\n",
    "\n",
    "# configs.append({})\n",
    "for index,config in enumerate(tqdm(configs)):\n",
    "    # print(f\"Running: {config}\")\n",
    "    tmodel = DecisionTreeRegressor(**config); \n",
    "    tmodel.fit(xtrain,ytrain); \n",
    "\n",
    "    yhat = tmodel.predict(xtest)\n",
    "\n",
    "    accuracies = list(map(\n",
    "        lambda x: accuracy(yhat, ytest, x)\n",
    "    ,[0.001, 0.01, 0.1])) \n",
    "    predicted = tmodel.predict(xtest)\n",
    "    # print(\n",
    "    #     ytest.shape,    \n",
    "    #     predicted.shape\n",
    "    # )\n",
    "\n",
    "    table[index] = row(json.dumps(config), ytest.reshape(-1), predicted, accuracies)\n",
    "\n",
    "table = pd.DataFrame(table, columns=[\"\",\"R2\",\"MAE\", \"MSE\",\"Acc@0.1%\", \"Acc@1%\", \"Acc@10%\"]); \n",
    "table"
   ]
  },
  {
   "cell_type": "code",
   "execution_count": 18,
   "metadata": {},
   "outputs": [
    {
     "data": {
      "text/plain": [
       "<matplotlib.collections.PathCollection at 0x16736b88ee0>"
      ]
     },
     "execution_count": 18,
     "metadata": {},
     "output_type": "execute_result"
    },
    {
     "data": {
      "image/png": "iVBORw0KGgoAAAANSUhEUgAAAkIAAAGdCAYAAAD+JxxnAAAAOXRFWHRTb2Z0d2FyZQBNYXRwbG90bGliIHZlcnNpb24zLjUuMywgaHR0cHM6Ly9tYXRwbG90bGliLm9yZy/NK7nSAAAACXBIWXMAAA9hAAAPYQGoP6dpAABao0lEQVR4nO3df1RU16E2/mfAwhB+jJAEBhGRKIhmihFhGgHFJAYklkR82xD7jVOtaEDEGCJtrFYj5g2YWjVxKtdYIhjA0KLxR7UYWkWlRiAKrUo0UjAkZAhBVmeMXEZmON8/eJ2VCaBoZoDhPJ+1zrr37LP3nr059zpP9vkxEkEQBBARERGJkN1gD4CIiIhosDAIERERkWgxCBEREZFoMQgRERGRaDEIERERkWgxCBEREZFoMQgRERGRaDEIERERkWiNGOwBDHVdXV346quv4OrqColEMtjDISIion4QBAE3btzAqFGjYGfX97oPg9BdfPXVV/D19R3sYRAREdF9+OKLLzB69Og+jzMI3YWrqyuA7j+km5vbII+GiIiI+kOn08HX19f0Pd4XBqG7uH05zM3NjUGIiIjIxtztthbeLE1ERESixSBEREREosUgRERERKLFIERERESixSBEREREosUgRERERKLFIERERESixSBEREREosUXKhKRKBm7BFQ2tKHlRgc8XaVQ+nvA3o6/J0gkNlZbEdqxYwf8/f0hlUoxdepUnD59+o719Xo91qxZAz8/Pzg6OmLcuHF47733TMdzc3MhkUh6bB0dHaY6BQUF8PX1hYeHB9LT0836v3btGgIDA6HT6Sw7USKyOSUXNYjcdBzzd53Fyx/UYP6us4jcdBwlFzWDPTQiGmBWWREqKirCypUrsWPHDkRERGDnzp2IjY1FbW0txowZ02ub559/Hl9//TVycnIwfvx4tLS0wGAwmNVxc3PDlStXzMqkUikAoLW1FYmJicjNzcUjjzyCOXPmYObMmZgzZw4AIDk5GVlZWfyZDCKRK7moQXL+eQjfK2/WdiA5/zyyXwzBbIX3oIyNiAaeVYLQli1bsHjxYiQmJgIAtm3bhmPHjiE7OxuZmZk96peUlODkyZOor6+Hh4cHAGDs2LE96kkkEsjl8l4/s76+HjKZDAkJCQCAJ554ArW1tZgzZw4KCwvh4OCAefPmWWiGRGSLjF0CNhyu7RGCAEAAIAGw4XAtnp4k52UyIpGw+KWxW7du4dy5c4iOjjYrj46OxpkzZ3ptc+jQIYSGhuKtt96Cj48PAgMDsWrVKvzv//6vWb1vv/0Wfn5+GD16NH7605+iurradCwgIADt7e2orq5GW1sbqqqqEBwcjLa2Nqxbtw5qtbpf49fr9dDpdGYbEQ0PlQ1t0Gg7+jwuANBoO1DZ0DZwgyKiQWXxINTa2gqj0QgvLy+zci8vLzQ3N/fapr6+HuXl5bh48SI+/PBDbNu2DcXFxUhJSTHVCQoKQm5uLg4dOoS9e/dCKpUiIiICV69eBQC4u7sjLy8PKpUKSqUSKpUKMTExWLVqFVJTU9HQ0IApU6ZAoVCguLi4z/FnZmZCJpOZNl9fXwv8VYhoKGi50XcIup96RGT7rPbU2Pd/9l4QhB5lt3V1dUEikaCgoAAymQxA9+W1n/3sZ/jjH/8IJycnPP7443j88cdNbSIiIhASEoLt27fjnXfeAQDEx8cjPj7eVKesrAwXLlyAWq3G+PHjsXfvXsjlciiVSsyYMQOenp49xrJ69WqkpaWZ9nU6HcMQ0TDh6Sq1aD0isn0WXxF66KGHYG9v32P1p6Wlpccq0W3e3t7w8fExhSAAmDhxIgRBwJdfftlrGzs7O4SFhZlWhL5Pr9dj2bJl2LlzJ+rq6mAwGBAVFYUJEyYgMDAQFRUVvbZzdHSEm5ub2UZEw4PS3wPeMin6uvtHAsBb1v0oPRGJg8WDkIODA6ZOnYrS0lKz8tLSUoSHh/faJiIiAl999RW+/fZbU9lnn30GOzs7jB49utc2giCgpqYG3t69P92xceNGxMbGIiQkBEaj0ewJtM7OThiNxnudGhHZOHs7CdbHTQKAHmHo9v76uEm8UZpIRKzyHqG0tDT86U9/wnvvvYdPP/0Ur7zyChobG5GUlASg+/KTSqUy1f/FL36BBx98EIsWLUJtbS1OnTqF9PR0/OpXv4KTkxMAYMOGDTh27Bjq6+tRU1ODxYsXo6amxtTnd126dAlFRUXIyMgA0H1/kZ2dHXJycnDkyBFcvnwZYWFh1pg6EQ1xsxXeyH4xBHKZ+eUvuUzKR+eJRMgq9wglJCTg+vXryMjIgEajgUKhwNGjR+Hn5wcA0Gg0aGxsNNV3cXFBaWkpUlNTERoaigcffBDPP/883njjDVOd//73v1i6dCmam5shk8kwZcoUnDp1Ckql0uyzBUHA0qVLsXXrVjg7OwMAnJyckJubi5SUFOj1eqjVavj4+Fhj6kRkA2YrvPH0JDnfLE1EkAiC0NsrNej/0el0kMlk0Gq1vF+IiIjIRvT3+5s/ukpERESixSBEREREosUgRERERKLFIERERESixSBEREREosUgRERERKLFIERERESixSBEREREosUgRERERKLFIERERESixSBEREREosUgRERERKLFIERERESixSBEREREojVisAdARDQYjF0CKhva0HKjA56uUij9PWBvJxnsYRHRALPaitCOHTvg7+8PqVSKqVOn4vTp03esr9frsWbNGvj5+cHR0RHjxo3De++9Zzre2dmJjIwMjBs3DlKpFJMnT0ZJSYlZHwUFBfD19YWHhwfS09PNjl27dg2BgYHQ6XSWmyQR2aSSixpEbjqO+bvO4uUPajB/11lEbjqOkouawR4aEQ0wq6wIFRUVYeXKldixYwciIiKwc+dOxMbGora2FmPGjOm1zfPPP4+vv/4aOTk5GD9+PFpaWmAwGEzH165di/z8fOzatQtBQUE4duwY4uPjcebMGUyZMgWtra1ITExEbm4uHnnkEcyZMwczZ87EnDlzAADJycnIysqCm5ubNaZMRDai5KIGyfnnIXyvvFnbgeT888h+MQSzFd6DMjYiGngSQRC+/+/BD/aTn/wEISEhyM7ONpVNnDgRc+fORWZmZo/6JSUleOGFF1BfXw8PD49e+xw1ahTWrFmDlJQUU9ncuXPh4uKC/Px8VFZW4tlnn0VzczMAICEhAaGhoUhPT0dhYSGKiopw8ODBe56LTqeDTCaDVqtliCKyccYuAZGbjkOj7ej1uASAXCZF+W+e5GUyIhvX3+9vi18au3XrFs6dO4fo6Giz8ujoaJw5c6bXNocOHUJoaCjeeust+Pj4IDAwEKtWrcL//u//muro9XpIpVKzdk5OTigvLwcABAQEoL29HdXV1Whra0NVVRWCg4PR1taGdevWQa1W92v8er0eOp3ObCOi4aGyoa3PEAQAAgCNtgOVDW0DNygiGlQWD0Ktra0wGo3w8vIyK/fy8jKt1nxffX09ysvLcfHiRXz44YfYtm0biouLzVZ/YmJisGXLFly9ehVdXV0oLS3FwYMHodF0X9N3d3dHXl4eVCoVlEolVCoVYmJisGrVKqSmpqKhoQFTpkyBQqFAcXFxn+PPzMyETCYzbb6+vhb4qxDRUNByo+8QdD/1iMj2We2pMYnEfFlZEIQeZbd1dXVBIpGgoKAAMpkMALBlyxb87Gc/wx//+Ec4OTnh7bffxpIlSxAUFASJRIJx48Zh0aJF2L17t6mf+Ph4xMfHm/bLyspw4cIFqNVqjB8/Hnv37oVcLodSqcSMGTPg6enZYyyrV69GWlqaaV+n0zEMEQ0Tnq7Su1e6h3pEZPssviL00EMPwd7evsfqT0tLS49Votu8vb3h4+NjCkFA9z1FgiDgyy+/BAA8/PDDOHDgAG7evInPP/8cly9fhouLC/z9/XvtU6/XY9myZdi5cyfq6upgMBgQFRWFCRMmIDAwEBUVFb22c3R0hJubm9lGRMOD0t8D3jIp+rr7RwLAW9b9KD0RiYPFg5CDgwOmTp2K0tJSs/LS0lKEh4f32iYiIgJfffUVvv32W1PZZ599Bjs7O4wePdqsrlQqhY+PDwwGA/bt24fnnnuu1z43btyI2NhYhISEwGg0mj2B1tnZCaPReL9TJCIbZW8nwfq4SQDQIwzd3l8fN4k3ShOJiFXeI5SWloY//elPeO+99/Dpp5/ilVdeQWNjI5KSkgB0X35SqVSm+r/4xS/w4IMPYtGiRaitrcWpU6eQnp6OX/3qV3BycgIAVFRUYP/+/aivr8fp06cxe/ZsdHV14de//nWPz7906RKKioqQkZEBAAgKCoKdnR1ycnJw5MgRXL58GWFhYdaYOhENcbMV3sh+MQRymfnlL7lMykfniUTIKvcIJSQk4Pr168jIyIBGo4FCocDRo0fh5+cHANBoNGhsbDTVd3FxQWlpKVJTUxEaGooHH3wQzz//PN544w1TnY6ODqxduxb19fVwcXHBM888g/fffx8jR440+2xBELB06VJs3boVzs7OALqfLsvNzUVKSgr0ej3UajV8fHysMXUisgGzFd54epKcb5YmIuu8R2g44XuEiIiIbM+gvUeIiIiIyFYwCBEREZFoMQgRERGRaDEIERERkWgxCBEREZFoMQgRERGRaDEIERERkWgxCBEREZFoMQgRERGRaDEIERERkWgxCBEREZFoMQgRERGRaDEIERERkWgxCBEREZFojRjsARARDQZjl4DKhja03OiAp6sUSn8P2NtJBntYRDTALL4ilJmZibCwMLi6usLT0xNz587FlStX7thm//79ePrpp/Hwww/Dzc0N06ZNw7Fjx8zqdHZ2IiMjA+PGjYNUKsXkyZNRUlJiVqegoAC+vr7w8PBAenq62bFr164hMDAQOp3OMhMlIptVclGDyE3HMX/XWbz8QQ3m7zqLyE3HUXJRM9hDI6IBZvEgdPLkSaSkpODs2bMoLS2FwWBAdHQ0bt682WebU6dO4emnn8bRo0dx7tw5PPHEE4iLi0N1dbWpztq1a7Fz505s374dtbW1SEpKQnx8vKlOa2srEhMTsXnzZhw7dgx5eXk4cuSIqX1ycjKysrLg5uZm6SkTkQ0puahBcv55aLQdZuXN2g4k559nGCISGYkgCII1P+Cbb76Bp6cnTp48iRkzZvS73aOPPoqEhASsW7cOADBq1CisWbMGKSkppjpz586Fi4sL8vPzUVlZiWeffRbNzc0AgISEBISGhiI9PR2FhYUoKirCwYMH73n8Op0OMpkMWq2WIYrIxhm7BERuOt4jBN0mASCXSVH+myd5mYzIxvX3+9vqN0trtVoAgIeHR7/bdHV14caNG2Zt9Ho9pFKpWT0nJyeUl5cDAAICAtDe3o7q6mq0tbWhqqoKwcHBaGtrw7p166BWq/v12Xq9HjqdzmwjouGhsqGtzxAEAAIAjbYDlQ1tAzcoIhpUVg1CgiAgLS0NkZGRUCgU/W73hz/8ATdv3sTzzz9vKouJicGWLVtw9epVdHV1obS0FAcPHoRG072M7e7ujry8PKhUKiiVSqhUKsTExGDVqlVITU1FQ0MDpkyZAoVCgeLi4j4/OzMzEzKZzLT5+vre/x+AiIaUlht9h6D7qUdEts+ql8ZSUlJw5MgRlJeXY/To0f1qs3fvXiQmJuLgwYOYNWuWqfybb77BkiVLcPjwYUgkEowbNw6zZs3C7t270d7e3mtfZWVlSE9Px8mTJzF+/Hjs3bsXcrkcSqUSV69ehaenZ482er0eer3etK/T6eDr68tLY0TDwMf/uY75u87etd7eJY9j2rgHB2BERGQtg35pLDU1FYcOHcKJEyf6HYKKioqwePFi/PnPfzYLQQDw8MMP48CBA7h58yY+//xzXL58GS4uLvD39++1L71ej2XLlmHnzp2oq6uDwWBAVFQUJkyYgMDAQFRUVPTaztHREW5ubmYbEQ0PSn8PeMuk6OvuHwkAb1n3o/REJA4WD0KCIGD58uXYv38/jh8/3mdQ+b69e/di4cKFKCwsxJw5c/qsJ5VK4ePjA4PBgH379uG5557rtd7GjRsRGxuLkJAQGI1GGAwG07HOzk4YjcZ7mxgR2Tx7OwnWx00CgB5h6Pb++rhJvFGaSEQs/kLFlJQUFBYW4uDBg3B1dTU9xSWTyeDk5AQAWL16NZqamrBnzx4A3SFIpVLh7bffxuOPP25q4+TkBJlMBgCoqKhAU1MTHnvsMTQ1NeH1119HV1cXfv3rX/cYw6VLl1BUVISamhoAQFBQEOzs7JCTkwO5XI7Lly8jLCzM0lMnIhswW+GN7BdDsOFwrdmN03KZFOvjJmG2wnsQR0dEA06wMHQ/eNFj2717t6nOL3/5SyEqKsq0HxUV1WubX/7yl6Y6ZWVlwsSJEwVHR0fhwQcfFBYsWCA0NTX1+Pyuri4hPDxcOHz4sFn54cOHhTFjxgheXl7Crl27+j0frVYrABC0Wm2/2xDR0Gcwdgln6lqFA9VfCmfqWgWDsWuwh0REFtTf72+rv0fI1vE9QkRERLZn0G+WJiIiIhrqGISIiIhItBiEiIiISLQYhIiIiEi0GISIiIhItBiEiIiISLQYhIiIiEi0GISIiIhItBiEiIiISLQYhIiIiEi0GISIiIhItBiEiIiISLQYhIiIiEi0GISIiIhItEYM9gCIiAaDsUtAZUMbWm50wNNVCqW/B+ztJIM9LCIaYFZbEdqxYwf8/f0hlUoxdepUnD59+o71CwoKMHnyZDzwwAPw9vbGokWLcP36ddPxzs5OZGRkYNy4cZBKpZg8eTJKSkp69OHr6wsPDw+kp6ebHbt27RoCAwOh0+ksN0kiskklFzWI3HQc83edxcsf1GD+rrOI3HQcJRc1gz00IhpgVglCRUVFWLlyJdasWYPq6mpMnz4dsbGxaGxs7LV+eXk5VCoVFi9ejEuXLuEvf/kLqqqqkJiYaKqzdu1a7Ny5E9u3b0dtbS2SkpIQHx+P6upqAEBraysSExOxefNmHDt2DHl5eThy5IipfXJyMrKysuDm5maNKRORjSi5qEFy/nlotB1m5c3aDiTnn2cYIhIZqwShLVu2YPHixUhMTMTEiROxbds2+Pr6Ijs7u9f6Z8+exdixY7FixQr4+/sjMjISL730Ej755BNTnffffx+//e1v8cwzz+CRRx5BcnIyYmJi8Ic//AEAUF9fD5lMhoSEBISFheGJJ55AbW0tAKCwsBAODg6YN2+eNaZLRDbC2CVgw+FaCL0cu1224XAtjF291SCi4cjiQejWrVs4d+4coqOjzcqjo6Nx5syZXtuEh4fjyy+/xNGjRyEIAr7++msUFxdjzpw5pjp6vR5SqdSsnZOTE8rLywEAAQEBaG9vR3V1Ndra2lBVVYXg4GC0tbVh3bp1UKvV/Rq/Xq+HTqcz24hoeKhsaOuxEvRdAgCNtgOVDW0DNygiGlQWD0Ktra0wGo3w8vIyK/fy8kJzc3OvbcLDw1FQUICEhAQ4ODhALpdj5MiR2L59u6lOTEwMtmzZgqtXr6KrqwulpaU4ePAgNJruZWx3d3fk5eVBpVJBqVRCpVIhJiYGq1atQmpqKhoaGjBlyhQoFAoUFxf3Of7MzEzIZDLT5uvra4G/ChENBS03+g5B91OPiGyf1W6WlkjMn74QBKFH2W21tbVYsWIF1q1bh3PnzqGkpAQNDQ1ISkoy1Xn77bcREBCAoKAgODg4YPny5Vi0aBHs7e1NdeLj43HhwgXU1dXh9ddfR1lZGS5cuIAlS5bghRdewLZt27Bv3z4sXrwYLS0tvY5l9erV0Gq1pu2LL76wwF+DiIYCT1fp3SvdQz0isn0Wf3z+oYcegr29fY/Vn5aWlh6rRLdlZmYiIiLC9KRXcHAwnJ2dMX36dLzxxhvw9vbGww8/jAMHDqCjowPXr1/HqFGj8Nprr8Hf37/XPvV6PZYtW4b8/HzU1dXBYDAgKioKABAYGIiKigrExcX1aOfo6AhHR8cf8icgoiFK6e8Bb5kUzdqOXu8TkgCQy7ofpScicbD4ipCDgwOmTp2K0tJSs/LS0lKEh4f32qa9vR12duZDub3SIwjm/1xJpVL4+PjAYDBg3759eO6553rtc+PGjYiNjUVISAiMRiMMBoPpWGdnJ4xG4z3PjYhsm72dBOvjJgHoDj3fdXt/fdwkvk+ISESs8kLFtLQ0LFiwAKGhoZg2bRreffddNDY2mi51rV69Gk1NTdizZw8AIC4uDkuWLEF2djZiYmKg0WiwcuVKKJVKjBo1CgBQUVGBpqYmPPbYY2hqasLrr7+Orq4u/PrXv+7x+ZcuXUJRURFqamoAAEFBQbCzs0NOTg7kcjkuX76MsLAwa0ydiIa42QpvZL8Ygg2Ha81unJbLpFgfNwmzFd6DODoiGmhWCUIJCQm4fv06MjIyoNFooFAocPToUfj5+QEANBqN2TuFFi5ciBs3bkCtVuPVV1/FyJEj8eSTT2LTpk2mOh0dHVi7di3q6+vh4uKCZ555Bu+//z5Gjhxp9tmCIGDp0qXYunUrnJ2dAXQ/XZabm4uUlBTo9Xqo1Wr4+PhYY+pEZANmK7zx9CQ53yxNRJAI37/2RGZ0Oh1kMhm0Wi1fxkhERGQj+vv9zR9dJSIiItFiECIiIiLRYhAiIiIi0WIQIiIiItFiECIiIiLRYhAiIiIi0WIQIiIiItFiECIiIiLRYhAiIiIi0WIQIiIiItFiECIiIiLRYhAiIiIi0WIQIiIiItFiECIiIiLRGjHYAyAiGgzGLgGVDW1oudEBT1cplP4esLeTDPawiGiA3fOK0KlTpxAXF4dRo0ZBIpHgwIEDZsf379+PmJgYPPTQQ5BIJKipqblrn7t27cL06dPh7u4Od3d3zJo1C5WVlff0uQCwefNmeHl5wcvLC1u3bjU7VlFRgalTp8JoNN7rlIlomCm5qEHkpuOYv+ssXv6gBvN3nUXkpuMouagZ7KER0QC75yB08+ZNTJ48GWq1us/jERERyMrK6nefZWVlmD9/Pk6cOIGPP/4YY8aMQXR0NJqamvr9uRcuXMC6deuwd+9eFBYW4re//S0uXrwIAOjs7ERSUhL+53/+B/b29vcwWyIabkouapCcfx4abYdZebO2A8n55xmGiETmni+NxcbGIjY2ts/jCxYsAABcu3at330WFBSY7e/atQvFxcX4xz/+AZVK1a/P/fTTTxEcHIwnn3wSABAcHIxPP/0UCoUCv//97zFjxgyEhYX1e0xENPwYuwRsOFwLoZdjAgAJgA2Ha/H0JDkvkxGJxJC8R6i9vR2dnZ3w8PDod5sf//jH+Oyzz9DY2AhBEPDZZ59BoVCgrq4Oubm5OHfuXL/60ev10Ov1pn2dTnfP4yeioamyoa3HStB3CQA02g5UNrRh2rgHB25gRDRohuRTY6+99hp8fHwwa9asfreZOHEi3nzzTTz99NOIjo5GZmYmJk6ciKSkJLz11ls4duwYFAoFpkyZglOnTvXZT2ZmJmQymWnz9fW1xJSIaAhoudF3CLqfekRk+4bcitBbb72FvXv3oqysDFKp9J7aJiUlISkpybSfm5sLV1dXTJs2DRMmTEBVVRW+/PJLvPDCC2hoaICjo2OPPlavXo20tDTTvk6nYxgiGiY8Xfv3b0p/6xGR7RtSQWjz5s1488038fe//x3BwcE/qK/W1lZkZGTg1KlTqKioQGBgIAICAhAQEIDOzk589tln+PGPf9yjnaOjY68BiYhsn9LfA94yKZq1Hb3eJyQBIJd1P0pPROIwZC6N/f73v8fGjRtRUlKC0NDQH9zfypUr8corr2D06NEwGo3o7Ow0HTMYDHyMnkiE7O0kWB83CUB36Pmu2/vr4ybxRmkiEbnnFaFvv/0WdXV1pv2GhgbU1NTAw8MDY8aMQVtbGxobG/HVV18BAK5cuQIAkMvlkMvlAACVSgUfHx9kZmYC6L4c9rvf/Q6FhYUYO3YsmpubAQAuLi5wcXHp1+d+V2lpKa5evYo9e/YAAJRKJS5fvoy//e1v+OKLL2Bvb48JEybc69SJaBiYrfBG9osh2HC41uzGablMivVxkzBb4T2IoyOiASfcoxMnTgjofrjCbPvlL38pCIIg7N69u9fj69evN/URFRVlqi8IguDn53fXNnf73Nva29uFwMBAobq62qx8165dgpeXlzBmzBjhr3/9a7/nq9VqBQCCVqvtdxsiGvoMxi7hTF2rcKD6S+FMXatgMHYN9pCIyIL6+/0tEQSht0vl9P/odDrIZDJotVq4ubkN9nCIiIioH/r7/T1k7hEiIiIiGmgMQkRERCRaDEJEREQkWgxCREREJFoMQkRERCRaDEJEREQkWgxCREREJFoMQkRERCRaDEJEREQkWgxCREREJFoMQkRERCRaDEJEREQkWgxCREREJFoMQkRERCRaIwZ7AEREg8HYJaCyoQ0tNzrg6SqF0t8D9naSwR4WEQ0wi68IZWZmIiwsDK6urvD09MTcuXNx5cqVO7YpLy9HREQEHnzwQTg5OSEoKAhbt241q3Pp0iX8n//zfzB27FhIJBJs27atRz8FBQXw9fWFh4cH0tPTzY5du3YNgYGB0Ol0P3iORGTbSi5qELnpOObvOouXP6jB/F1nEbnpOEouagZ7aEQ0wCwehE6ePImUlBScPXsWpaWlMBgMiI6Oxs2bN/ts4+zsjOXLl+PUqVP49NNPsXbtWqxduxbvvvuuqU57ezseeeQRZGVlQS6X9+ijtbUViYmJ2Lx5M44dO4a8vDwcOXLEdDw5ORlZWVlwc3Oz7ISJyKaUXNQgOf88NNoOs/JmbQeS888zDBGJjEQQBMGaH/DNN9/A09MTJ0+exIwZM/rdbt68eXB2dsb777/f49jYsWOxcuVKrFy50lRWWVmJZ599Fs3NzQCAhIQEhIaGIj09HYWFhSgqKsLBgwfvefw6nQ4ymQxarZYhisjGGbsERG463iME3SYBIJdJUf6bJ3mZjMjG9ff72+o3S2u1WgCAh4dHv9tUV1fjzJkziIqK6nebgIAAtLe3o7q6Gm1tbaiqqkJwcDDa2tqwbt06qNXqfvWj1+uh0+nMNiIaHiob2voMQQAgANBoO1DZ0DZwgyKiQWXVICQIAtLS0hAZGQmFQnHX+qNHj4ajoyNCQ0ORkpKCxMTEfn+Wu7s78vLyoFKpoFQqoVKpEBMTg1WrViE1NRUNDQ2YMmUKFAoFiouL++wnMzMTMpnMtPn6+vZ7DEQ0tLXc6DsE3U89IrJ9Vn1qbPny5fj3v/+N8vLyftU/ffo0vv32W5w9exavvfYaxo8fj/nz5/f78+Lj4xEfH2/aLysrw4ULF6BWqzF+/Hjs3bsXcrkcSqUSM2bMgKenZ48+Vq9ejbS0NNO+TqdjGCIaJjxdpRatR0S2z2pBKDU1FYcOHcKpU6cwevTofrXx9/cHAPz4xz/G119/jddff/2egtB36fV6LFu2DPn5+airq4PBYDBdagsMDERFRQXi4uJ6tHN0dISjo+N9fSYRDW1Kfw94y6Ro1nagt5sjb98jpPTv/6V8IrJtFr80JggCli9fjv379+P48eOmcHM//ej1+vsex8aNGxEbG4uQkBAYjUYYDAbTsc7OThiNxvvum4hsk72dBOvjJgHoDj3fdXt/fdwk3ihNJCIWXxFKSUlBYWEhDh48CFdXV9NTXDKZDE5OTgC6Lz81NTVhz549AIA//vGPGDNmDIKCggB0v1do8+bNSE1NNfV769Yt1NbWmv73pqYm1NTUwMXFBePHjzcbw6VLl1BUVISamhoAQFBQEOzs7JCTkwO5XI7Lly8jLCzM0lMnIhswW+GN7BdDsOFwrdmN03KZFOvjJmG2wnsQR0dEA83ij89LJL3/l9Tu3buxcOFCAMDChQtx7do1lJWVAQC2b9+OnTt3oqGhASNGjMC4ceOwZMkSvPTSS7Cz6160unbtWq+rS1FRUaZ+gO6VpMjISKxevRo//elPTeV//etfkZKSAr1ejzfeeKPfN2Lz8Xmi4YlvliYa3vr7/W319wjZOgYhIiIi2zNk3iNERERENFQxCBEREZFoMQgRERGRaDEIERERkWgxCBEREZFoMQgRERGRaDEIERERkWgxCBEREZFoMQgRERGRaDEIERERkWgxCBEREZFoMQgRERGRaDEIERERkWgxCBEREZFoWTwIZWZmIiwsDK6urvD09MTcuXNx5cqVO7ZZuHAhJBJJj+3RRx811dm1axemT58Od3d3uLu7Y9asWaisrDTrp6CgAL6+vvDw8EB6errZsWvXriEwMBA6nc5ykyUim2XsEvDxf67jYE0TPv7PdRi7hMEeEhENghGW7vDkyZNISUlBWFgYDAYD1qxZg+joaNTW1sLZ2bnXNm+//TaysrJM+waDAZMnT8bPf/5zU1lZWRnmz5+P8PBwSKVSvPXWW4iOjsalS5fg4+OD1tZWJCYmIjc3F4888gjmzJmDmTNnYs6cOQCA5ORkZGVlwc3NzdJTJiIbU3JRgw2Ha6HRdpjKvGVSrI+bhNkK70EcGRENNIkgCFb9z6BvvvkGnp6eOHnyJGbMmNGvNgcOHMC8efPQ0NAAPz+/XusYjUa4u7tDrVZDpVKhsrISzz77LJqbmwEACQkJCA0NRXp6OgoLC1FUVISDBw/e8/h1Oh1kMhm0Wi1DFNEwUHJRg+T88/j+P3yS//c/s18MYRgiGgb6+/1t9XuEtFotAMDDw6PfbXJycjBr1qw+QxAAtLe3o7Oz09RvQEAA2tvbUV1djba2NlRVVSE4OBhtbW1Yt24d1Gr1D5sIEdk8Y5eADYdre4QgAKayDYdreZmMSESsGoQEQUBaWhoiIyOhUCj61Uaj0eBvf/sbEhMT71jvtddeg4+PD2bNmgUAcHd3R15eHlQqFZRKJVQqFWJiYrBq1SqkpqaioaEBU6ZMgUKhQHFxcZ/96vV66HQ6s42IhofKhjazy2HfJwDQaDtQ2dA2cIMiokFl8XuEvmv58uX497//jfLy8n63yc3NxciRIzF37tw+67z11lvYu3cvysrKIJVKTeXx8fGIj4837ZeVleHChQtQq9UYP3489u7dC7lcDqVSiRkzZsDT07NH35mZmdiwYUO/x0tEtqPlRt8h6H7qEZHts9qKUGpqKg4dOoQTJ05g9OjR/WojCALee+89LFiwAA4ODr3W2bx5M95880189NFHCA4O7rMvvV6PZcuWYefOnairq4PBYEBUVBQmTJiAwMBAVFRU9Npu9erV0Gq1pu2LL77o19iJaOjzdJXevdI91CMi22fxICQIApYvX479+/fj+PHj8Pf373fbkydPoq6uDosXL+71+O9//3ts3LgRJSUlCA0NvWNfGzduRGxsLEJCQmA0GmEwGEzHOjs7YTQae23n6OgINzc3s42Ihgelvwe8ZVLTjdHfJ0H302NK//7f00hEts3il8ZSUlJQWFiIgwcPwtXV1fQUl0wmg5OTE4DuVZempibs2bPHrG1OTg5+8pOf9Ho/0VtvvYXf/e53KCwsxNixY039uri4wMXFxazupUuXUFRUhJqaGgBAUFAQ7OzskJOTA7lcjsuXLyMsLMzSUyeiIc7eToL1cZOQnH8eEsDspunb4Wh93CTY2/UVlYhouLH4ilB2dja0Wi1mzpwJb29v01ZUVGSqo9Fo0NjYaNZOq9Vi3759fa4G7dixA7du3cLPfvYzs343b95sVk8QBCxduhRbt241vbfIyckJubm5yMjIwOLFi6FWq+Hj42PhmRORLZit8Eb2iyGQy8wvf8llUj46TyRCVn+PkK3je4SIhidjl4DKhja03OiAp2v35TCuBBENH/39/rbqU2NEREOVvZ0E08Y9ONjDIKJBxh9dJSIiItFiECIiIiLRYhAiIiIi0WIQIiIiItFiECIiIiLRYhAiIiIi0WIQIiIiItFiECIiIiLRYhAiIiIi0WIQIiIiItFiECIiIiLRYhAiIiIi0WIQIiIiItHir88TkSgZuwRUNrSh5UYHPF2lUPp7wN5OMtjDIqIBZrUVoR07dsDf3x9SqRRTp07F6dOn71i/oKAAkydPxgMPPABvb28sWrQI169fNx2fOXMmJBJJj23OnDlmffj6+sLDwwPp6elm/V+7dg2BgYHQ6XSWnSgR2ZySixpEbjqO+bvO4uUPajB/11lEbjqOkouawR4aEQ0wqwShoqIirFy5EmvWrEF1dTWmT5+O2NhYNDY29lq/vLwcKpUKixcvxqVLl/CXv/wFVVVVSExMNNXZv38/NBqNabt48SLs7e3x85//HADQ2tqKxMREbN68GceOHUNeXh6OHDliap+cnIysrCy4ublZY8pEZCNKLmqQnH8eGm2HWXmztgPJ+ecZhohExipBaMuWLVi8eDESExMxceJEbNu2Db6+vsjOzu61/tmzZzF27FisWLEC/v7+iIyMxEsvvYRPPvnEVMfDwwNyudy0lZaW4oEHHjAFofr6eshkMiQkJCAsLAxPPPEEamtrAQCFhYVwcHDAvHnzrDFdIrIRxi4BGw7XQujl2O2yDYdrYezqrQYRDUcWD0K3bt3CuXPnEB0dbVYeHR2NM2fO9NomPDwcX375JY4ePQpBEPD111+juLjY7LLX9+Xk5OCFF16As7MzACAgIADt7e2orq5GW1sbqqqqEBwcjLa2Nqxbtw5qtbpf49fr9dDpdGYbEQ0PlQ1tPVaCvksAoNF2oLKhbeAGRUSDyuJBqLW1FUajEV5eXmblXl5eaG5u7rVNeHg4CgoKkJCQAAcHB8jlcowcORLbt2/vtX5lZSUuXrxodunM3d0deXl5UKlUUCqVUKlUiImJwapVq5CamoqGhgZMmTIFCoUCxcXFfY4/MzMTMpnMtPn6+t7HX4GIhqKWG32HoPupR0S2z2o3S0sk5k9fCILQo+y22tparFixAuvWrcO5c+dQUlKChoYGJCUl9Vo/JycHCoUCSqXSrDw+Ph4XLlxAXV0dXn/9dZSVleHChQtYsmQJXnjhBWzbtg379u3D4sWL0dLS0mvfq1evhlarNW1ffPHFfcyeiIYiT1epResRke2z+OPzDz30EOzt7Xus/rS0tPRYJbotMzMTERERpie9goOD4ezsjOnTp+ONN96At7e3qW57ezs++OADZGRk3HEcer0ey5YtQ35+Purq6mAwGBAVFQUACAwMREVFBeLi4nq0c3R0hKOj4z3NmYhsg9LfA94yKZq1Hb3eJyQBIJd1P0pPROJg8RUhBwcHTJ06FaWlpWblpaWlCA8P77VNe3s77OzMh2Jvbw+geyXpu/785z9Dr9fjxRdfvOM4Nm7ciNjYWISEhMBoNMJgMJiOdXZ2wmg09ntORDQ82NtJsD5uEoDu0PNdt/fXx03i+4SIRMQqL1RMS0vDggULEBoaimnTpuHdd99FY2Oj6VLX6tWr0dTUhD179gAA4uLisGTJEmRnZyMmJgYajQYrV66EUqnEqFGjzPrOycnB3Llz8eCDD/b5+ZcuXUJRURFqamoAAEFBQbCzs0NOTg7kcjkuX76MsLAwa0ydiIa42QpvZL8Ygg2Ha81unJbLpFgfNwmzFd53aE1Ew41VglBCQgKuX7+OjIwMaDQaKBQKHD16FH5+fgAAjUZj9k6hhQsX4saNG1Cr1Xj11VcxcuRIPPnkk9i0aZNZv5999hnKy8vx0Ucf9fnZgiBg6dKl2Lp1q+mJMicnJ+Tm5iIlJQV6vR5qtRo+Pj5WmDkR2YLZCm88PUnON0sTESTC9689kRmdTgeZTAatVsuXMRIREdmI/n5/80dXiYiISLQYhIiIiEi0GISIiIhItBiEiIiISLQYhIiIiEi0GISIiIhItBiEiIiISLQYhIiIiEi0GISIiIhItBiEiIiISLQYhIiIiEi0GISIiIhItBiEiIiISLQYhIiIiEi0Rgz2AIiIBoOxS0BlQxtabnTA01UKpb8H7O0kgz0sIhpgVlsR2rFjB/z9/SGVSjF16lScPn26z7oLFy6ERCLpsT366KOmOrt27cL06dPh7u4Od3d3zJo1C5WVlWb9FBQUwNfXFx4eHkhPTzc7du3aNQQGBkKn01l2okRkc0ouahC56Tjm7zqLlz+owfxdZxG56ThKLmoGe2hENMCsEoSKioqwcuVKrFmzBtXV1Zg+fTpiY2PR2NjYa/23334bGo3GtH3xxRfw8PDAz3/+c1OdsrIyzJ8/HydOnMDHH3+MMWPGIDo6Gk1NTQCA1tZWJCYmYvPmzTh27Bjy8vJw5MgRU/vk5GRkZWXBzc3NGlMmIhtRclGD5Pzz0Gg7zMqbtR1Izj/PMEQkMhJBEARLd/qTn/wEISEhyM7ONpVNnDgRc+fORWZm5l3bHzhwAPPmzUNDQwP8/Px6rWM0GuHu7g61Wg2VSoXKyko8++yzaG5uBgAkJCQgNDQU6enpKCwsRFFREQ4ePHjPc9HpdJDJZNBqtQxRRDbO2CUgctPxHiHoNgkAuUyK8t88yctkRDauv9/fFl8RunXrFs6dO4fo6Giz8ujoaJw5c6ZffeTk5GDWrFl9hiAAaG9vR2dnJzw8PAAAAQEBaG9vR3V1Ndra2lBVVYXg4GC0tbVh3bp1UKvV/fpsvV4PnU5nthHR8FDZ0NZnCAIAAYBG24HKhraBGxQRDSqLB6HW1lYYjUZ4eXmZlXt5eZlWa+5Eo9Hgb3/7GxITE+9Y77XXXoOPjw9mzZoFAHB3d0deXh5UKhWUSiVUKhViYmKwatUqpKamoqGhAVOmTIFCoUBxcXGf/WZmZkImk5k2X1/ffsyaiGxBy42+Q9D91CMi22e1p8YkEvNlZUEQepT1Jjc3FyNHjsTcuXP7rPPWW29h7969KCsrg1QqNZXHx8cjPj7etF9WVoYLFy5ArVZj/Pjx2Lt3L+RyOZRKJWbMmAFPT88efa9evRppaWmmfZ1OxzBENEx4ukrvXuke6hGR7bN4EHrooYdgb2/fY/WnpaWlxyrR9wmCgPfeew8LFiyAg4NDr3U2b96MN998E3//+98RHBzcZ196vR7Lli1Dfn4+6urqYDAYEBUVBQAIDAxERUUF4uLierRzdHSEo6Pj3aZJRDZI6e8Bb5kUzdoO9HZz5O17hJT+HgM9NCIaJBa/NObg4ICpU6eitLTUrLy0tBTh4eF3bHvy5EnU1dVh8eLFvR7//e9/j40bN6KkpAShoaF37Gvjxo2IjY1FSEgIjEYjDAaD6VhnZyeMRmM/Z0REw4W9nQTr4yYB6A4933V7f33cJN4oTSQiVrk0lpaWhgULFiA0NBTTpk3Du+++i8bGRiQlJQHovvzU1NSEPXv2mLXLycnBT37yEygUih59vvXWW/jd736HwsJCjB071rTi5OLiAhcXF7O6ly5dQlFREWpqagAAQUFBsLOzQ05ODuRyOS5fvoywsDArzJyIhrrZCm9kvxiCDYdrzW6clsukWB83CbMV3oM4OiIaaFYJQgkJCbh+/ToyMjKg0WigUChw9OhR01NgGo2mxzuFtFot9u3bh7fffrvXPnfs2IFbt27hZz/7mVn5+vXr8frrr5v2BUHA0qVLsXXrVjg7OwMAnJyckJubi5SUFOj1eqjVavj4+FhwxkRkS2YrvPH0JDnfLE1E1nmP0HDC9wgRERHZnkF7jxARERGRrWAQIiIiItFiECIiIiLRYhAiIiIi0WIQIiIiItFiECIiIiLRYhAiIiIi0WIQIiIiItFiECIiIiLRYhAiIiIi0WIQIiIiItFiECIiIiLRYhAiIiIi0WIQIiIiItEaMdgDICIaDMYuAZUNbWi50QFPVymU/h6wt5MM9rCIaIBZfEUoMzMTYWFhcHV1haenJ+bOnYsrV670u/0///lPjBgxAo899phZeWdnJzIyMjBu3DhIpVJMnjwZJSUlZnUKCgrg6+sLDw8PpKenmx27du0aAgMDodPp7ntuRDQ8lFzUIHLTcczfdRYvf1CD+bvOInLTcZRc1Az20IhogFk8CJ08eRIpKSk4e/YsSktLYTAYEB0djZs3b961rVarhUqlwlNPPdXj2Nq1a7Fz505s374dtbW1SEpKQnx8PKqrqwEAra2tSExMxObNm3Hs2DHk5eXhyJEjpvbJycnIysqCm5ub5SZLRDan5KIGyfnnodF2mJU3azuQnH+eYYhIZCSCIAjW/IBvvvkGnp6eOHnyJGbMmHHHui+88AICAgJgb2+PAwcOoKamxnRs1KhRWLNmDVJSUkxlc+fOhYuLC/Lz81FZWYlnn30Wzc3NAICEhASEhoYiPT0dhYWFKCoqwsGDB+95/DqdDjKZDFqtliGKyMYZuwREbjreIwTdJgEgl0lR/psneZmMyMb19/vb6jdLa7VaAICHh8cd6+3evRv/+c9/sH79+l6P6/V6SKVSszInJyeUl5cDAAICAtDe3o7q6mq0tbWhqqoKwcHBaGtrw7p166BWq/s1Xr1eD51OZ7YR0fBQ2dDWZwgCAAGARtuByoa2gRsUEQ0qqwYhQRCQlpaGyMhIKBSKPutdvXoVr732GgoKCjBiRO/3b8fExGDLli24evUqurq6UFpaioMHD0Kj6V7Gdnd3R15eHlQqFZRKJVQqFWJiYrBq1SqkpqaioaEBU6ZMgUKhQHFxcZ9jyczMhEwmM22+vr4/7I9ARENGy42+Q9D91CMi22fVp8aWL1+Of//736ZVm94YjUb84he/wIYNGxAYGNhnvbfffhtLlixBUFAQJBIJxo0bh0WLFmH37t2mOvHx8YiPjzftl5WV4cKFC1Cr1Rg/fjz27t0LuVwOpVKJGTNmwNPTs8fnrF69GmlpaaZ9nU7HMEQ0THi6Su9e6R7qEZHts9qKUGpqKg4dOoQTJ05g9OjRfda7ceMGPvnkEyxfvhwjRozAiBEjkJGRgX/9618YMWIEjh8/DgB4+OGHceDAAdy8eROff/45Ll++DBcXF/j7+/far16vx7Jly7Bz507U1dXBYDAgKioKEyZMQGBgICoqKnpt5+joCDc3N7ONiIYHpb8HvGVS9HX3jwSAt6z7UXoiEgeLByFBELB8+XLs378fx48f7zOo3Obm5oYLFy6gpqbGtCUlJWHChAmoqanBT37yE7P6UqkUPj4+MBgM2LdvH5577rle+924cSNiY2MREhICo9EIg8FgOtbZ2Qmj0fjDJ0tENsXeToL1cZMAoEcYur2/Pm4Sb5QmEhGLXxpLSUlBYWEhDh48CFdXV9NTXDKZDE5OTgC6Lz81NTVhz549sLOz63H/kKenJ6RSqVl5RUUFmpqa8Nhjj6GpqQmvv/46urq68Otf/7rHGC5duoSioiLTU2dBQUGws7NDTk4O5HI5Ll++jLCwMEtPnYhswGyFN7JfDMGGw7VmN07LZVKsj5uE2QrvQRwdEQ00iweh7OxsAMDMmTPNynfv3o2FCxcCADQaDRobG++p346ODqxduxb19fVwcXHBM888g/fffx8jR440qycIApYuXYqtW7fC2dkZQPfTZbm5uUhJSYFer4darYaPj899zY+IbN9shTeeniTnm6WJyPrvEbJ1fI8QERGR7Rky7xEiIiIiGqoYhIiIiEi0GISIiIhItBiEiIiISLQYhIiIiEi0GISIiIhItBiEiIiISLQYhIiIiEi0GISIiIhItBiEiIiISLQYhIiIiEi0GISIiIhItBiEiIiISLQYhIiIiEi0Rgz2AIiIBoOxS0BlQxtabnTA01UKpb8H7O0kgz0sIhpgVlsR2rFjB/z9/SGVSjF16lScPn36jvULCgowefJkPPDAA/D29saiRYtw/fp1szr//e9/kZKSAm9vb0ilUkycOBFHjx4168PX1xceHh5IT083a3vt2jUEBgZCp9NZbpJEZJNKLmoQuek45u86i5c/qMH8XWcRuek4Si5qBntoRDTArBKEioqKsHLlSqxZswbV1dWYPn06YmNj0djY2Gv98vJyqFQqLF68GJcuXcJf/vIXVFVVITEx0VTn1q1bePrpp3Ht2jUUFxfjypUr2LVrF3x8fAAAra2tSExMxObNm3Hs2DHk5eXhyJEjpvbJycnIysqCm5ubNaZMRDai5KIGyfnnodF2mJU3azuQnH+eYYhIZKwShLZs2YLFixcjMTEREydOxLZt2+Dr64vs7Oxe6589exZjx47FihUr4O/vj8jISLz00kv45JNPTHXee+89tLW14cCBA4iIiICfnx8iIyMxefJkAEB9fT1kMhkSEhIQFhaGJ554ArW1tQCAwsJCODg4YN68edaYLhHZCGOXgA2HayH0cux22YbDtTB29VaDiIYjiwehW7du4dy5c4iOjjYrj46OxpkzZ3ptEx4eji+//BJHjx6FIAj4+uuvUVxcjDlz5pjqHDp0CNOmTUNKSgq8vLygUCjw5ptvwmg0AgACAgLQ3t6O6upqtLW1oaqqCsHBwWhra8O6deugVqv7NX69Xg+dTme2EdHwUNnQ1mMl6LsEABptByob2gZuUEQ0qCwehFpbW2E0GuHl5WVW7uXlhebm5l7bhIeHo6CgAAkJCXBwcIBcLsfIkSOxfft2U536+noUFxfDaDTi6NGjWLt2Lf7whz/g//7f/wsAcHd3R15eHlQqFZRKJVQqFWJiYrBq1SqkpqaioaEBU6ZMgUKhQHFxcZ/jz8zMhEwmM22+vr4W+KsQ0VDQcqPvEHQ/9YjI9lntqTGJxPzpC0EQepTdVltbixUrVmDdunWIiYmBRqNBeno6kpKSkJOTAwDo6uqCp6cn3n33Xdjb22Pq1Kn46quv8Pvf/x7r1q0DAMTHxyM+Pt7Ub1lZGS5cuAC1Wo3x48dj7969kMvlUCqVmDFjBjw9PXuMZfXq1UhLSzPt63Q6hiGiYcLTVWrRekRk+ywehB566CHY29v3WP1paWnpsUp0W2ZmJiIiIkxPegUHB8PZ2RnTp0/HG2+8AW9vb3h7e+NHP/oR7O3tTe0mTpyI5uZm3Lp1Cw4ODmZ96vV6LFu2DPn5+airq4PBYEBUVBQAIDAwEBUVFYiLi+sxFkdHRzg6Ov6gvwERDU1Kfw94y6Ro1nb0ep+QBIBc1v0oPRGJg8UvjTk4OGDq1KkoLS01Ky8tLUV4eHivbdrb22FnZz6U24FHELr/uYqIiEBdXR26urpMdT777DN4e3v3CEEAsHHjRsTGxiIkJARGoxEGg8F0rLOz03RvERGJh72dBOvjJgHoDj3fdXt/fdwkvk+ISESs8tRYWloa/vSnP+G9997Dp59+ildeeQWNjY1ISkoC0H35SaVSmerHxcVh//79yM7ORn19Pf75z39ixYoVUCqVGDVqFIDux9+vX7+Ol19+GZ999hmOHDmCN998EykpKT0+/9KlSygqKkJGRgYAICgoCHZ2dsjJycGRI0dw+fJlhIWFWWPqRDTEzVZ4I/vFEMhl5pe/5DIpsl8MwWyF9yCNjIgGg1XuEUpISMD169eRkZEBjUYDhUKBo0ePws/PDwCg0WjM3im0cOFC3LhxA2q1Gq+++ipGjhyJJ598Eps2bTLV8fX1xUcffYRXXnkFwcHB8PHxwcsvv4zf/OY3Zp8tCAKWLl2KrVu3wtnZGQDg5OSE3NxcpKSkQK/XQ61Wm94/RETiM1vhjacnyflmaSKCRLh97Yl6pdPpIJPJoNVq+TJGIiIiG9Hf72/+6CoRERGJFoMQERERiRaDEBEREYkWgxARERGJFoMQERERiRaDEBEREYkWgxARERGJFoMQERERiRaDEBEREYkWgxARERGJFoMQERERiRaDEBEREYkWgxARERGJFoMQERERidaIwR4AEdFguGXowvsfX8Pnbe3w83gAC6aNhcMI/rchkdhY7f/rd+zYAX9/f0ilUkydOhWnT5++Y/2CggJMnjwZDzzwALy9vbFo0SJcv37ddDw3NxcSiaTH1tHRYdaHr68vPDw8kJ6ebtb/tWvXEBgYCJ1OZ9mJEpHNyTxai6Df/Q0bj3yKPR9/jo1HPkXQ7/6GzKO1gz00IhpgVglCRUVFWLlyJdasWYPq6mpMnz4dsbGxaGxs7LV+eXk5VCoVFi9ejEuXLuEvf/kLqqqqkJiYaFbPzc0NGo3GbJNKpQCA1tZWJCYmYvPmzTh27Bjy8vJw5MgRU9vk5GRkZWXBzc3NGlMmIhuRebQWO081oEswL+8SgJ2nGhiGiETGKkFoy5YtWLx4MRITEzFx4kRs27YNvr6+yM7O7rX+2bNnMXbsWKxYsQL+/v6IjIzESy+9hE8++cSsnkQigVwuN9tuq6+vh0wmQ0JCAsLCwvDEE0+gtrb7H7TCwkI4ODhg3rx51pguEdmIW4Yu7DrdcMc6u0434Jaha4BGRESDzeJB6NatWzh37hyio6PNyqOjo3HmzJle24SHh+PLL7/E0aNHIQgCvv76axQXF2POnDlm9b799lv4+flh9OjR+OlPf4rq6mrTsYCAALS3t6O6uhptbW2oqqpCcHAw2trasG7dOqjV6n6NX6/XQ6fTmW1ENDy8//G1HitB39cldNcjInGweBBqbW2F0WiEl5eXWbmXlxeam5t7bRMeHo6CggIkJCTAwcEBcrkcI0eOxPbt2011goKCkJubi0OHDmHv3r2QSqWIiIjA1atXAQDu7u7Iy8uDSqWCUqmESqVCTEwMVq1ahdTUVDQ0NGDKlClQKBQoLi7uc/yZmZmQyWSmzdfX1wJ/FSIaCj5va7doPSKyfVZ7akwikZjtC4LQo+y22tparFixAuvWrUNMTAw0Gg3S09ORlJSEnJwcAMDjjz+Oxx9/3NQmIiICISEh2L59O9555x0AQHx8POLj4011ysrKcOHCBajVaowfPx579+6FXC6HUqnEjBkz4Onp2WMsq1evRlpammlfp9MxDBENE34eD1i0HhHZPosHoYceegj29vY9Vn9aWlp6rBLdlpmZiYiICNOTXsHBwXB2dsb06dPxxhtvwNvbu0cbOzs7hIWFmVaEvk+v12PZsmXIz89HXV0dDAYDoqKiAACBgYGoqKhAXFxcj3aOjo5wdHS8pzkTkW1YMG0s/u/RT+94ecxO0l2PiMTB4pfGHBwcMHXqVJSWlpqVl5aWIjw8vNc27e3tsLMzH4q9vT2A7pWk3giCgJqaml5DEgBs3LgRsbGxCAkJgdFohMFgMB3r7OyE0Wjs95yIaHhwGGGHJdP971hnyXR/vk+ISESscmksLS0NCxYsQGhoKKZNm4Z3330XjY2NSEpKAtB9+ampqQl79uwBAMTFxWHJkiXIzs42XRpbuXIllEolRo0aBQDYsGEDHn/8cQQEBECn0+Gdd95BTU0N/vjHP/b4/EuXLqGoqAg1NTUAuu8vsrOzQ05ODuRyOS5fvoywsDBrTJ2IhrjVz0wC0P102HdXhuwk3SHo9nEiEgerBKGEhARcv34dGRkZ0Gg0UCgUOHr0KPz8/AAAGo3G7J1CCxcuxI0bN6BWq/Hqq69i5MiRePLJJ7Fp0yZTnf/+979YunQpmpubIZPJMGXKFJw6dQpKpdLsswVBwNKlS7F161Y4OzsDAJycnJCbm4uUlBTo9Xqo1Wr4+PhYY+pEZANWPzMJr0YH8c3SRASJ0Ne1JwLQfbO0TCaDVqvlyxiJiIhsRH+/v/mfP0RERCRaDEJEREQkWgxCREREJFoMQkRERCRaDEJEREQkWgxCREREJFoMQkRERCRaDEJEREQkWgxCREREJFoMQkRERCRaDEJEREQkWgxCREREJFoMQkRERCRaDEJEREQkWlYLQjt27IC/vz+kUimmTp2K06dP37F+QUEBJk+ejAceeADe3t5YtGgRrl+/bjq+f/9+hIaGYuTIkXB2dsZjjz2G999/v0cfvr6+8PDwQHp6utmxa9euITAwEDqdznKTJCKbZewS8PF/ruNgTRM+/s91GLuEwR4SEQ2CEdbotKioCCtXrsSOHTsQERGBnTt3IjY2FrW1tRgzZkyP+uXl5VCpVNi6dSvi4uLQ1NSEpKQkJCYm4sMPPwQAeHh4YM2aNQgKCoKDgwP++te/YtGiRfD09ERMTAxaW1uRmJiI3NxcPPLII5gzZw5mzpyJOXPmAACSk5ORlZUFNzc3a0yZiGxIyUUNNhyuhUbbYSrzlkmxPm4SZiu8B3FkRDTQrLIitGXLFixevBiJiYmYOHEitm3bBl9fX2RnZ/da/+zZsxg7dixWrFgBf39/REZG4qWXXsInn3xiqjNz5kzEx8dj4sSJGDduHF5++WUEBwejvLwcAFBfXw+ZTIaEhASEhYXhiSeeQG1tLQCgsLAQDg4OmDdvnjWmS0Q2pOSiBsn5581CEAA0azuQnH8eJRc1gzQyIhoMFg9Ct27dwrlz5xAdHW1WHh0djTNnzvTaJjw8HF9++SWOHj0KQRDw9ddfo7i42LSa832CIOAf//gHrly5ghkzZgAAAgIC0N7ejurqarS1taGqqgrBwcFoa2vDunXroFarLTtRIrI5xi4BGw7XoreLYLfLNhyu5WUyIhGxeBBqbW2F0WiEl5eXWbmXlxeam5t7bRMeHo6CggIkJCTAwcEBcrkcI0eOxPbt283qabVauLi4wMHBAXPmzMH27dvx9NNPAwDc3d2Rl5cHlUoFpVIJlUqFmJgYrFq1CqmpqWhoaMCUKVOgUChQXFzc5/j1ej10Op3ZRkTDQ2VDW4+VoO8SAGi0HahsaBu4QRHRoLLKPUIAIJFIzPYFQehRdlttbS1WrFiBdevWISYmBhqNBunp6UhKSkJOTo6pnqurK2pqavDtt9/iH//4B9LS0vDII49g5syZAID4+HjEx8eb6peVleHChQtQq9UYP3489u7dC7lcDqVSiRkzZsDT07PHWDIzM7FhwwYL/AWIaKhpudF3CLqfekRk+ywehB566CHY29v3WP1paWnpsUp0W2ZmJiIiIkxPegUHB8PZ2RnTp0/HG2+8AW/v7psX7ezsMH78eADAY489hk8//RSZmZmmIPRder0ey5YtQ35+Purq6mAwGBAVFQUACAwMREVFBeLi4nq0W716NdLS0kz7Op0Ovr6+9/6HIKIhx9NVatF6RGT7LH5pzMHBAVOnTkVpaalZeWlpKcLDw3tt097eDjs786HY29sD6F5J6osgCNDr9b0e27hxI2JjYxESEgKj0QiDwWA61tnZCaPR2Gs7R0dHuLm5mW1ENDwo/T3gLZOi97VpQILup8eU/h4DOSwiGkRWuTSWlpaGBQsWIDQ0FNOmTcO7776LxsZGJCUlAehedWlqasKePXsAAHFxcViyZAmys7NNl8ZWrlwJpVKJUaNGAeheNQoNDcW4ceNw69YtHD16FHv27On1SbRLly6hqKgINTU1AICgoCDY2dkhJycHcrkcly9fRlhYmDWmTkRDmL2dBOvjJiE5/zwkgNlN07fD0fq4SbC36ysqEdFwY5UglJCQgOvXryMjIwMajQYKhQJHjx6Fn58fAECj0aCxsdFUf+HChbhx4wbUajVeffVVjBw5Ek8++SQ2bdpkqnPz5k0sW7YMX375JZycnBAUFIT8/HwkJCSYfbYgCFi6dCm2bt0KZ2dnAICTkxNyc3ORkpICvV4PtVoNHx8fa0ydiIa42QpvZL8Y0uM9QnK+R4hIlCTCna49EXQ6HWQyGbRaLS+TEQ0jxi4BlQ1taLnRAU/X7sthXAkiGj76+/1ttafGiIiGMns7CaaNe3Cwh0FEg4w/ukpERESixSBEREREosUgRERERKLFIERERESixSBEREREosUgRERERKLFIERERESixSBEREREosUgRERERKLFIERERESixSBEREREosUgRERERKLFIERERESixV+fJyJRMnYJqGxoQ8uNDni6SqH094C9nWSwh0VEA8ziK0KZmZkICwuDq6srPD09MXfuXFy5cuWObcrKyiCRSHpsly9fNtXp7OxERkYGxo0bB6lUismTJ6OkpMSsn4KCAvj6+sLDwwPp6elmx65du4bAwEDodDrLTZaIbFLJRQ0iNx3H/F1n8fIHNZi/6ywiNx1HyUXNYA+NiAaYxYPQyZMnkZKSgrNnz6K0tBQGgwHR0dG4efPmXdteuXIFGo3GtAUEBJiOrV27Fjt37sT27dtRW1uLpKQkxMfHo7q6GgDQ2tqKxMREbN68GceOHUNeXh6OHDliap+cnIysrCy4ublZespEZENKLmqQnH8eGm2HWXmztgPJ+ecZhohExuKXxr6/SrN79254enri3LlzmDFjxh3benp6YuTIkb0ee//997FmzRo888wzALqDzbFjx/CHP/wB+fn5qK+vh0wmQ0JCAgDgiSeeQG1tLebMmYPCwkI4ODhg3rx5P3yCRGSzjF0CNhyuhdDLMQGABMCGw7V4epKcl8mIRMLqN0trtVoAgIeHx13rTpkyBd7e3njqqadw4sQJs2N6vR5SqdSszMnJCeXl5QCAgIAAtLe3o7q6Gm1tbaiqqkJwcDDa2tqwbt06qNXqfo1Xr9dDp9OZbUQ0PFQ2tPVYCfouAYBG24HKhraBGxQRDSqrBiFBEJCWlobIyEgoFIo+63l7e+Pdd9/Fvn37sH//fkyYMAFPPfUUTp06ZaoTExODLVu24OrVq+jq6kJpaSkOHjwIjaZ7Gdvd3R15eXlQqVRQKpVQqVSIiYnBqlWrkJqaioaGBkyZMgUKhQLFxcV9jiUzMxMymcy0+fr6Wu4PQkSDquVG3yHofuoRke2TCILQ2yqxRaSkpODIkSMoLy/H6NGj76ltXFwcJBIJDh06BAD45ptvsGTJEhw+fBgSiQTjxo3DrFmzsHv3brS3t/faR1lZGdLT03Hy5EmMHz8ee/fuhVwuh1KpxNWrV+Hp6dmjjV6vh16vN+3rdDr4+vpCq9Xy/iIiG/fxf65j/q6zd623d8njmDbuwQEYERFZi06ng0wmu+v3t9VWhFJTU3Ho0CGcOHHinkMQADz++OO4evWqaf/hhx/GgQMHcPPmTXz++ee4fPkyXFxc4O/v32t7vV6PZcuWYefOnairq4PBYEBUVBQmTJiAwMBAVFRU9NrO0dERbm5uZhsRDQ9Kfw94y6To6+4fCQBvWfej9EQkDhYPQoIgYPny5di/fz+OHz/eZ1C5m+rqanh7e/col0ql8PHxgcFgwL59+/Dcc8/12n7jxo2IjY1FSEgIjEYjDAaD6VhnZyeMRuN9jYuIbJe9nQTr4yYBQI8wdHt/fdwk3ihNJCIWf2osJSUFhYWFOHjwIFxdXdHc3AwAkMlkcHJyAgCsXr0aTU1N2LNnDwBg27ZtGDt2LB599FHcunUL+fn52LdvH/bt22fqt6KiAk1NTXjsscfQ1NSE119/HV1dXfj1r3/dYwyXLl1CUVERampqAABBQUGws7NDTk4O5HI5Ll++jLCwMEtPnYhswGyFN7JfDMGGw7VmN07LZVKsj5uE2Yqe/wFGRMOXxYNQdnY2AGDmzJlm5bt378bChQsBABqNBo2NjaZjt27dwqpVq9DU1AQnJyc8+uijOHLkiOlReQDo6OjA2rVrUV9fDxcXFzzzzDN4//33ezxuLwgCli5diq1bt8LZ2RlA99Nlubm5SElJgV6vh1qtho+Pj6WnTkQ2YrbCG09PkvPN0kRk3Zulh4P+3mxFREREQ8eg3yxNRERENNQxCBEREZFoMQgRERGRaDEIERERkWgxCBEREZFoMQgRERGRaDEIERERkWgxCBEREZFoMQgRERGRaFn8JzaGm9sv3tbpdIM8EiIiIuqv29/bd/sBDQahu7hx4wYAwNfXd5BHQkRERPfqxo0bkMlkfR7nb43dRVdXF7766iu4urpCIrHcDzLqdDr4+vriiy++GLa/YTbc58j52b7hPkfOz/YN9zlac36CIODGjRsYNWoU7Oz6vhOIK0J3YWdnh9GjR1utfzc3t2H5f9zfNdznyPnZvuE+R87P9g33OVprfndaCbqNN0sTERGRaDEIERERkWgxCA0SR0dHrF+/Ho6OjoM9FKsZ7nPk/GzfcJ8j52f7hvsch8L8eLM0ERERiRZXhIiIiEi0GISIiIhItBiEiIiISLQYhIiIiEi0GIQsIDs7G8HBwaYXQk2bNg1/+9vfTMe//fZbLF++HKNHj4aTkxMmTpyI7Ozsu/a7b98+TJo0CY6Ojpg0aRI+/PBDa06jT9aYX25uLiQSSY+to6PD2tPp1d3m+PXXX2PhwoUYNWoUHnjgAcyePRtXr169a7+2cg7vZ35D7Rx+V2ZmJiQSCVauXGkqEwQBr7/+OkaNGgUnJyfMnDkTly5dumtfQ+Ucfpel5mdr53D//v2IiYnBQw89BIlEgpqamn71ZSvn8H7mN1TP4ffn19nZid/85jf48Y9/DGdnZ4waNQoqlQpfffXVXfuy9vljELKA0aNHIysrC5988gk++eQTPPnkk3juuedM/wi98sorKCkpQX5+Pj799FO88sorSE1NxcGDB/vs8+OPP0ZCQgIWLFiAf/3rX1iwYAGef/55VFRUDNS0TKwxP6D7TaIajcZsk0qlAzGlHu40R0EQMHfuXNTX1+PgwYOorq6Gn58fZs2ahZs3b/bZp62cw/udHzC0zuFtVVVVePfddxEcHGxW/tZbb2HLli1Qq9WoqqqCXC7H008/bfo9wd4MpXN4myXnB9jWObx58yYiIiKQlZXV775s6Rzez/yAoXcOe5tfe3s7zp8/j9/97nc4f/489u/fj88++wzPPvvsHfsakPMnkFW4u7sLf/rTnwRBEIRHH31UyMjIMDseEhIirF27ts/2zz//vDB79myzspiYGOGFF16w/GDvww+d3+7duwWZTGbNIf5gt+d45coVAYBw8eJF0zGDwSB4eHgIu3bt6rO9rZzD+53fUDyHN27cEAICAoTS0lIhKipKePnllwVBEISuri5BLpcLWVlZprodHR2CTCYT/ud//qfP/obaObT0/GzpHH5XQ0ODAECorq6+a3+2cg6/617mN9TOYX/md1tlZaUAQPj888/7rDMQ548rQhZmNBrxwQcf4ObNm5g2bRoAIDIyEocOHUJTUxMEQcCJEyfw2WefISYmps9+Pv74Y0RHR5uVxcTE4MyZM1Yd/91Yan5A9yU1Pz8/jB49Gj/96U9RXV09EFO4q+/PUa/XA4DZf2HZ29vDwcEB5eXlffZjK+fwfucHDL1zmJKSgjlz5mDWrFlm5Q0NDWhubjY7H46OjoiKirrj+Rhq59DS8wNs5xzeL1s5hz/EUDqH9zI/rVYLiUSCkSNH9llnIM4ff3TVQi5cuIBp06aho6MDLi4u+PDDDzFp0iQAwDvvvIMlS5Zg9OjRGDFiBOzs7PCnP/0JkZGRffbX3NwMLy8vszIvLy80NzdbdR59sfT8goKCkJubix//+MfQ6XR4++23ERERgX/9618ICAgYqGmZ6WuOnZ2d8PPzw+rVq7Fz5044Oztjy5YtaG5uhkaj6bM/WzmH9zu/oXYOP/jgA5w/fx5VVVU9jt3+m/d2Pj7//PM++xxK59Aa87Olc3i/bOUc3q+hdA7vZX4dHR147bXX8Itf/OKOP7Y6EOePQchCJkyYgJqaGvz3v//Fvn378Mtf/hInT57EpEmT8M477+Ds2bM4dOgQ/Pz8cOrUKSxbtgze3t53TM0SicRsXxCEHmUDxdLze/zxx/H444+b9iMiIhASEoLt27fjnXfeGahpmbnTHPft24fFixfDw8MD9vb2mDVrFmJjY+/ap62cw/uZ31A6h1988QVefvllfPTRR3e8N+J+zsdQOIfWmp8tnsP7YUvn8F4NlXN4L/Pr7OzECy+8gK6uLuzYseOufVv9/FnsIhuZeeqpp4SlS5cK7e3two9+9CPhr3/9q9nxxYsXCzExMX229/X1FbZs2WJWtmXLFmHMmDFWGe+9+qHz601iYmKPa8GD6fYcv+u///2v0NLSIgiCICiVSmHZsmV9treVc/hd9zK/3gzWOfzwww8FAIK9vb1pAyBIJBLB3t5eqKurEwAI58+fN2v37LPPCiqVqs9+h8o5tNb8ejNUz6HBYDDVvZd7aGzlHN7v/HozGOewv/O7deuWMHfuXCE4OFhobW29a78Dcf54j5CVCIIAvV6Pzs5OdHZ2ws7O/E9tb2+Prq6uPttPmzYNpaWlZmUfffQRwsPDrTLee/VD59dbfzU1NfD29rb0UO/b7Tl+l0wmw8MPP4yrV6/ik08+wXPPPddne1s5h991L/Prrb/BOodPPfUULly4gJqaGtMWGhqK/+//+/9QU1ODRx55BHK53Ox83Lp1CydPnrzj+Rgq59Ba8/u+oXwO7e3t76tfWzmH9zu/7xusc9if+XV2duL555/H1atX8fe//x0PPvjgXfsdkPNnsUglYqtXrxZOnTolNDQ0CP/+97+F3/72t4KdnZ3w0UcfCYIgCFFRUcKjjz4qnDhxQqivrxd2794tSKVSYceOHaY+FixYILz22mum/X/+85+Cvb29kJWVJXz66adCVlaWMGLECOHs2bPDYn6vv/66UFJSIvznP/8RqqurhUWLFgkjRowQKioqBnx+gnD3Of75z38WTpw4IfznP/8RDhw4IPj5+Qnz5s0z68OWz+H9zG+oncPv+/4TK1lZWYJMJhP2798vXLhwQZg/f77g7e0t6HQ6U52hfA6/zxLzs7VzeP36daG6ulo4cuSIAED44IMPhOrqakGj0Zjq2PI5vJ/5DeVz+N35dXZ2Cs8++6wwevRooaamRtBoNKZNr9eb2gzG+WMQsoBf/epXgp+fn+Dg4CA8/PDDwlNPPWX6ghEEQdBoNMLChQuFUaNGCVKpVJgwYYLwhz/8Qejq6jLViYqKEn75y1+a9fuXv/xFmDBhgvCjH/1ICAoKEvbt2zdQUzJjjfmtXLlSGDNmjKnP6Oho4cyZMwM5LTN3m+Pbb78tjB49WvjRj34kjBkzRli7dq3Z//MKgm2fw/uZ31A7h9/3/S+Zrq4uYf369YJcLhccHR2FGTNmCBcuXOjRZqiew++zxPxs7Rzu3r1bANBjW79+vVkbWz2H9zO/oXwOvzu/25f7ettOnDhh1magz59EEATBcutLRERERLaD9wgRERGRaDEIERERkWgxCBEREZFoMQgRERGRaDEIERERkWgxCBEREZFoMQgRERGRaDEIERERkWgxCBEREZFoMQgRERGRaDEIERERkWgxCBEREZFo/f/PYywhJKYM3gAAAABJRU5ErkJggg==",
      "text/plain": [
       "<Figure size 640x480 with 1 Axes>"
      ]
     },
     "metadata": {},
     "output_type": "display_data"
    }
   ],
   "source": [
    "min_leafs = []\n",
    "for i in table[\"\"]:\n",
    "    # print(type(i))\n",
    "    loaded = json.loads(i)\n",
    "    min_leafs.append(int(loaded[\"max_leaf_nodes\"]))\n",
    "\n",
    "plt.scatter(min_leafs, table[\"Acc@0.1%\"])"
   ]
  },
  {
   "cell_type": "code",
   "execution_count": null,
   "metadata": {},
   "outputs": [],
   "source": [
    "table = [0]\n",
    "\n",
    "model = DecisionTreeRegressor(**config); \n",
    "model.fit(xtrain,ytrain); \n",
    "\n",
    "yhat = model.predict(xtest)\n",
    "\n",
    "accuracies = list(map(\n",
    "    lambda x: accuracy(yhat, ytest, x)\n",
    ",[0.001, 0.01, 0.1])) \n",
    "print(f\"Accuracies: {accuracies}\")\n",
    "table[0] = row(json.dumps(config), ytest.reshape(-1) , model.predict(xtest), accuracies)\n"
   ]
  },
  {
   "cell_type": "code",
   "execution_count": null,
   "metadata": {},
   "outputs": [],
   "source": [
    "print(xtrain.keys())\n",
    "plt.hist(xtrain[\"Vessel Volume(V:L)\"], bins=100)\n"
   ]
  },
  {
   "cell_type": "code",
   "execution_count": null,
   "metadata": {},
   "outputs": [],
   "source": [
    "plt.hist(yhat, bins=100)\n"
   ]
  },
  {
   "cell_type": "code",
   "execution_count": null,
   "metadata": {},
   "outputs": [],
   "source": [
    "plt.hist(ytest, bins=100)"
   ]
  },
  {
   "cell_type": "code",
   "execution_count": null,
   "metadata": {},
   "outputs": [],
   "source": []
  },
  {
   "cell_type": "code",
   "execution_count": null,
   "metadata": {},
   "outputs": [],
   "source": []
  }
 ],
 "metadata": {
  "hide_input": true,
  "kernelspec": {
   "display_name": "Python 3.10.8 ('penn')",
   "language": "python",
   "name": "python3"
  },
  "language_info": {
   "codemirror_mode": {
    "name": "ipython",
    "version": 3
   },
   "file_extension": ".py",
   "mimetype": "text/x-python",
   "name": "python",
   "nbconvert_exporter": "python",
   "pygments_lexer": "ipython3",
   "version": "3.10.8"
  },
  "toc": {
   "base_numbering": 1,
   "nav_menu": {},
   "number_sections": true,
   "sideBar": true,
   "skip_h1_title": false,
   "title_cell": "Table of Contents",
   "title_sidebar": "Contents",
   "toc_cell": false,
   "toc_position": {},
   "toc_section_display": true,
   "toc_window_display": true
  },
  "vscode": {
   "interpreter": {
    "hash": "c6fdd4d7a9b1fd3967106332632e26b73227d0150f91f54ecc26087414a8cb85"
   }
  }
 },
 "nbformat": 4,
 "nbformat_minor": 2
}
