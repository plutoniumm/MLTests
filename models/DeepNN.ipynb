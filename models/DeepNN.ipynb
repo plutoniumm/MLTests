{
 "cells": [
  {
   "cell_type": "markdown",
   "metadata": {},
   "source": [
    "### Initialise"
   ]
  },
  {
   "cell_type": "code",
   "execution_count": 1,
   "metadata": {},
   "outputs": [],
   "source": [
    "## Import necessary packages\n",
    "import time;\n",
    "import numpy as np; \n",
    "import matplotlib.pyplot as plt; \n",
    "from sklearn.model_selection import train_test_split\n",
    "\n",
    "import torch\n",
    "from torch import nn\n",
    "from torch.utils.data import Dataset, DataLoader\n",
    "\n",
    "import python.data as datameta"
   ]
  },
  {
   "cell_type": "code",
   "execution_count": 2,
   "metadata": {},
   "outputs": [
    {
     "name": "stdout",
     "output_type": "stream",
     "text": [
      "Using cpu device\n"
     ]
    }
   ],
   "source": [
    "# Basic Initialisations\n",
    "device = 'cuda' if torch.cuda.is_available() else 'cpu'\n",
    "print('Using {} device'.format(device))"
   ]
  },
  {
   "cell_type": "markdown",
   "metadata": {},
   "source": [
    "### Preprocess Data"
   ]
  },
  {
   "cell_type": "code",
   "execution_count": 3,
   "metadata": {},
   "outputs": [
    {
     "name": "stdout",
     "output_type": "stream",
     "text": [
      "Index(['Time (h)', 'Aeration rate(Fg:L/h)', 'Sugar feed rate(Fs:L/h)',\n",
      "       'Acid flow rate(Fa:L/h)', 'Base flow rate(Fb:L/h)',\n",
      "       'Air head pressure(pressure:bar)', 'Substrate concentration(S:g/L)',\n",
      "       'Penicillin concentration(P:g/L)', 'Vessel Volume(V:L)', 'pH(pH:pH)',\n",
      "       'Temperature(T:K)', 'PAA flow(Fpaa:PAA flow (L/h))',\n",
      "       'Oil flow(Foil:L/hr)', 'Ammonia shots(NH3_shots:kgs)', 'Water Flow'],\n",
      "      dtype='object') \n",
      "\n",
      " (113935, 15)\n"
     ]
    },
    {
     "data": {
      "text/html": [
       "<div>\n",
       "<style scoped>\n",
       "    .dataframe tbody tr th:only-of-type {\n",
       "        vertical-align: middle;\n",
       "    }\n",
       "\n",
       "    .dataframe tbody tr th {\n",
       "        vertical-align: top;\n",
       "    }\n",
       "\n",
       "    .dataframe thead th {\n",
       "        text-align: right;\n",
       "    }\n",
       "</style>\n",
       "<table border=\"1\" class=\"dataframe\">\n",
       "  <thead>\n",
       "    <tr style=\"text-align: right;\">\n",
       "      <th></th>\n",
       "      <th>Time (h)</th>\n",
       "      <th>Aeration rate(Fg:L/h)</th>\n",
       "      <th>Sugar feed rate(Fs:L/h)</th>\n",
       "      <th>Acid flow rate(Fa:L/h)</th>\n",
       "      <th>Base flow rate(Fb:L/h)</th>\n",
       "      <th>Air head pressure(pressure:bar)</th>\n",
       "      <th>Substrate concentration(S:g/L)</th>\n",
       "      <th>Penicillin concentration(P:g/L)</th>\n",
       "      <th>Vessel Volume(V:L)</th>\n",
       "      <th>pH(pH:pH)</th>\n",
       "      <th>Temperature(T:K)</th>\n",
       "      <th>PAA flow(Fpaa:PAA flow (L/h))</th>\n",
       "      <th>Oil flow(Foil:L/hr)</th>\n",
       "      <th>Ammonia shots(NH3_shots:kgs)</th>\n",
       "      <th>Water Flow</th>\n",
       "    </tr>\n",
       "  </thead>\n",
       "  <tbody>\n",
       "    <tr>\n",
       "      <th>0</th>\n",
       "      <td>0.000000</td>\n",
       "      <td>0.181818</td>\n",
       "      <td>0.040541</td>\n",
       "      <td>0.000000</td>\n",
       "      <td>0.133858</td>\n",
       "      <td>0.0</td>\n",
       "      <td>0.008306</td>\n",
       "      <td>1.791808e-27</td>\n",
       "      <td>0.049276</td>\n",
       "      <td>0.767126</td>\n",
       "      <td>0.258427</td>\n",
       "      <td>0.333333</td>\n",
       "      <td>0.0</td>\n",
       "      <td>0.0</td>\n",
       "      <td>0.004470</td>\n",
       "    </tr>\n",
       "    <tr>\n",
       "      <th>1</th>\n",
       "      <td>0.000690</td>\n",
       "      <td>0.181818</td>\n",
       "      <td>0.040541</td>\n",
       "      <td>0.000000</td>\n",
       "      <td>0.227649</td>\n",
       "      <td>0.0</td>\n",
       "      <td>0.008715</td>\n",
       "      <td>2.763729e-05</td>\n",
       "      <td>0.049480</td>\n",
       "      <td>0.800686</td>\n",
       "      <td>0.249064</td>\n",
       "      <td>0.333333</td>\n",
       "      <td>0.0</td>\n",
       "      <td>0.0</td>\n",
       "      <td>0.008252</td>\n",
       "    </tr>\n",
       "    <tr>\n",
       "      <th>2</th>\n",
       "      <td>0.001380</td>\n",
       "      <td>0.181818</td>\n",
       "      <td>0.040541</td>\n",
       "      <td>0.000000</td>\n",
       "      <td>0.241342</td>\n",
       "      <td>0.0</td>\n",
       "      <td>0.009107</td>\n",
       "      <td>2.761905e-05</td>\n",
       "      <td>0.049685</td>\n",
       "      <td>0.836653</td>\n",
       "      <td>0.243446</td>\n",
       "      <td>0.333333</td>\n",
       "      <td>0.0</td>\n",
       "      <td>0.0</td>\n",
       "      <td>0.004363</td>\n",
       "    </tr>\n",
       "    <tr>\n",
       "      <th>3</th>\n",
       "      <td>0.002070</td>\n",
       "      <td>0.181818</td>\n",
       "      <td>0.040541</td>\n",
       "      <td>0.000000</td>\n",
       "      <td>0.168071</td>\n",
       "      <td>0.0</td>\n",
       "      <td>0.009492</td>\n",
       "      <td>2.760247e-05</td>\n",
       "      <td>0.049787</td>\n",
       "      <td>0.860582</td>\n",
       "      <td>0.237828</td>\n",
       "      <td>0.333333</td>\n",
       "      <td>0.0</td>\n",
       "      <td>0.0</td>\n",
       "      <td>0.001972</td>\n",
       "    </tr>\n",
       "    <tr>\n",
       "      <th>4</th>\n",
       "      <td>0.002761</td>\n",
       "      <td>0.181818</td>\n",
       "      <td>0.040541</td>\n",
       "      <td>0.039866</td>\n",
       "      <td>0.084036</td>\n",
       "      <td>0.0</td>\n",
       "      <td>0.009864</td>\n",
       "      <td>2.758782e-05</td>\n",
       "      <td>0.049838</td>\n",
       "      <td>0.865835</td>\n",
       "      <td>0.234082</td>\n",
       "      <td>0.333333</td>\n",
       "      <td>0.0</td>\n",
       "      <td>0.0</td>\n",
       "      <td>0.000502</td>\n",
       "    </tr>\n",
       "  </tbody>\n",
       "</table>\n",
       "</div>"
      ],
      "text/plain": [
       "   Time (h)  Aeration rate(Fg:L/h)  Sugar feed rate(Fs:L/h)  \\\n",
       "0  0.000000               0.181818                 0.040541   \n",
       "1  0.000690               0.181818                 0.040541   \n",
       "2  0.001380               0.181818                 0.040541   \n",
       "3  0.002070               0.181818                 0.040541   \n",
       "4  0.002761               0.181818                 0.040541   \n",
       "\n",
       "   Acid flow rate(Fa:L/h)  Base flow rate(Fb:L/h)  \\\n",
       "0                0.000000                0.133858   \n",
       "1                0.000000                0.227649   \n",
       "2                0.000000                0.241342   \n",
       "3                0.000000                0.168071   \n",
       "4                0.039866                0.084036   \n",
       "\n",
       "   Air head pressure(pressure:bar)  Substrate concentration(S:g/L)  \\\n",
       "0                              0.0                        0.008306   \n",
       "1                              0.0                        0.008715   \n",
       "2                              0.0                        0.009107   \n",
       "3                              0.0                        0.009492   \n",
       "4                              0.0                        0.009864   \n",
       "\n",
       "   Penicillin concentration(P:g/L)  Vessel Volume(V:L)  pH(pH:pH)  \\\n",
       "0                     1.791808e-27            0.049276   0.767126   \n",
       "1                     2.763729e-05            0.049480   0.800686   \n",
       "2                     2.761905e-05            0.049685   0.836653   \n",
       "3                     2.760247e-05            0.049787   0.860582   \n",
       "4                     2.758782e-05            0.049838   0.865835   \n",
       "\n",
       "   Temperature(T:K)  PAA flow(Fpaa:PAA flow (L/h))  Oil flow(Foil:L/hr)  \\\n",
       "0          0.258427                       0.333333                  0.0   \n",
       "1          0.249064                       0.333333                  0.0   \n",
       "2          0.243446                       0.333333                  0.0   \n",
       "3          0.237828                       0.333333                  0.0   \n",
       "4          0.234082                       0.333333                  0.0   \n",
       "\n",
       "   Ammonia shots(NH3_shots:kgs)  Water Flow  \n",
       "0                           0.0    0.004470  \n",
       "1                           0.0    0.008252  \n",
       "2                           0.0    0.004363  \n",
       "3                           0.0    0.001972  \n",
       "4                           0.0    0.000502  "
      ]
     },
     "execution_count": 3,
     "metadata": {},
     "output_type": "execute_result"
    }
   ],
   "source": [
    "data = datameta.processData('../data/clean_data.csv'); \n",
    "data.head()"
   ]
  },
  {
   "cell_type": "code",
   "execution_count": 4,
   "metadata": {},
   "outputs": [
    {
     "name": "stdout",
     "output_type": "stream",
     "text": [
      "x:  14  keys in  14 cols\n",
      "y:  1  keys in  1 cols\n"
     ]
    }
   ],
   "source": [
    "# Split into x and y\n",
    "x_keys = [\n",
    "    \"Time (h)\", \"Aeration rate(Fg:L/h)\", \"Sugar feed rate(Fs:L/h)\",\"Acid flow rate(Fa:L/h)\",\n",
    "    \"Base flow rate(Fb:L/h)\",\"Water Flow\",\"Substrate concentration(S:g/L)\",\"PAA flow(Fpaa:PAA flow (L/h))\",\n",
    "    \"Oil flow(Foil:L/hr)\", \"Ammonia shots(NH3_shots:kgs)\",\n",
    "    # Converted variables\n",
    "    \"Air head pressure(pressure:bar)\", \"Temperature(T:K)\", \"pH(pH:pH)\", \"Vessel Volume(V:L)\"\n",
    "]\n",
    "(x,y) = datameta.xy_split(data,x_keys)"
   ]
  },
  {
   "cell_type": "code",
   "execution_count": 5,
   "metadata": {},
   "outputs": [
    {
     "name": "stdout",
     "output_type": "stream",
     "text": [
      "x_train:  (102541, 14)\n",
      "x_test:  (11394, 14)\n",
      "y_train:  (102541, 1)\n",
      "y_test:  (11394, 1)\n"
     ]
    }
   ],
   "source": [
    "rand = round(time.time() * 1000) % 100; \n",
    "x_train, x_test, y_train, y_test = train_test_split(x, y, train_size=0.9, random_state=rand)\n",
    "\n",
    "print (\"x_train: \", x_train.shape)\n",
    "print (\"x_test: \", x_test.shape)\n",
    "\n",
    "print (\"y_train: \", y_train.shape)\n",
    "print (\"y_test: \", y_test.shape)"
   ]
  },
  {
   "cell_type": "code",
   "execution_count": 6,
   "metadata": {},
   "outputs": [],
   "source": [
    "# Convert data to torch tensors\n",
    "class Data(Dataset):\n",
    "    def __init__(self, x, y):\n",
    "        self.x = torch.from_numpy(x.astype(np.float32))\n",
    "        self.y = torch.from_numpy(y.astype(np.float32))\n",
    "        self.len = self.x.shape[0]\n",
    "       \n",
    "    def __getitem__(self, index):\n",
    "        return self.x[index], self.y[index]\n",
    "   \n",
    "    def __len__(self):\n",
    "        return self.len\n",
    "   \n",
    "batch_size = 32\n",
    "\n",
    "# Instantiate training and test data\n",
    "train_data = Data(x_train.to_numpy(), y_train.to_numpy())\n",
    "train_dataloader = DataLoader(dataset=train_data, batch_size=batch_size, shuffle=True)\n",
    "\n",
    "test_data = Data(x_test.to_numpy(), y_test.to_numpy())\n",
    "test_dataloader = DataLoader(dataset=test_data, batch_size=batch_size, shuffle=True)"
   ]
  },
  {
   "cell_type": "code",
   "execution_count": 7,
   "metadata": {},
   "outputs": [
    {
     "name": "stdout",
     "output_type": "stream",
     "text": [
      "Batch: 1\n",
      "X shape: torch.Size([32, 14])\n",
      "y shape: torch.Size([32, 1])\n"
     ]
    }
   ],
   "source": [
    "# Just checking if it worked\n",
    "for batch, (x, y) in enumerate(train_dataloader):\n",
    "    print(f\"Batch: {batch+1}\")\n",
    "    print(f\"X shape: {x.shape}\")\n",
    "    print(f\"y shape: {y.shape}\")\n",
    "    break"
   ]
  },
  {
   "cell_type": "code",
   "execution_count": 8,
   "metadata": {},
   "outputs": [
    {
     "name": "stdout",
     "output_type": "stream",
     "text": [
      "NeuralNetwork(\n",
      "  (layer_1): Linear(in_features=14, out_features=950, bias=True)\n",
      "  (layer_2): Linear(in_features=950, out_features=1, bias=True)\n",
      ")\n"
     ]
    }
   ],
   "source": [
    "input_dim = len(x_keys)\n",
    "hidden_dim = 950\n",
    "output_dim = 1\n",
    "\n",
    "class NeuralNetwork(nn.Module):\n",
    "    def __init__(self, input_dim, hidden_dim, output_dim):\n",
    "        super(NeuralNetwork, self).__init__()\n",
    "        self.layer_1 = nn.Linear(input_dim, hidden_dim)\n",
    "        nn.init.kaiming_uniform_(self.layer_1.weight, nonlinearity=\"relu\")\n",
    "        self.layer_2 = nn.Linear(hidden_dim, output_dim)\n",
    "       \n",
    "    def forward(self, x):\n",
    "        x = torch.nn.functional.relu(self.layer_1(x))\n",
    "        x = self.layer_2(x)\n",
    "\n",
    "        return x\n",
    "       \n",
    "model = NeuralNetwork(input_dim, hidden_dim, output_dim)\n",
    "print(model)"
   ]
  },
  {
   "cell_type": "code",
   "execution_count": 9,
   "metadata": {},
   "outputs": [],
   "source": [
    "learning_rate = 0.00001\n",
    "loss_fn = nn.MSELoss()\n",
    "optimizer = torch.optim.SGD(model.parameters(), lr=learning_rate)\n",
    "# scheduler = lr_scheduler.ExponentialLR(optimizer, gamma=0.5)"
   ]
  },
  {
   "cell_type": "code",
   "execution_count": 10,
   "metadata": {},
   "outputs": [
    {
     "name": "stdout",
     "output_type": "stream",
     "text": [
      "Training Complete\n"
     ]
    },
    {
     "data": {
      "image/png": "[encoded data removed]",
      "text/plain": [
       "<Figure size 640x480 with 1 Axes>"
      ]
     },
     "metadata": {},
     "output_type": "display_data"
    }
   ],
   "source": [
    "num_epochs = 1500\n",
    "loss_values = []\n",
    "\n",
    "\n",
    "for epoch in range(num_epochs):\n",
    "    for x, y in train_dataloader:\n",
    "        # zero the parameter gradients\n",
    "        optimizer.zero_grad()\n",
    "       \n",
    "        # forward + backward + optimize\n",
    "        pred = model(x)\n",
    "        loss = loss_fn(pred, y)\n",
    "        loss_values.append(loss.item())\n",
    "        loss.backward()\n",
    "        optimizer.step()\n",
    "        # scheduler.step()\n",
    "\n",
    "# plt.plot(loss_values[500:])\n",
    "plt.plot(loss_values)\n",
    "print(\"Training Complete\")"
   ]
  },
  {
   "cell_type": "code",
   "execution_count": 11,
   "metadata": {},
   "outputs": [
    {
     "name": "stdout",
     "output_type": "stream",
     "text": [
      "Accuracy out of 11394.0 test instances: 0.7986659645427417%\n"
     ]
    }
   ],
   "source": [
    "total = 0.0\n",
    "correct = 0.0\n",
    "y_pred = []\n",
    "\n",
    "def isClose(base, known, tol):\n",
    "    return np.abs((base - known) / base) <= tol\n",
    "\n",
    "with torch.no_grad():\n",
    "    for x, y in test_dataloader:\n",
    "        outputs = model(x)\n",
    "        np.append(y_pred, outputs)\n",
    "        np.append(y_test, y)\n",
    "        # y_pred.append(predicted)\n",
    "        # y_test.append(y)\n",
    "        total += y.size(0)\n",
    "        correct += np.sum(isClose(outputs.numpy(), y.numpy(), tol=0.001))\n",
    "\n",
    "print(f'Accuracy out of {total} test instances: {(100 * correct) / total}%')"
   ]
  },
  {
   "cell_type": "code",
   "execution_count": 2,
   "metadata": {},
   "outputs": [
    {
     "data": {
      "text/plain": [
       "[4, 5, 6, 7, 8]"
      ]
     },
     "execution_count": 2,
     "metadata": {},
     "output_type": "execute_result"
    }
   ],
   "source": [
    "x = range(4,9,1)\n",
    "list(x)"
   ]
  },
  {
   "cell_type": "code",
   "execution_count": null,
   "metadata": {},
   "outputs": [],
   "source": []
  }
 ],
 "metadata": {
  "hide_input": true,
  "kernelspec": {
   "display_name": "Python 3 (ipykernel)",
   "language": "python",
   "name": "python3"
  },
  "language_info": {
   "codemirror_mode": {
    "name": "ipython",
    "version": 3
   },
   "file_extension": ".py",
   "mimetype": "text/x-python",
   "name": "python",
   "nbconvert_exporter": "python",
   "pygments_lexer": "ipython3",
   "version": "3.10.8"
  },
  "toc": {
   "base_numbering": 1,
   "nav_menu": {},
   "number_sections": true,
   "sideBar": true,
   "skip_h1_title": false,
   "title_cell": "Table of Contents",
   "title_sidebar": "Contents",
   "toc_cell": false,
   "toc_position": {},
   "toc_section_display": true,
   "toc_window_display": true
  },
  "vscode": {
   "interpreter": {
    "hash": "b0fa6594d8f4cbf19f97940f81e996739fb7646882a419484c72d19e05852a7e"
   }
  }
 },
 "nbformat": 4,
 "nbformat_minor": 2
}
