{
 "cells": [
  {
   "cell_type": "markdown",
   "metadata": {},
   "source": [
    "### IndPenSim Data websites \n",
    "Addition details can be found at:<a href='http://www.industrialpenicillinsimulation.com/'> www.industrialpenicillinsimulation.com</a>\n",
    "Data is downloaded from : <a href='https://data.mendeley.com/datasets/pdnjz7zz5x/1'> Mendeley data Website</a>"
   ]
  },
  {
   "cell_type": "code",
   "execution_count": null,
   "metadata": {},
   "outputs": [],
   "source": [
    "## Import necessary packages\n",
    "import numpy as np \n",
    "import matplotlib.pyplot as plt\n",
    "import pandas as pd"
   ]
  },
  {
   "cell_type": "markdown",
   "metadata": {},
   "source": [
    "## Data Summary"
   ]
  },
  {
   "cell_type": "code",
   "execution_count": null,
   "metadata": {},
   "outputs": [],
   "source": [
    "data = pd.read_csv('data/100_Batches_IndPenSim_V3.csv'); \n",
    "\n",
    "variable_raman_data = np.split(data, [data.columns.get_loc(\"2400\")], axis=1); \n",
    "variable_data = variable_raman_data[0]; \n",
    "print(variable_data.columns); \n",
    "variable_data"
   ]
  },
  {
   "cell_type": "markdown",
   "metadata": {},
   "source": [
    "\n",
    "## Data Processing\n",
    "### Split data into spectral and process data\n",
    "Splitting the data into process measurement data and Raman spectroscopy data"
   ]
  },
  {
   "cell_type": "code",
   "execution_count": null,
   "metadata": {},
   "outputs": [],
   "source": [
    "variable_data.describe(); \n",
    "### Reable Batch ID's correctly\n",
    "variable_data = variable_data.rename(columns={'2-PAT control(PAT_ref:PAT ref)': 'Batch reference(Batch_ref:Batch ref)','Batch reference(Batch_ref:Batch ref)':'2-PAT control(PAT_ref:PAT ref)'}); \n",
    "\n",
    "cleanups = [\"Ammonia\", \"PAT\", \"Batch ID\", \"Raman\", \"RPM\", \"Fault flag\", \"Weight\", \"evolution\"]; \n",
    "for name in cleanups:\n",
    "    variable_data = variable_data[variable_data.columns.drop(list(variable_data.filter(regex=name)))]; \n",
    "\n",
    "variable_data = variable_data.dropna(thresh=variable_data.shape[0]*0.6,axis=1); # Remove rows more than 60% empty\n",
    "variable_data.drop(columns=variable_data.columns[variable_data.eq(0.0).mean()>0.85]); # Remove cols with more than 85% 0s\n",
    "\n",
    "variable_data = variable_data.fillna(0) # Fill NA\n",
    "variable_data.to_csv(\"data/clean_data.csv\", sep=',', index=False); "
   ]
  },
  {
   "cell_type": "code",
   "execution_count": null,
   "metadata": {},
   "outputs": [],
   "source": [
    "cols = variable_data.columns.to_list(); \n",
    "\n",
    "with open('data/V3_heads.jsonc', 'w') as f:\n",
    "    f.write(\"{\\n\"); \n",
    "    for idx,line in enumerate(cols):\n",
    "        f.write(\"\\t\\\"%s::none\\\":\\\"%s\\\",\\n\" % (idx,line)); \n",
    "    f.write(\"}\"); \n",
    "\n",
    "\n",
    "print(cols); \n",
    "variable_data"
   ]
  },
  {
   "cell_type": "code",
   "execution_count": null,
   "metadata": {},
   "outputs": [],
   "source": [
    "corr_matrix = variable_data.corr().abs(); \n",
    "corr_matrix"
   ]
  },
  {
   "cell_type": "code",
   "execution_count": null,
   "metadata": {},
   "outputs": [],
   "source": [
    "# Select upper triangle of correlation matrix\n",
    "upper = corr_matrix.where(np.triu(np.ones(corr_matrix.shape), k=1).astype(bool)); \n",
    "\n",
    "to_drop = [column for column in upper.columns if any(upper[column] > 0.95)]; \n",
    "print(to_drop)"
   ]
  },
  {
   "cell_type": "code",
   "execution_count": null,
   "metadata": {},
   "outputs": [],
   "source": []
  },
  {
   "cell_type": "code",
   "execution_count": null,
   "metadata": {},
   "outputs": [],
   "source": []
  }
 ],
 "metadata": {
  "hide_input": true,
  "kernelspec": {
   "display_name": "Python 3.10.7 64-bit",
   "language": "python",
   "name": "python3"
  },
  "language_info": {
   "codemirror_mode": {
    "name": "ipython",
    "version": 3
   },
   "file_extension": ".py",
   "mimetype": "text/x-python",
   "name": "python",
   "nbconvert_exporter": "python",
   "pygments_lexer": "ipython3",
   "version": "3.10.7"
  },
  "toc": {
   "base_numbering": 1,
   "nav_menu": {},
   "number_sections": true,
   "sideBar": true,
   "skip_h1_title": false,
   "title_cell": "Table of Contents",
   "title_sidebar": "Contents",
   "toc_cell": false,
   "toc_position": {},
   "toc_section_display": true,
   "toc_window_display": true
  },
  "vscode": {
   "interpreter": {
    "hash": "b0fa6594d8f4cbf19f97940f81e996739fb7646882a419484c72d19e05852a7e"
   }
  }
 },
 "nbformat": 4,
 "nbformat_minor": 2
}
