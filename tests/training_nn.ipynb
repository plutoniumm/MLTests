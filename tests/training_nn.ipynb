{
 "cells": [
  {
   "cell_type": "code",
   "execution_count": 1,
   "metadata": {},
   "outputs": [],
   "source": [
    "import torch \n",
    "import torch.nn as nn"
   ]
  },
  {
   "cell_type": "code",
   "execution_count": 5,
   "metadata": {},
   "outputs": [],
   "source": [
    "# https://www.tutorialspoint.com/pytorch/pytorch_implementing_first_neural_network.htm\n",
    "# Defining input size, hidden layer size, output size and batch size respectively\n",
    "n_in, n_h, n_out, batch_size = 10, 5, 1, 10"
   ]
  },
  {
   "cell_type": "code",
   "execution_count": 3,
   "metadata": {},
   "outputs": [],
   "source": [
    "# Create dummy input and target tensors (data)\n",
    "x = torch.randn(batch_size, n_in)\n",
    "y = torch.tensor([[1.0], [0.0], [0.0], \n",
    "[1.0], [1.0], [1.0], [0.0], [0.0], [1.0], [1.0]])"
   ]
  },
  {
   "cell_type": "code",
   "execution_count": 4,
   "metadata": {},
   "outputs": [],
   "source": [
    "# Create a model\n",
    "model = nn.Sequential(nn.Linear(n_in, n_h),\n",
    "   nn.ReLU(),\n",
    "   nn.Linear(n_h, n_out),\n",
    "   nn.Sigmoid())"
   ]
  },
  {
   "cell_type": "code",
   "execution_count": 7,
   "metadata": {},
   "outputs": [],
   "source": [
    "# Construct the loss function\n",
    "criterion = torch.nn.MSELoss()\n",
    "# Construct the optimizer (Stochastic Gradient Descent in this case)\n",
    "optimizer = torch.optim.SGD(model.parameters(), lr = 0.01)"
   ]
  },
  {
   "cell_type": "code",
   "execution_count": 8,
   "metadata": {},
   "outputs": [
    {
     "name": "stdout",
     "output_type": "stream",
     "text": [
      "epoch:  0  loss:  0.2783554494380951\n",
      "epoch:  1  loss:  0.27823466062545776\n",
      "epoch:  2  loss:  0.27811405062675476\n",
      "epoch:  3  loss:  0.27799367904663086\n",
      "epoch:  4  loss:  0.27787351608276367\n",
      "epoch:  5  loss:  0.2777535915374756\n",
      "epoch:  6  loss:  0.27763381600379944\n",
      "epoch:  7  loss:  0.2775142788887024\n",
      "epoch:  8  loss:  0.2773950397968292\n",
      "epoch:  9  loss:  0.27727586030960083\n",
      "epoch:  10  loss:  0.2771569490432739\n",
      "epoch:  11  loss:  0.27703821659088135\n",
      "epoch:  12  loss:  0.27691978216171265\n",
      "epoch:  13  loss:  0.2768014371395111\n",
      "epoch:  14  loss:  0.27668336033821106\n",
      "epoch:  15  loss:  0.2765654921531677\n",
      "epoch:  16  loss:  0.27644777297973633\n",
      "epoch:  17  loss:  0.27633029222488403\n",
      "epoch:  18  loss:  0.27621302008628845\n",
      "epoch:  19  loss:  0.276095986366272\n",
      "epoch:  20  loss:  0.27597910165786743\n",
      "epoch:  21  loss:  0.2758623957633972\n",
      "epoch:  22  loss:  0.2757459580898285\n",
      "epoch:  23  loss:  0.2756296992301941\n",
      "epoch:  24  loss:  0.27551358938217163\n",
      "epoch:  25  loss:  0.27539771795272827\n",
      "epoch:  26  loss:  0.27528199553489685\n",
      "epoch:  27  loss:  0.2751665413379669\n",
      "epoch:  28  loss:  0.2750512957572937\n",
      "epoch:  29  loss:  0.27493613958358765\n",
      "epoch:  30  loss:  0.2748212218284607\n",
      "epoch:  31  loss:  0.27470654249191284\n",
      "epoch:  32  loss:  0.27459201216697693\n",
      "epoch:  33  loss:  0.27447769045829773\n",
      "epoch:  34  loss:  0.27436357736587524\n",
      "epoch:  35  loss:  0.2742496132850647\n",
      "epoch:  36  loss:  0.27413588762283325\n",
      "epoch:  37  loss:  0.27402231097221375\n",
      "epoch:  38  loss:  0.27390897274017334\n",
      "epoch:  39  loss:  0.2737957239151001\n",
      "epoch:  40  loss:  0.27368274331092834\n",
      "epoch:  41  loss:  0.2735699415206909\n",
      "epoch:  42  loss:  0.27345728874206543\n",
      "epoch:  43  loss:  0.27334487438201904\n",
      "epoch:  44  loss:  0.2732326090335846\n",
      "epoch:  45  loss:  0.27312058210372925\n",
      "epoch:  46  loss:  0.27300867438316345\n",
      "epoch:  47  loss:  0.272896945476532\n",
      "epoch:  48  loss:  0.2727854251861572\n",
      "epoch:  49  loss:  0.2726741433143616\n"
     ]
    }
   ],
   "source": [
    "# Gradient Descent\n",
    "for epoch in range(50):\n",
    "   # Forward pass: Compute predicted y by passing x to the model\n",
    "   y_pred = model(x)\n",
    "\n",
    "   # Compute and print loss\n",
    "   loss = criterion(y_pred, y)\n",
    "   print('epoch: ', epoch,' loss: ', loss.item())\n",
    "\n",
    "   # Zero gradients, perform a backward pass, and update the weights.\n",
    "   optimizer.zero_grad()\n",
    "\n",
    "   # perform a backward pass (backpropagation)\n",
    "   loss.backward()\n",
    "\n",
    "   # Update the parameters\n",
    "   optimizer.step()"
   ]
  },
  {
   "cell_type": "code",
   "execution_count": null,
   "metadata": {},
   "outputs": [],
   "source": []
  }
 ],
 "metadata": {
  "kernelspec": {
   "display_name": "Python 3.10.7 64-bit",
   "language": "python",
   "name": "python3"
  },
  "language_info": {
   "codemirror_mode": {
    "name": "ipython",
    "version": 3
   },
   "file_extension": ".py",
   "mimetype": "text/x-python",
   "name": "python",
   "nbconvert_exporter": "python",
   "pygments_lexer": "ipython3",
   "version": "3.10.7"
  },
  "orig_nbformat": 4,
  "vscode": {
   "interpreter": {
    "hash": "b0fa6594d8f4cbf19f97940f81e996739fb7646882a419484c72d19e05852a7e"
   }
  }
 },
 "nbformat": 4,
 "nbformat_minor": 2
}
